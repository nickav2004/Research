{
 "cells": [
  {
   "metadata": {
    "ExecuteTime": {
     "end_time": "2025-06-25T18:14:49.880384Z",
     "start_time": "2025-06-25T18:14:49.874994Z"
    }
   },
   "cell_type": "code",
   "source": [
    "import sympy as sp\n",
    "from sympy import MutableDenseMatrix\n",
    "from functions import compute_monodromy_matrix, compute_trace_and_discriminant, is_irreducible"
   ],
   "id": "882a69fb6b80ed28",
   "outputs": [],
   "execution_count": 6
  },
  {
   "metadata": {
    "ExecuteTime": {
     "end_time": "2025-06-25T18:15:11.559434Z",
     "start_time": "2025-06-25T18:14:49.948852Z"
    }
   },
   "cell_type": "code",
   "source": [
    "def main(period: int, energy_param: str = 'z') -> tuple[MutableDenseMatrix, object, list[sp.Symbol]]:\n",
    "    \"\"\"\n",
    "    Main function to analyze discrete periodic Schrödinger operator\n",
    "\n",
    "    Parameters:\n",
    "    period (int): Period of the potential (default 3)\n",
    "    energy_param (str): Energy parameter symbol (default 'z')\n",
    "    \"\"\"\n",
    "    print(f\"Analyzing discrete periodic Schrödinger operator\")\n",
    "    print(f\"Period: {period}\")\n",
    "    print(f\"Energy parameter: {energy_param}\")\n",
    "    print(\"=\" * 50)\n",
    "\n",
    "    # Compute monodromy matrix\n",
    "    monodromy, potentials = compute_monodromy_matrix(period, energy_param)\n",
    "\n",
    "    # Compute discriminant\n",
    "    discriminant = compute_trace_and_discriminant(monodromy)\n",
    "\n",
    "    # print(\"Discriminant (Trace of Monodromy Matrix):\")\n",
    "    # sp.pprint(discriminant)\n",
    "    # print()\n",
    "\n",
    "    return monodromy, discriminant, potentials\n",
    "\n",
    "\n",
    "if __name__ == \"__main__\":\n",
    "    monodromy_matrix, discriminant_expr, potential_var = main(period=6)\n",
    "    monodromy_matrix_2, discriminant_expr_2, potential_var_2 = main(period=6, energy_param='y')\n",
    "\n",
    "    # Monodromy Matrix entries\n",
    "    # print()\n",
    "    # for i in range(4):\n",
    "    #     print(f\"Monodromy Matrix Entry: {i + 1}\")\n",
    "    #     sp.pprint(monodromy_matrix[i])\n",
    "    #     print()\n",
    "\n",
    "    E = sp.symbols('E')\n",
    "    z = sp.symbols('z')\n",
    "    # equations = cycle_potentials(sp.Eq(monodromy_matrix[3], 1), potential_var, len(potential_var))\n",
    "    equations = []\n",
    "\n",
    "    equations.append(sp.Eq(monodromy_matrix[0], 1))\n",
    "    equations.append(sp.Eq(monodromy_matrix[1], 0))\n",
    "    equations.append(sp.Eq(monodromy_matrix[2], 0))\n",
    "    equations.append(sp.Eq(monodromy_matrix[3], 1))\n",
    "\n",
    "    equations.append(sp.Eq(monodromy_matrix_2[0], 1))\n",
    "    equations.append(sp.Eq(monodromy_matrix_2[1], 0))\n",
    "    equations.append(sp.Eq(monodromy_matrix_2[2], 0))\n",
    "    equations.append(sp.Eq(monodromy_matrix_2[3], 1))\n",
    "\n",
    "    # for i, eq in enumerate(equations):\n",
    "    #     equations[i] = eq.subs(z, 0)\n",
    "\n",
    "    solutions = sp.solve(equations, potential_var, dict=True)\n",
    "\n",
    "    for solution in solutions:\n",
    "        for key, value in solution.items():\n",
    "            print(f\"{key}: {value}\")\n",
    "        print()\n",
    "\n",
    "    if solutions:\n",
    "        print(\"=== SOLUTION ANALYSIS ===\")\n",
    "\n",
    "        for i, solution_dict in enumerate(solutions):\n",
    "            print(f\"\\nSolution set {i + 1}:\")\n",
    "\n",
    "            # Convert to list format\n",
    "            solution_list = [solution_dict.get(var, var) for var in potential_var]\n",
    "            print(f\"As list: {solution_list}\")\n",
    "\n",
    "            # Check if irreducible\n",
    "            is_solution_irreducible = is_irreducible(solution_list)\n",
    "            print(f\"Is irreducible: {is_solution_irreducible}\")\n",
    "\n",
    "            # Print individual values\n",
    "            for var in potential_var:\n",
    "                value = solution_dict.get(var, var)\n",
    "                print(f\"{var}: {value}\")\n",
    "    else:\n",
    "        print(\"No solutions found!\")\n"
   ],
   "id": "d745099da3be65c2",
   "outputs": [
    {
     "name": "stdout",
     "output_type": "stream",
     "text": [
      "Analyzing discrete periodic Schrödinger operator\n",
      "Period: 6\n",
      "Energy parameter: z\n",
      "==================================================\n",
      "Created potentials: ['V_1', 'V_2', 'V_3', 'V_4', 'V_5', 'V_6']\n",
      "Analyzing discrete periodic Schrödinger operator\n",
      "Period: 6\n",
      "Energy parameter: y\n",
      "==================================================\n",
      "Created potentials: ['V_1', 'V_2', 'V_3', 'V_4', 'V_5', 'V_6']\n"
     ]
    },
    {
     "ename": "KeyboardInterrupt",
     "evalue": "",
     "output_type": "error",
     "traceback": [
      "\u001B[31m---------------------------------------------------------------------------\u001B[39m",
      "\u001B[31mKeyboardInterrupt\u001B[39m                         Traceback (most recent call last)",
      "\u001B[36mCell\u001B[39m\u001B[36m \u001B[39m\u001B[32mIn[7]\u001B[39m\u001B[32m, line 56\u001B[39m\n\u001B[32m     51\u001B[39m equations.append(sp.Eq(monodromy_matrix_2[\u001B[32m3\u001B[39m], \u001B[32m1\u001B[39m))\n\u001B[32m     53\u001B[39m \u001B[38;5;66;03m# for i, eq in enumerate(equations):\u001B[39;00m\n\u001B[32m     54\u001B[39m \u001B[38;5;66;03m#     equations[i] = eq.subs(z, 0)\u001B[39;00m\n\u001B[32m---> \u001B[39m\u001B[32m56\u001B[39m solutions = \u001B[43msp\u001B[49m\u001B[43m.\u001B[49m\u001B[43msolve\u001B[49m\u001B[43m(\u001B[49m\u001B[43mequations\u001B[49m\u001B[43m,\u001B[49m\u001B[43m \u001B[49m\u001B[43mpotential_var\u001B[49m\u001B[43m,\u001B[49m\u001B[43m \u001B[49m\u001B[38;5;28;43mdict\u001B[39;49m\u001B[43m=\u001B[49m\u001B[38;5;28;43;01mTrue\u001B[39;49;00m\u001B[43m)\u001B[49m\n\u001B[32m     58\u001B[39m \u001B[38;5;28;01mfor\u001B[39;00m solution \u001B[38;5;129;01min\u001B[39;00m solutions:\n\u001B[32m     59\u001B[39m     \u001B[38;5;28;01mfor\u001B[39;00m key, value \u001B[38;5;129;01min\u001B[39;00m solution.items():\n",
      "\u001B[36mFile \u001B[39m\u001B[32m~/PycharmProjects/Research/.venv/lib/python3.13/site-packages/sympy/solvers/solvers.py:1170\u001B[39m, in \u001B[36msolve\u001B[39m\u001B[34m(f, *symbols, **flags)\u001B[39m\n\u001B[32m   1168\u001B[39m         solution = _solve(f[\u001B[32m0\u001B[39m], *symbols, **flags)\n\u001B[32m   1169\u001B[39m \u001B[38;5;28;01melse\u001B[39;00m:\n\u001B[32m-> \u001B[39m\u001B[32m1170\u001B[39m     linear, solution = \u001B[43m_solve_system\u001B[49m\u001B[43m(\u001B[49m\u001B[43mf\u001B[49m\u001B[43m,\u001B[49m\u001B[43m \u001B[49m\u001B[43msymbols\u001B[49m\u001B[43m,\u001B[49m\u001B[43m \u001B[49m\u001B[43m*\u001B[49m\u001B[43m*\u001B[49m\u001B[43mflags\u001B[49m\u001B[43m)\u001B[49m\n\u001B[32m   1171\u001B[39m \u001B[38;5;28;01massert\u001B[39;00m \u001B[38;5;28mtype\u001B[39m(solution) \u001B[38;5;129;01mis\u001B[39;00m \u001B[38;5;28mlist\u001B[39m\n\u001B[32m   1172\u001B[39m \u001B[38;5;28;01massert\u001B[39;00m \u001B[38;5;129;01mnot\u001B[39;00m solution \u001B[38;5;129;01mor\u001B[39;00m \u001B[38;5;28mtype\u001B[39m(solution[\u001B[32m0\u001B[39m]) \u001B[38;5;129;01mis\u001B[39;00m \u001B[38;5;28mdict\u001B[39m, solution\n",
      "\u001B[36mFile \u001B[39m\u001B[32m~/PycharmProjects/Research/.venv/lib/python3.13/site-packages/sympy/solvers/solvers.py:1892\u001B[39m, in \u001B[36m_solve_system\u001B[39m\u001B[34m(exprs, symbols, **flags)\u001B[39m\n\u001B[32m   1890\u001B[39m \u001B[38;5;28;01melse\u001B[39;00m:\n\u001B[32m   1891\u001B[39m     \u001B[38;5;28;01mtry\u001B[39;00m:\n\u001B[32m-> \u001B[39m\u001B[32m1892\u001B[39m         result = \u001B[43msolve_poly_system\u001B[49m\u001B[43m(\u001B[49m\u001B[43mpolys\u001B[49m\u001B[43m,\u001B[49m\u001B[43m \u001B[49m\u001B[43m*\u001B[49m\u001B[43msymbols\u001B[49m\u001B[43m)\u001B[49m\n\u001B[32m   1893\u001B[39m         \u001B[38;5;28;01mif\u001B[39;00m result:\n\u001B[32m   1894\u001B[39m             solved_syms = symbols\n",
      "\u001B[36mFile \u001B[39m\u001B[32m~/PycharmProjects/Research/.venv/lib/python3.13/site-packages/sympy/solvers/polysys.py:98\u001B[39m, in \u001B[36msolve_poly_system\u001B[39m\u001B[34m(seq, strict, *gens, **args)\u001B[39m\n\u001B[32m     95\u001B[39m         \u001B[38;5;28;01mexcept\u001B[39;00m SolveFailed:\n\u001B[32m     96\u001B[39m             \u001B[38;5;28;01mpass\u001B[39;00m\n\u001B[32m---> \u001B[39m\u001B[32m98\u001B[39m \u001B[38;5;28;01mreturn\u001B[39;00m \u001B[43msolve_generic\u001B[49m\u001B[43m(\u001B[49m\u001B[43mpolys\u001B[49m\u001B[43m,\u001B[49m\u001B[43m \u001B[49m\u001B[43mopt\u001B[49m\u001B[43m,\u001B[49m\u001B[43m \u001B[49m\u001B[43mstrict\u001B[49m\u001B[43m=\u001B[49m\u001B[43mstrict\u001B[49m\u001B[43m)\u001B[49m\n",
      "\u001B[36mFile \u001B[39m\u001B[32m~/PycharmProjects/Research/.venv/lib/python3.13/site-packages/sympy/solvers/polysys.py:353\u001B[39m, in \u001B[36msolve_generic\u001B[39m\u001B[34m(polys, opt, strict)\u001B[39m\n\u001B[32m    350\u001B[39m     \u001B[38;5;28;01mreturn\u001B[39;00m solutions\n\u001B[32m    352\u001B[39m \u001B[38;5;28;01mtry\u001B[39;00m:\n\u001B[32m--> \u001B[39m\u001B[32m353\u001B[39m     result = \u001B[43m_solve_reduced_system\u001B[49m\u001B[43m(\u001B[49m\u001B[43mpolys\u001B[49m\u001B[43m,\u001B[49m\u001B[43m \u001B[49m\u001B[43mopt\u001B[49m\u001B[43m.\u001B[49m\u001B[43mgens\u001B[49m\u001B[43m,\u001B[49m\u001B[43m \u001B[49m\u001B[43mentry\u001B[49m\u001B[43m=\u001B[49m\u001B[38;5;28;43;01mTrue\u001B[39;49;00m\u001B[43m)\u001B[49m\n\u001B[32m    354\u001B[39m \u001B[38;5;28;01mexcept\u001B[39;00m CoercionFailed:\n\u001B[32m    355\u001B[39m     \u001B[38;5;28;01mraise\u001B[39;00m \u001B[38;5;167;01mNotImplementedError\u001B[39;00m\n",
      "\u001B[36mFile \u001B[39m\u001B[32m~/PycharmProjects/Research/.venv/lib/python3.13/site-packages/sympy/solvers/polysys.py:293\u001B[39m, in \u001B[36msolve_generic.<locals>._solve_reduced_system\u001B[39m\u001B[34m(system, gens, entry)\u001B[39m\n\u001B[32m    290\u001B[39m     zeros = \u001B[38;5;28mlist\u001B[39m(roots(system[\u001B[32m0\u001B[39m], gens[-\u001B[32m1\u001B[39m], strict=strict).keys())\n\u001B[32m    291\u001B[39m     \u001B[38;5;28;01mreturn\u001B[39;00m [(zero,) \u001B[38;5;28;01mfor\u001B[39;00m zero \u001B[38;5;129;01min\u001B[39;00m zeros]\n\u001B[32m--> \u001B[39m\u001B[32m293\u001B[39m basis = \u001B[43mgroebner\u001B[49m\u001B[43m(\u001B[49m\u001B[43msystem\u001B[49m\u001B[43m,\u001B[49m\u001B[43m \u001B[49m\u001B[43mgens\u001B[49m\u001B[43m,\u001B[49m\u001B[43m \u001B[49m\u001B[43mpolys\u001B[49m\u001B[43m=\u001B[49m\u001B[38;5;28;43;01mTrue\u001B[39;49;00m\u001B[43m)\u001B[49m\n\u001B[32m    295\u001B[39m \u001B[38;5;28;01mif\u001B[39;00m \u001B[38;5;28mlen\u001B[39m(basis) == \u001B[32m1\u001B[39m \u001B[38;5;129;01mand\u001B[39;00m basis[\u001B[32m0\u001B[39m].is_ground:\n\u001B[32m    296\u001B[39m     \u001B[38;5;28;01mif\u001B[39;00m \u001B[38;5;129;01mnot\u001B[39;00m entry:\n",
      "\u001B[36mFile \u001B[39m\u001B[32m~/PycharmProjects/Research/.venv/lib/python3.13/site-packages/sympy/polys/polytools.py:7535\u001B[39m, in \u001B[36mgroebner\u001B[39m\u001B[34m(F, *gens, **args)\u001B[39m\n\u001B[32m   7484\u001B[39m \u001B[38;5;129m@public\u001B[39m\n\u001B[32m   7485\u001B[39m \u001B[38;5;28;01mdef\u001B[39;00m\u001B[38;5;250m \u001B[39m\u001B[34mgroebner\u001B[39m(F, *gens, **args):\n\u001B[32m   7486\u001B[39m \u001B[38;5;250m    \u001B[39m\u001B[33;03m\"\"\"\u001B[39;00m\n\u001B[32m   7487\u001B[39m \u001B[33;03m    Computes the reduced Groebner basis for a set of polynomials.\u001B[39;00m\n\u001B[32m   7488\u001B[39m \n\u001B[32m   (...)\u001B[39m\u001B[32m   7533\u001B[39m \n\u001B[32m   7534\u001B[39m \u001B[33;03m    \"\"\"\u001B[39;00m\n\u001B[32m-> \u001B[39m\u001B[32m7535\u001B[39m     \u001B[38;5;28;01mreturn\u001B[39;00m \u001B[43mGroebnerBasis\u001B[49m\u001B[43m(\u001B[49m\u001B[43mF\u001B[49m\u001B[43m,\u001B[49m\u001B[43m \u001B[49m\u001B[43m*\u001B[49m\u001B[43mgens\u001B[49m\u001B[43m,\u001B[49m\u001B[43m \u001B[49m\u001B[43m*\u001B[49m\u001B[43m*\u001B[49m\u001B[43margs\u001B[49m\u001B[43m)\u001B[49m\n",
      "\u001B[36mFile \u001B[39m\u001B[32m~/PycharmProjects/Research/.venv/lib/python3.13/site-packages/sympy/polys/polytools.py:7574\u001B[39m, in \u001B[36mGroebnerBasis.__new__\u001B[39m\u001B[34m(cls, F, *gens, **args)\u001B[39m\n\u001B[32m   7570\u001B[39m ring = PolyRing(opt.gens, opt.domain, opt.order)\n\u001B[32m   7572\u001B[39m polys = [ring.from_dict(poly.rep.to_dict()) \u001B[38;5;28;01mfor\u001B[39;00m poly \u001B[38;5;129;01min\u001B[39;00m polys \u001B[38;5;28;01mif\u001B[39;00m poly]\n\u001B[32m-> \u001B[39m\u001B[32m7574\u001B[39m G = \u001B[43m_groebner\u001B[49m\u001B[43m(\u001B[49m\u001B[43mpolys\u001B[49m\u001B[43m,\u001B[49m\u001B[43m \u001B[49m\u001B[43mring\u001B[49m\u001B[43m,\u001B[49m\u001B[43m \u001B[49m\u001B[43mmethod\u001B[49m\u001B[43m=\u001B[49m\u001B[43mopt\u001B[49m\u001B[43m.\u001B[49m\u001B[43mmethod\u001B[49m\u001B[43m)\u001B[49m\n\u001B[32m   7575\u001B[39m G = [Poly._from_dict(g, opt) \u001B[38;5;28;01mfor\u001B[39;00m g \u001B[38;5;129;01min\u001B[39;00m G]\n\u001B[32m   7577\u001B[39m \u001B[38;5;28;01mreturn\u001B[39;00m \u001B[38;5;28mcls\u001B[39m._new(G, opt)\n",
      "\u001B[36mFile \u001B[39m\u001B[32m~/PycharmProjects/Research/.venv/lib/python3.13/site-packages/sympy/polys/groebnertools.py:43\u001B[39m, in \u001B[36mgroebner\u001B[39m\u001B[34m(seq, ring, method)\u001B[39m\n\u001B[32m     40\u001B[39m     \u001B[38;5;28;01melse\u001B[39;00m:\n\u001B[32m     41\u001B[39m         seq = [ s.set_ring(ring) \u001B[38;5;28;01mfor\u001B[39;00m s \u001B[38;5;129;01min\u001B[39;00m seq ]\n\u001B[32m---> \u001B[39m\u001B[32m43\u001B[39m G = \u001B[43m_groebner\u001B[49m\u001B[43m(\u001B[49m\u001B[43mseq\u001B[49m\u001B[43m,\u001B[49m\u001B[43m \u001B[49m\u001B[43mring\u001B[49m\u001B[43m)\u001B[49m\n\u001B[32m     45\u001B[39m \u001B[38;5;28;01mif\u001B[39;00m orig \u001B[38;5;129;01mis\u001B[39;00m \u001B[38;5;129;01mnot\u001B[39;00m \u001B[38;5;28;01mNone\u001B[39;00m:\n\u001B[32m     46\u001B[39m     G = [ g.clear_denoms()[\u001B[32m1\u001B[39m].set_ring(orig) \u001B[38;5;28;01mfor\u001B[39;00m g \u001B[38;5;129;01min\u001B[39;00m G ]\n",
      "\u001B[36mFile \u001B[39m\u001B[32m~/PycharmProjects/Research/.venv/lib/python3.13/site-packages/sympy/polys/groebnertools.py:238\u001B[39m, in \u001B[36m_buchberger\u001B[39m\u001B[34m(f, ring)\u001B[39m\n\u001B[32m    236\u001B[39m \u001B[38;5;66;03m# ordering divisors is on average more efficient [Cox] page 111\u001B[39;00m\n\u001B[32m    237\u001B[39m G1 = \u001B[38;5;28msorted\u001B[39m(G, key=\u001B[38;5;28;01mlambda\u001B[39;00m g: order(f[g].LM))\n\u001B[32m--> \u001B[39m\u001B[32m238\u001B[39m ht = \u001B[43mnormal\u001B[49m\u001B[43m(\u001B[49m\u001B[43mh\u001B[49m\u001B[43m,\u001B[49m\u001B[43m \u001B[49m\u001B[43mG1\u001B[49m\u001B[43m)\u001B[49m\n\u001B[32m    240\u001B[39m \u001B[38;5;28;01mif\u001B[39;00m ht:\n\u001B[32m    241\u001B[39m     G, CP = update(G, CP, ht[\u001B[32m1\u001B[39m])\n",
      "\u001B[36mFile \u001B[39m\u001B[32m~/PycharmProjects/Research/.venv/lib/python3.13/site-packages/sympy/polys/groebnertools.py:104\u001B[39m, in \u001B[36m_buchberger.<locals>.normal\u001B[39m\u001B[34m(g, J)\u001B[39m\n\u001B[32m    103\u001B[39m \u001B[38;5;28;01mdef\u001B[39;00m\u001B[38;5;250m \u001B[39m\u001B[34mnormal\u001B[39m(g, J):\n\u001B[32m--> \u001B[39m\u001B[32m104\u001B[39m     h = \u001B[43mg\u001B[49m\u001B[43m.\u001B[49m\u001B[43mrem\u001B[49m\u001B[43m(\u001B[49m\u001B[43m[\u001B[49m\u001B[43m \u001B[49m\u001B[43mf\u001B[49m\u001B[43m[\u001B[49m\u001B[43mj\u001B[49m\u001B[43m]\u001B[49m\u001B[43m \u001B[49m\u001B[38;5;28;43;01mfor\u001B[39;49;00m\u001B[43m \u001B[49m\u001B[43mj\u001B[49m\u001B[43m \u001B[49m\u001B[38;5;129;43;01min\u001B[39;49;00m\u001B[43m \u001B[49m\u001B[43mJ\u001B[49m\u001B[43m \u001B[49m\u001B[43m]\u001B[49m\u001B[43m)\u001B[49m\n\u001B[32m    106\u001B[39m     \u001B[38;5;28;01mif\u001B[39;00m \u001B[38;5;129;01mnot\u001B[39;00m h:\n\u001B[32m    107\u001B[39m         \u001B[38;5;28;01mreturn\u001B[39;00m \u001B[38;5;28;01mNone\u001B[39;00m\n",
      "\u001B[36mFile \u001B[39m\u001B[32m~/PycharmProjects/Research/.venv/lib/python3.13/site-packages/sympy/polys/rings.py:1593\u001B[39m, in \u001B[36mPolyElement.rem\u001B[39m\u001B[34m(self, G)\u001B[39m\n\u001B[32m   1591\u001B[39m \u001B[38;5;28;01mfor\u001B[39;00m mg, cg \u001B[38;5;129;01min\u001B[39;00m g.iterterms():\n\u001B[32m   1592\u001B[39m     m1 = monomial_mul(mg, m)\n\u001B[32m-> \u001B[39m\u001B[32m1593\u001B[39m     c1 = get(m1, zero) - \u001B[43mc\u001B[49m\u001B[43m*\u001B[49m\u001B[43mcg\u001B[49m\n\u001B[32m   1594\u001B[39m     \u001B[38;5;28;01mif\u001B[39;00m \u001B[38;5;129;01mnot\u001B[39;00m c1:\n\u001B[32m   1595\u001B[39m         \u001B[38;5;28;01mdel\u001B[39;00m f[m1]\n",
      "\u001B[36mFile \u001B[39m\u001B[32m~/PycharmProjects/Research/.venv/lib/python3.13/site-packages/sympy/polys/fields.py:505\u001B[39m, in \u001B[36mFracElement.__mul__\u001B[39m\u001B[34m(f, g)\u001B[39m\n\u001B[32m    503\u001B[39m     \u001B[38;5;28;01mreturn\u001B[39;00m field.zero\n\u001B[32m    504\u001B[39m \u001B[38;5;28;01melif\u001B[39;00m field.is_element(g):\n\u001B[32m--> \u001B[39m\u001B[32m505\u001B[39m     \u001B[38;5;28;01mreturn\u001B[39;00m \u001B[43mf\u001B[49m\u001B[43m.\u001B[49m\u001B[43mnew\u001B[49m\u001B[43m(\u001B[49m\u001B[43mf\u001B[49m\u001B[43m.\u001B[49m\u001B[43mnumer\u001B[49m\u001B[43m*\u001B[49m\u001B[43mg\u001B[49m\u001B[43m.\u001B[49m\u001B[43mnumer\u001B[49m\u001B[43m,\u001B[49m\u001B[43m \u001B[49m\u001B[43mf\u001B[49m\u001B[43m.\u001B[49m\u001B[43mdenom\u001B[49m\u001B[43m*\u001B[49m\u001B[43mg\u001B[49m\u001B[43m.\u001B[49m\u001B[43mdenom\u001B[49m\u001B[43m)\u001B[49m\n\u001B[32m    506\u001B[39m \u001B[38;5;28;01melif\u001B[39;00m field.ring.is_element(g):\n\u001B[32m    507\u001B[39m     \u001B[38;5;28;01mreturn\u001B[39;00m f.new(f.numer*g, f.denom)\n",
      "\u001B[36mFile \u001B[39m\u001B[32m~/PycharmProjects/Research/.venv/lib/python3.13/site-packages/sympy/polys/fields.py:309\u001B[39m, in \u001B[36mFracElement.new\u001B[39m\u001B[34m(f, numer, denom)\u001B[39m\n\u001B[32m    308\u001B[39m \u001B[38;5;28;01mdef\u001B[39;00m\u001B[38;5;250m \u001B[39m\u001B[34mnew\u001B[39m(f, numer, denom):\n\u001B[32m--> \u001B[39m\u001B[32m309\u001B[39m     \u001B[38;5;28;01mreturn\u001B[39;00m f.raw_new(*\u001B[43mnumer\u001B[49m\u001B[43m.\u001B[49m\u001B[43mcancel\u001B[49m\u001B[43m(\u001B[49m\u001B[43mdenom\u001B[49m\u001B[43m)\u001B[49m)\n",
      "\u001B[36mFile \u001B[39m\u001B[32m~/PycharmProjects/Research/.venv/lib/python3.13/site-packages/sympy/polys/rings.py:2325\u001B[39m, in \u001B[36mPolyElement.cancel\u001B[39m\u001B[34m(self, g)\u001B[39m\n\u001B[32m   2322\u001B[39m domain = ring.domain\n\u001B[32m   2324\u001B[39m \u001B[38;5;28;01mif\u001B[39;00m \u001B[38;5;129;01mnot\u001B[39;00m (domain.is_Field \u001B[38;5;129;01mand\u001B[39;00m domain.has_assoc_Ring):\n\u001B[32m-> \u001B[39m\u001B[32m2325\u001B[39m     _, p, q = \u001B[43mf\u001B[49m\u001B[43m.\u001B[49m\u001B[43mcofactors\u001B[49m\u001B[43m(\u001B[49m\u001B[43mg\u001B[49m\u001B[43m)\u001B[49m\n\u001B[32m   2326\u001B[39m \u001B[38;5;28;01melse\u001B[39;00m:\n\u001B[32m   2327\u001B[39m     new_ring = ring.clone(domain=domain.get_ring())\n",
      "\u001B[36mFile \u001B[39m\u001B[32m~/PycharmProjects/Research/.venv/lib/python3.13/site-packages/sympy/polys/rings.py:2241\u001B[39m, in \u001B[36mPolyElement.cofactors\u001B[39m\u001B[34m(f, g)\u001B[39m\n\u001B[32m   2238\u001B[39m     \u001B[38;5;28;01mreturn\u001B[39;00m h, cff, cfg\n\u001B[32m   2240\u001B[39m J, (f, g) = f.deflate(g)\n\u001B[32m-> \u001B[39m\u001B[32m2241\u001B[39m h, cff, cfg = \u001B[43mf\u001B[49m\u001B[43m.\u001B[49m\u001B[43m_gcd\u001B[49m\u001B[43m(\u001B[49m\u001B[43mg\u001B[49m\u001B[43m)\u001B[49m\n\u001B[32m   2243\u001B[39m \u001B[38;5;28;01mreturn\u001B[39;00m (h.inflate(J), cff.inflate(J), cfg.inflate(J))\n",
      "\u001B[36mFile \u001B[39m\u001B[32m~/PycharmProjects/Research/.venv/lib/python3.13/site-packages/sympy/polys/rings.py:2274\u001B[39m, in \u001B[36mPolyElement._gcd\u001B[39m\u001B[34m(f, g)\u001B[39m\n\u001B[32m   2272\u001B[39m     \u001B[38;5;28;01mreturn\u001B[39;00m f._gcd_QQ(g)\n\u001B[32m   2273\u001B[39m \u001B[38;5;28;01melif\u001B[39;00m ring.domain.is_ZZ:\n\u001B[32m-> \u001B[39m\u001B[32m2274\u001B[39m     \u001B[38;5;28;01mreturn\u001B[39;00m \u001B[43mf\u001B[49m\u001B[43m.\u001B[49m\u001B[43m_gcd_ZZ\u001B[49m\u001B[43m(\u001B[49m\u001B[43mg\u001B[49m\u001B[43m)\u001B[49m\n\u001B[32m   2275\u001B[39m \u001B[38;5;28;01melse\u001B[39;00m: \u001B[38;5;66;03m# TODO: don't use dense representation (port PRS algorithms)\u001B[39;00m\n\u001B[32m   2276\u001B[39m     \u001B[38;5;28;01mreturn\u001B[39;00m ring.dmp_inner_gcd(f, g)\n",
      "\u001B[36mFile \u001B[39m\u001B[32m~/PycharmProjects/Research/.venv/lib/python3.13/site-packages/sympy/polys/rings.py:2279\u001B[39m, in \u001B[36mPolyElement._gcd_ZZ\u001B[39m\u001B[34m(f, g)\u001B[39m\n\u001B[32m   2278\u001B[39m \u001B[38;5;28;01mdef\u001B[39;00m\u001B[38;5;250m \u001B[39m\u001B[34m_gcd_ZZ\u001B[39m(f, g):\n\u001B[32m-> \u001B[39m\u001B[32m2279\u001B[39m     \u001B[38;5;28;01mreturn\u001B[39;00m \u001B[43mheugcd\u001B[49m\u001B[43m(\u001B[49m\u001B[43mf\u001B[49m\u001B[43m,\u001B[49m\u001B[43m \u001B[49m\u001B[43mg\u001B[49m\u001B[43m)\u001B[49m\n",
      "\u001B[36mFile \u001B[39m\u001B[32m~/PycharmProjects/Research/.venv/lib/python3.13/site-packages/sympy/polys/heuristicgcd.py:80\u001B[39m, in \u001B[36mheugcd\u001B[39m\u001B[34m(f, g)\u001B[39m\n\u001B[32m     78\u001B[39m     h, cff, cfg = domain.cofactors(ff, gg)\n\u001B[32m     79\u001B[39m \u001B[38;5;28;01melse\u001B[39;00m:\n\u001B[32m---> \u001B[39m\u001B[32m80\u001B[39m     h, cff, cfg = \u001B[43mheugcd\u001B[49m\u001B[43m(\u001B[49m\u001B[43mff\u001B[49m\u001B[43m,\u001B[49m\u001B[43m \u001B[49m\u001B[43mgg\u001B[49m\u001B[43m)\u001B[49m\n\u001B[32m     82\u001B[39m h = _gcd_interpolate(h, x, ring)\n\u001B[32m     83\u001B[39m h = h.primitive()[\u001B[32m1\u001B[39m]\n",
      "\u001B[36mFile \u001B[39m\u001B[32m~/PycharmProjects/Research/.venv/lib/python3.13/site-packages/sympy/polys/heuristicgcd.py:74\u001B[39m, in \u001B[36mheugcd\u001B[39m\u001B[34m(f, g)\u001B[39m\n\u001B[32m     72\u001B[39m \u001B[38;5;28;01mfor\u001B[39;00m i \u001B[38;5;129;01min\u001B[39;00m \u001B[38;5;28mrange\u001B[39m(\u001B[32m0\u001B[39m, HEU_GCD_MAX):\n\u001B[32m     73\u001B[39m     ff = f.evaluate(x0, x)\n\u001B[32m---> \u001B[39m\u001B[32m74\u001B[39m     gg = \u001B[43mg\u001B[49m\u001B[43m.\u001B[49m\u001B[43mevaluate\u001B[49m\u001B[43m(\u001B[49m\u001B[43mx0\u001B[49m\u001B[43m,\u001B[49m\u001B[43m \u001B[49m\u001B[43mx\u001B[49m\u001B[43m)\u001B[49m\n\u001B[32m     76\u001B[39m     \u001B[38;5;28;01mif\u001B[39;00m ff \u001B[38;5;129;01mand\u001B[39;00m gg:\n\u001B[32m     77\u001B[39m         \u001B[38;5;28;01mif\u001B[39;00m ring.ngens == \u001B[32m1\u001B[39m:\n",
      "\u001B[36mFile \u001B[39m\u001B[32m~/PycharmProjects/Research/.venv/lib/python3.13/site-packages/sympy/polys/rings.py:2393\u001B[39m, in \u001B[36mPolyElement.evaluate\u001B[39m\u001B[34m(self, x, a)\u001B[39m\n\u001B[32m   2390\u001B[39m     \u001B[38;5;28;01melse\u001B[39;00m:\n\u001B[32m   2391\u001B[39m         \u001B[38;5;28;01mraise\u001B[39;00m \u001B[38;5;167;01mValueError\u001B[39;00m(\u001B[33m\"\u001B[39m\u001B[33mexpected at least 1 and at most \u001B[39m\u001B[38;5;132;01m%s\u001B[39;00m\u001B[33m values, got \u001B[39m\u001B[38;5;132;01m%s\u001B[39;00m\u001B[33m\"\u001B[39m % (f.ring.ngens, \u001B[38;5;28mlen\u001B[39m(values)))\n\u001B[32m-> \u001B[39m\u001B[32m2393\u001B[39m \u001B[38;5;28;01mdef\u001B[39;00m\u001B[38;5;250m \u001B[39m\u001B[34mevaluate\u001B[39m(\u001B[38;5;28mself\u001B[39m, x, a=\u001B[38;5;28;01mNone\u001B[39;00m):\n\u001B[32m   2394\u001B[39m     f = \u001B[38;5;28mself\u001B[39m\n\u001B[32m   2396\u001B[39m     \u001B[38;5;28;01mif\u001B[39;00m \u001B[38;5;28misinstance\u001B[39m(x, \u001B[38;5;28mlist\u001B[39m) \u001B[38;5;129;01mand\u001B[39;00m a \u001B[38;5;129;01mis\u001B[39;00m \u001B[38;5;28;01mNone\u001B[39;00m:\n",
      "\u001B[31mKeyboardInterrupt\u001B[39m: "
     ]
    }
   ],
   "execution_count": 7
  }
 ],
 "metadata": {
  "kernelspec": {
   "display_name": "Python 3",
   "language": "python",
   "name": "python3"
  },
  "language_info": {
   "codemirror_mode": {
    "name": "ipython",
    "version": 2
   },
   "file_extension": ".py",
   "mimetype": "text/x-python",
   "name": "python",
   "nbconvert_exporter": "python",
   "pygments_lexer": "ipython2",
   "version": "2.7.6"
  }
 },
 "nbformat": 4,
 "nbformat_minor": 5
}
