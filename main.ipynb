{
 "cells": [
  {
   "metadata": {
    "ExecuteTime": {
     "end_time": "2025-07-08T03:55:53.250922Z",
     "start_time": "2025-07-08T03:55:52.623443Z"
    }
   },
   "cell_type": "code",
   "source": [
    "import sympy as sp\n",
    "from functions import cycle_potentials, is_irreducible, compute_periodic_schrodinger_system, \\\n",
    "    get_monodromy_identity_equations_split, compute_split_monodromy_identity, analyze_solutions, \\\n",
    "    substitute_free_variables, analyze_shifted_solutions, cycle_solution_variables, cycle_multiple_solutions, generate_all_cyclic_shifts"
   ],
   "id": "882a69fb6b80ed28",
   "outputs": [],
   "execution_count": 1
  },
  {
   "metadata": {
    "ExecuteTime": {
     "end_time": "2025-07-08T03:55:53.313309Z",
     "start_time": "2025-07-08T03:55:53.310741Z"
    }
   },
   "cell_type": "code",
   "source": [
    "E_1 = sp.symbols('E_1')\n",
    "E_2 = sp.symbols('E_2')"
   ],
   "id": "820576bd55f3c933",
   "outputs": [],
   "execution_count": 2
  },
  {
   "metadata": {},
   "cell_type": "markdown",
   "source": "# $\\textbf{Solutions for Period 4 Schrödinger Operators}$",
   "id": "d7b44618542879e2"
  },
  {
   "metadata": {},
   "cell_type": "markdown",
   "source": "### $\\text{Case 1.1. }\\Phi_v(E_1) = I$",
   "id": "6268c40850a0cfda"
  },
  {
   "metadata": {
    "ExecuteTime": {
     "end_time": "2025-07-08T03:55:53.685232Z",
     "start_time": "2025-07-08T03:55:53.332648Z"
    }
   },
   "cell_type": "code",
   "source": [
    "monodromy_matrix, discriminant_expr, potential_var = compute_periodic_schrodinger_system(period=4, energy_param='E_1')\n",
    "\n",
    "sign = 1\n",
    "\n",
    "equations = []\n",
    "for i in range(4):\n",
    "    equations.append(sp.Eq(monodromy_matrix[i], sign * sp.eye(2)[i]))\n",
    "\n",
    "solutions = sp.solve(equations, potential_var, dict=True)\n",
    "\n",
    "analyze_solutions(solutions, potential_var)"
   ],
   "id": "d745099da3be65c2",
   "outputs": [
    {
     "data": {
      "text/plain": [
       "<IPython.core.display.Markdown object>"
      ],
      "text/markdown": "$\\text{Computing periodic Schrödinger system for: }\\Phi_v(E_1)$"
     },
     "metadata": {},
     "output_type": "display_data"
    },
    {
     "name": "stdout",
     "output_type": "stream",
     "text": [
      "Period: 4\n",
      "Energy parameter: E_1\n",
      "==================================================\n",
      "Created potentials: ['V_1', 'V_2', 'V_3', 'V_4']\n",
      "\n",
      "==================================================================================================== \n",
      "\n",
      "=== SOLUTION ANALYSIS ===\n",
      "\n",
      "Solution set 1:\n",
      "As list: [E_1, 2*E_1 - V_4, E_1, V_4]\n",
      "Is irreducible: True\n",
      "V_1: E_1\n",
      "V_2: 2*E_1 - V_4\n",
      "V_3: E_1\n",
      "V_4: V_4\n",
      "\n",
      "Solution set 2:\n",
      "As list: [2*E_1 - V_3, E_1, V_3, E_1]\n",
      "Is irreducible: True\n",
      "V_1: 2*E_1 - V_3\n",
      "V_2: E_1\n",
      "V_3: V_3\n",
      "V_4: E_1\n"
     ]
    }
   ],
   "execution_count": 3
  },
  {
   "metadata": {},
   "cell_type": "markdown",
   "source": "### $\\text{Case 1.2 }\\Phi_v(E_1) = -I$",
   "id": "ff5cc2e1ef3d50dd"
  },
  {
   "metadata": {
    "ExecuteTime": {
     "end_time": "2025-07-08T03:55:54.081767Z",
     "start_time": "2025-07-08T03:55:53.700539Z"
    }
   },
   "cell_type": "code",
   "source": [
    "monodromy_matrix, discriminant_expr, potential_var = compute_periodic_schrodinger_system(period=4, energy_param='E_1')\n",
    "\n",
    "sign = -1\n",
    "\n",
    "equations = []\n",
    "for i in range(4):\n",
    "    equations.append(sp.Eq(monodromy_matrix[i], sign * sp.eye(2)[i]))\n",
    "\n",
    "solutions = sp.solve(equations, potential_var, dict=True)\n",
    "\n",
    "analyze_solutions(solutions, potential_var)"
   ],
   "id": "e7579fec62e5ad20",
   "outputs": [
    {
     "data": {
      "text/plain": [
       "<IPython.core.display.Markdown object>"
      ],
      "text/markdown": "$\\text{Computing periodic Schrödinger system for: }\\Phi_v(E_1)$"
     },
     "metadata": {},
     "output_type": "display_data"
    },
    {
     "name": "stdout",
     "output_type": "stream",
     "text": [
      "Period: 4\n",
      "Energy parameter: E_1\n",
      "==================================================\n",
      "Created potentials: ['V_1', 'V_2', 'V_3', 'V_4']\n",
      "\n",
      "==================================================================================================== \n",
      "\n",
      "=== SOLUTION ANALYSIS ===\n",
      "\n",
      "Solution set 1:\n",
      "As list: [V_3, (E_1**2 - E_1*V_3 - 2)/(E_1 - V_3), V_3, (E_1**2 - E_1*V_3 - 2)/(E_1 - V_3)]\n",
      "Is irreducible: False\n",
      "V_1: V_3\n",
      "V_2: (E_1**2 - E_1*V_3 - 2)/(E_1 - V_3)\n",
      "V_3: V_3\n",
      "V_4: (E_1**2 - E_1*V_3 - 2)/(E_1 - V_3)\n"
     ]
    }
   ],
   "execution_count": 4
  },
  {
   "metadata": {},
   "cell_type": "markdown",
   "source": "### $\\text{Case 2.1. }\\Phi_v(E_1) = \\Phi_v(E_2) = I \\text{ for some } E_1 \\neq E_2$",
   "id": "620212b2416f8c95"
  },
  {
   "metadata": {
    "ExecuteTime": {
     "end_time": "2025-07-08T03:55:54.483414Z",
     "start_time": "2025-07-08T03:55:54.094270Z"
    }
   },
   "cell_type": "code",
   "source": [
    "monodromy_matrix_E1, _, potential_var = compute_periodic_schrodinger_system(period=4, energy_param='E_1')\n",
    "monodromy_matrix_E2, _, potential_var = compute_periodic_schrodinger_system(period=4, energy_param='E_2')\n",
    "\n",
    "sign = 1\n",
    "\n",
    "equations = []\n",
    "for i in range(4):\n",
    "    equations.append(sp.Eq(monodromy_matrix_E1[i], sign * sp.eye(2)[i]))\n",
    "    equations.append(sp.Eq(monodromy_matrix_E2[i], sign * sp.eye(2)[i]))\n",
    "\n",
    "solutions = sp.solve(equations, potential_var, dict=True)\n",
    "print(solutions)\n",
    "\n",
    "analyze_solutions(solutions, potential_var)"
   ],
   "id": "cb7efd846b8cf275",
   "outputs": [
    {
     "data": {
      "text/plain": [
       "<IPython.core.display.Markdown object>"
      ],
      "text/markdown": "$\\text{Computing periodic Schrödinger system for: }\\Phi_v(E_1)$"
     },
     "metadata": {},
     "output_type": "display_data"
    },
    {
     "name": "stdout",
     "output_type": "stream",
     "text": [
      "Period: 4\n",
      "Energy parameter: E_1\n",
      "==================================================\n",
      "Created potentials: ['V_1', 'V_2', 'V_3', 'V_4']\n"
     ]
    },
    {
     "data": {
      "text/plain": [
       "<IPython.core.display.Markdown object>"
      ],
      "text/markdown": "$\\text{Computing periodic Schrödinger system for: }\\Phi_v(E_2)$"
     },
     "metadata": {},
     "output_type": "display_data"
    },
    {
     "name": "stdout",
     "output_type": "stream",
     "text": [
      "Period: 4\n",
      "Energy parameter: E_2\n",
      "==================================================\n",
      "Created potentials: ['V_1', 'V_2', 'V_3', 'V_4']\n",
      "[]\n",
      "\n",
      "==================================================================================================== \n",
      "\n",
      "No solutions found!\n"
     ]
    }
   ],
   "execution_count": 5
  },
  {
   "metadata": {},
   "cell_type": "markdown",
   "source": "### $\\text{Case 2.2. }\\Phi_v(E_1) = \\Phi_v(E_2) = -I \\text{ for some } E_1 \\neq E_2$",
   "id": "dc25f0f9662b0dd1"
  },
  {
   "metadata": {
    "ExecuteTime": {
     "end_time": "2025-07-08T03:55:54.907375Z",
     "start_time": "2025-07-08T03:55:54.499932Z"
    }
   },
   "cell_type": "code",
   "source": [
    "monodromy_matrix_E1, _, potential_var = compute_periodic_schrodinger_system(period=4, energy_param='E_1')\n",
    "monodromy_matrix_E2, _, potential_var = compute_periodic_schrodinger_system(period=4, energy_param='E_2')\n",
    "\n",
    "sign = 1\n",
    "\n",
    "equations = []\n",
    "for i in range(4):\n",
    "    equations.append(sp.Eq(monodromy_matrix_E1[i], sign * sp.eye(2)[i]))\n",
    "    equations.append(sp.Eq(monodromy_matrix_E2[i], sign * sp.eye(2)[i]))\n",
    "\n",
    "solutions = sp.solve(equations, potential_var, dict=True)\n",
    "\n",
    "analyze_solutions(solutions, potential_var)"
   ],
   "id": "9c32887bd006b3af",
   "outputs": [
    {
     "data": {
      "text/plain": [
       "<IPython.core.display.Markdown object>"
      ],
      "text/markdown": "$\\text{Computing periodic Schrödinger system for: }\\Phi_v(E_1)$"
     },
     "metadata": {},
     "output_type": "display_data"
    },
    {
     "name": "stdout",
     "output_type": "stream",
     "text": [
      "Period: 4\n",
      "Energy parameter: E_1\n",
      "==================================================\n",
      "Created potentials: ['V_1', 'V_2', 'V_3', 'V_4']\n"
     ]
    },
    {
     "data": {
      "text/plain": [
       "<IPython.core.display.Markdown object>"
      ],
      "text/markdown": "$\\text{Computing periodic Schrödinger system for: }\\Phi_v(E_2)$"
     },
     "metadata": {},
     "output_type": "display_data"
    },
    {
     "name": "stdout",
     "output_type": "stream",
     "text": [
      "Period: 4\n",
      "Energy parameter: E_2\n",
      "==================================================\n",
      "Created potentials: ['V_1', 'V_2', 'V_3', 'V_4']\n",
      "\n",
      "==================================================================================================== \n",
      "\n",
      "No solutions found!\n"
     ]
    }
   ],
   "execution_count": 6
  },
  {
   "metadata": {},
   "cell_type": "markdown",
   "source": "### $\\text{Case 2.3. }\\Phi_v(E_1) = -\\Phi_v(E_2) = I \\text{ for some } E_1 \\neq E_2$",
   "id": "4b458de0c41eec52"
  },
  {
   "metadata": {
    "ExecuteTime": {
     "end_time": "2025-07-08T03:55:55.342805Z",
     "start_time": "2025-07-08T03:55:54.935149Z"
    }
   },
   "cell_type": "code",
   "source": [
    "monodromy_matrix_E1, _, potential_var = compute_periodic_schrodinger_system(period=4, energy_param='E_1')\n",
    "monodromy_matrix_E2, _, potential_var = compute_periodic_schrodinger_system(period=4, energy_param='E_2')\n",
    "\n",
    "sign_E_1 = 1\n",
    "sign_E_2 = -1\n",
    "\n",
    "equations = []\n",
    "for i in range(4):\n",
    "    equations.append(sp.Eq(monodromy_matrix_E1[i], sign_E_1 * sp.eye(2)[i]))\n",
    "    equations.append(sp.Eq(monodromy_matrix_E2[i], sign_E_2 * sp.eye(2)[i]))\n",
    "\n",
    "solutions = sp.solve(equations, potential_var, dict=True)\n",
    "\n",
    "analyze_solutions(solutions, potential_var)"
   ],
   "id": "44fb305dfeaf12aa",
   "outputs": [
    {
     "data": {
      "text/plain": [
       "<IPython.core.display.Markdown object>"
      ],
      "text/markdown": "$\\text{Computing periodic Schrödinger system for: }\\Phi_v(E_1)$"
     },
     "metadata": {},
     "output_type": "display_data"
    },
    {
     "name": "stdout",
     "output_type": "stream",
     "text": [
      "Period: 4\n",
      "Energy parameter: E_1\n",
      "==================================================\n",
      "Created potentials: ['V_1', 'V_2', 'V_3', 'V_4']\n"
     ]
    },
    {
     "data": {
      "text/plain": [
       "<IPython.core.display.Markdown object>"
      ],
      "text/markdown": "$\\text{Computing periodic Schrödinger system for: }\\Phi_v(E_2)$"
     },
     "metadata": {},
     "output_type": "display_data"
    },
    {
     "name": "stdout",
     "output_type": "stream",
     "text": [
      "Period: 4\n",
      "Energy parameter: E_2\n",
      "==================================================\n",
      "Created potentials: ['V_1', 'V_2', 'V_3', 'V_4']\n",
      "\n",
      "==================================================================================================== \n",
      "\n",
      "No solutions found!\n"
     ]
    }
   ],
   "execution_count": 7
  },
  {
   "metadata": {},
   "cell_type": "markdown",
   "source": "# $\\textbf{Solutions for Period 5 Schrödinger Operators}$",
   "id": "fa091bdbdb4f7ffa"
  },
  {
   "metadata": {},
   "cell_type": "markdown",
   "source": "### $\\text{Case 1.1. } \\Phi_v(E_1) = I$",
   "id": "adcc358260bcce14"
  },
  {
   "metadata": {
    "ExecuteTime": {
     "end_time": "2025-07-08T03:55:55.921900Z",
     "start_time": "2025-07-08T03:55:55.360315Z"
    }
   },
   "cell_type": "code",
   "source": [
    "monodromy_matrix, discriminant_expr, potential_var = compute_periodic_schrodinger_system(period=5, energy_param='E_1')\n",
    "\n",
    "sign = 1\n",
    "\n",
    "equations = cycle_potentials(sp.Eq(monodromy_matrix[0].subs(E_1,0), sign), potential_var)\n",
    "\n",
    "for i in range(4):\n",
    "    equations.append(sp.Eq(monodromy_matrix[i].subs(E_1,0), sign * sp.eye(2)[i]))\n",
    "\n",
    "solutions_p5 = sp.solve(equations, potential_var, dict=True)\n",
    "\n",
    "analyze_solutions(solutions_p5, potential_var)"
   ],
   "id": "54f691df4ac90be4",
   "outputs": [
    {
     "data": {
      "text/plain": [
       "<IPython.core.display.Markdown object>"
      ],
      "text/markdown": "$\\text{Computing periodic Schrödinger system for: }\\Phi_v(E_1)$"
     },
     "metadata": {},
     "output_type": "display_data"
    },
    {
     "name": "stdout",
     "output_type": "stream",
     "text": [
      "Period: 5\n",
      "Energy parameter: E_1\n",
      "==================================================\n",
      "Created potentials: ['V_1', 'V_2', 'V_3', 'V_4', 'V_5']\n",
      "\n",
      "==================================================================================================== \n",
      "\n",
      "=== SOLUTION ANALYSIS ===\n",
      "\n",
      "Solution set 1:\n",
      "As list: [V_3*V_4 - 1, (V_4 + 1)/(V_3*V_4 - 1), V_3, V_4, (V_3 + 1)/(V_3*V_4 - 1)]\n",
      "Is irreducible: True\n",
      "V_1: V_3*V_4 - 1\n",
      "V_2: (V_4 + 1)/(V_3*V_4 - 1)\n",
      "V_3: V_3\n",
      "V_4: V_4\n",
      "V_5: (V_3 + 1)/(V_3*V_4 - 1)\n"
     ]
    }
   ],
   "execution_count": 8
  },
  {
   "metadata": {},
   "cell_type": "markdown",
   "source": "### $\\text{Case 1.2. } \\Phi_v(E_1) = -I$",
   "id": "df76cf8ef575421d"
  },
  {
   "metadata": {
    "ExecuteTime": {
     "end_time": "2025-07-08T03:55:56.493314Z",
     "start_time": "2025-07-08T03:55:55.965874Z"
    }
   },
   "cell_type": "code",
   "source": [
    "monodromy_matrix, discriminant_expr, potential_var = compute_periodic_schrodinger_system(period=5, energy_param='E_1')\n",
    "\n",
    "sign = -1\n",
    "\n",
    "equations = cycle_potentials(sp.Eq(monodromy_matrix[0].subs(E_1, 0), sign), potential_var)\n",
    "\n",
    "for i in range(4):\n",
    "    equations.append(sp.Eq(monodromy_matrix[i].subs(E_1, 0), sign * sp.eye(2)[i]))\n",
    "\n",
    "solutions_p5 = sp.solve(equations, potential_var, dict=True)\n",
    "\n",
    "analyze_solutions(solutions_p5, potential_var)"
   ],
   "id": "9fdde05c8c73e3d1",
   "outputs": [
    {
     "data": {
      "text/plain": [
       "<IPython.core.display.Markdown object>"
      ],
      "text/markdown": "$\\text{Computing periodic Schrödinger system for: }\\Phi_v(E_1)$"
     },
     "metadata": {},
     "output_type": "display_data"
    },
    {
     "name": "stdout",
     "output_type": "stream",
     "text": [
      "Period: 5\n",
      "Energy parameter: E_1\n",
      "==================================================\n",
      "Created potentials: ['V_1', 'V_2', 'V_3', 'V_4', 'V_5']\n",
      "\n",
      "==================================================================================================== \n",
      "\n",
      "=== SOLUTION ANALYSIS ===\n",
      "\n",
      "Solution set 1:\n",
      "As list: [-V_3*V_4 + 1, (V_4 - 1)/(V_3*V_4 - 1), V_3, V_4, (V_3 - 1)/(V_3*V_4 - 1)]\n",
      "Is irreducible: True\n",
      "V_1: -V_3*V_4 + 1\n",
      "V_2: (V_4 - 1)/(V_3*V_4 - 1)\n",
      "V_3: V_3\n",
      "V_4: V_4\n",
      "V_5: (V_3 - 1)/(V_3*V_4 - 1)\n"
     ]
    }
   ],
   "execution_count": 9
  },
  {
   "metadata": {},
   "cell_type": "markdown",
   "source": "### $\\text{Case 2.1. }\\Phi_v(E_1) = \\Phi_v(E_2) = I \\text{ for some } E_1 \\neq E_2$",
   "id": "713c8ccacb87e7cc"
  },
  {
   "metadata": {
    "ExecuteTime": {
     "end_time": "2025-07-08T04:46:50.664571Z",
     "start_time": "2025-07-08T04:46:48.811433Z"
    }
   },
   "cell_type": "code",
   "source": [
    "lhs_M_E1, rhs_M_E1, potential_var = compute_split_monodromy_identity(period=5, energy_param='E_1')\n",
    "lhs_M_E2, rhs_M_E2, potential_var = compute_split_monodromy_identity(period=5, energy_param='E_2')\n",
    "\n",
    "\n",
    "sign = 1\n",
    "\n",
    "equations = []\n",
    "for i in range(4):\n",
    "    equations.extend(cycle_potentials(sp.Eq(lhs_M_E1[i] - sign * rhs_M_E1[i], 0).subs(E_1, 0), potential_var))\n",
    "    equations.extend(cycle_potentials(sp.Eq(lhs_M_E2[i] - sign * rhs_M_E2[i], 0).subs(E_2, E_2), potential_var))\n",
    "\n",
    "simplified_equations = []\n",
    "for equation in equations:\n",
    "    simplified_equations.append(sp.simplify(equation))\n",
    "\n",
    "solutions = sp.solve(simplified_equations, potential_var, dict=True)\n",
    "\n",
    "analyze_solutions(solutions, potential_var)"
   ],
   "id": "3c970d9c0bf10d37",
   "outputs": [
    {
     "name": "stdout",
     "output_type": "stream",
     "text": [
      "\n",
      "==================================================================================================== \n",
      "\n",
      "No solutions found!\n"
     ]
    }
   ],
   "execution_count": 47
  },
  {
   "metadata": {},
   "cell_type": "markdown",
   "source": "### $\\text{Case 2.2. }\\Phi_v(E_1) = \\Phi_v(E_2) = -I \\text{ for some } E_1 \\neq E_2$",
   "id": "8af16264dcd76167"
  },
  {
   "metadata": {
    "ExecuteTime": {
     "end_time": "2025-07-08T03:56:00.546439Z",
     "start_time": "2025-07-08T03:55:59.726452Z"
    }
   },
   "cell_type": "code",
   "source": [
    "monodromy_matrix_E1, _, potential_var = compute_periodic_schrodinger_system(period=5, energy_param='E_1')\n",
    "monodromy_matrix_E2, _, potential_var = compute_periodic_schrodinger_system(period=5, energy_param='E_2')\n",
    "\n",
    "sign = -1\n",
    "\n",
    "equations = cycle_potentials(sp.Eq(monodromy_matrix_E1[3].subs(E_1, 0), sign), potential_var)\n",
    "\n",
    "for i in range(4):\n",
    "    equations.append(sp.Eq(monodromy_matrix_E1[i].subs(E_1, 0), sign * sp.eye(2)[i]))\n",
    "    equations.append(sp.Eq(monodromy_matrix_E2[i], sign * sp.eye(2)[i]))\n",
    "\n",
    "solutions = sp.solve(equations, potential_var, dict=True)\n",
    "\n",
    "analyze_solutions(solutions, potential_var)"
   ],
   "id": "c137ef67f12f3d12",
   "outputs": [
    {
     "data": {
      "text/plain": [
       "<IPython.core.display.Markdown object>"
      ],
      "text/markdown": "$\\text{Computing periodic Schrödinger system for: }\\Phi_v(E_1)$"
     },
     "metadata": {},
     "output_type": "display_data"
    },
    {
     "name": "stdout",
     "output_type": "stream",
     "text": [
      "Period: 5\n",
      "Energy parameter: E_1\n",
      "==================================================\n",
      "Created potentials: ['V_1', 'V_2', 'V_3', 'V_4', 'V_5']\n"
     ]
    },
    {
     "data": {
      "text/plain": [
       "<IPython.core.display.Markdown object>"
      ],
      "text/markdown": "$\\text{Computing periodic Schrödinger system for: }\\Phi_v(E_2)$"
     },
     "metadata": {},
     "output_type": "display_data"
    },
    {
     "name": "stdout",
     "output_type": "stream",
     "text": [
      "Period: 5\n",
      "Energy parameter: E_2\n",
      "==================================================\n",
      "Created potentials: ['V_1', 'V_2', 'V_3', 'V_4', 'V_5']\n",
      "\n",
      "==================================================================================================== \n",
      "\n",
      "No solutions found!\n"
     ]
    }
   ],
   "execution_count": 11
  },
  {
   "metadata": {},
   "cell_type": "markdown",
   "source": "# Period 6",
   "id": "b0262340bfa5bc32"
  },
  {
   "metadata": {
    "ExecuteTime": {
     "end_time": "2025-07-08T17:49:50.873696Z",
     "start_time": "2025-07-08T17:49:49.743395Z"
    }
   },
   "cell_type": "code",
   "source": [
    "lhs_M_E1, rhs_M_E1, potential_var = compute_split_monodromy_identity(period=6, energy_param='E_1')\n",
    "\n",
    "sign = 1\n",
    "\n",
    "equations = []\n",
    "for i in range(4):\n",
    "    equations.extend(cycle_potentials(sp.Eq(lhs_M_E1[i] - sign * rhs_M_E1[i], 0).subs(E_1, 0), potential_var))\n",
    "\n",
    "simplified_equations = []\n",
    "for equation in equations:\n",
    "    simplified_equations.append(sp.simplify(equation))\n",
    "\n",
    "solutions = sp.solve(simplified_equations, potential_var, dict=True, numerical=True)\n",
    "\n",
    "analyze_solutions(solutions, potential_var)"
   ],
   "id": "4448a6a77540cada",
   "outputs": [
    {
     "name": "stdout",
     "output_type": "stream",
     "text": [
      "\n",
      "==================================================================================================== \n",
      "\n",
      "=== SOLUTION ANALYSIS ===\n",
      "\n",
      "Solution set 1:\n",
      "As list: [(-V_4*V_5 + 2)/(-V_4*V_5*V_6 + V_4 + V_6), -V_4*V_5*V_6 + V_4 + V_6, (-V_5*V_6 + 2)/(-V_4*V_5*V_6 + V_4 + V_6), V_4, V_5, V_6]\n",
      "Is irreducible: True\n",
      "V_1: (-V_4*V_5 + 2)/(-V_4*V_5*V_6 + V_4 + V_6)\n",
      "V_2: -V_4*V_5*V_6 + V_4 + V_6\n",
      "V_3: (-V_5*V_6 + 2)/(-V_4*V_5*V_6 + V_4 + V_6)\n",
      "V_4: V_4\n",
      "V_5: V_5\n",
      "V_6: V_6\n"
     ]
    }
   ],
   "execution_count": 64
  },
  {
   "metadata": {},
   "cell_type": "markdown",
   "source": "# Period 6, 2 Gaps",
   "id": "fffa3b9e4238457b"
  },
  {
   "metadata": {
    "ExecuteTime": {
     "end_time": "2025-07-08T17:59:01.938122Z",
     "start_time": "2025-07-08T17:58:58.115884Z"
    }
   },
   "cell_type": "code",
   "source": [
    "lhs_M_E1, rhs_M_E1, potential_var = compute_split_monodromy_identity(period=6, energy_param='E_1')\n",
    "lhs_M_E2, rhs_M_E2, potential_var = compute_split_monodromy_identity(period=6, energy_param='E_2')\n",
    "\n",
    "\n",
    "sign = 1\n",
    "\n",
    "equations = []\n",
    "for i in range(4):\n",
    "    equations.extend(cycle_potentials(sp.Eq(lhs_M_E1[i] - sign * rhs_M_E1[i], 0).subs(E_1, 0), potential_var))\n",
    "    equations.extend(cycle_potentials(sp.Eq(lhs_M_E2[i] - sign * rhs_M_E2[i], 0).subs(E_2, E), potential_var))\n",
    "\n",
    "simplified_equations = []\n",
    "for equation in equations:\n",
    "    simplified_equations.append(sp.simplify(equation))\n",
    "\n",
    "solutions = sp.solve(simplified_equations, potential_var, dict=True, numerical=True)\n",
    "\n",
    "analyze_solutions(solutions, potential_var)"
   ],
   "id": "c263ff9ab5a0e985",
   "outputs": [
    {
     "name": "stdout",
     "output_type": "stream",
     "text": [
      "\n",
      "==================================================================================================== \n",
      "\n",
      "=== SOLUTION ANALYSIS ===\n",
      "\n",
      "Solution set 1:\n",
      "As list: [E/2 - sqrt(E**2 - 4)/2, E/2 + sqrt(E**2 - 4)/2, E/2 - sqrt(E**2 - 4)/2, E/2 + sqrt(E**2 - 4)/2, E/2 - sqrt(E**2 - 4)/2, E/2 + sqrt((E - 2)*(E + 2))/2]\n",
      "Is irreducible: False\n",
      "V_1: E/2 - sqrt(E**2 - 4)/2\n",
      "V_2: E/2 + sqrt(E**2 - 4)/2\n",
      "V_3: E/2 - sqrt(E**2 - 4)/2\n",
      "V_4: E/2 + sqrt(E**2 - 4)/2\n",
      "V_5: E/2 - sqrt(E**2 - 4)/2\n",
      "V_6: E/2 + sqrt((E - 2)*(E + 2))/2\n",
      "\n",
      "Solution set 2:\n",
      "As list: [E/2 + sqrt(E**2 - 4)/2, E/2 - sqrt(E**2 - 4)/2, E/2 + sqrt(E**2 - 4)/2, E/2 - sqrt(E**2 - 4)/2, E/2 + sqrt(E**2 - 4)/2, E/2 - sqrt((E - 2)*(E + 2))/2]\n",
      "Is irreducible: False\n",
      "V_1: E/2 + sqrt(E**2 - 4)/2\n",
      "V_2: E/2 - sqrt(E**2 - 4)/2\n",
      "V_3: E/2 + sqrt(E**2 - 4)/2\n",
      "V_4: E/2 - sqrt(E**2 - 4)/2\n",
      "V_5: E/2 + sqrt(E**2 - 4)/2\n",
      "V_6: E/2 - sqrt((E - 2)*(E + 2))/2\n"
     ]
    }
   ],
   "execution_count": 68
  },
  {
   "metadata": {},
   "cell_type": "markdown",
   "source": "# Period 7",
   "id": "ea5438d25546d510"
  },
  {
   "metadata": {
    "ExecuteTime": {
     "end_time": "2025-07-08T03:56:02.217670Z",
     "start_time": "2025-07-08T03:56:00.587114Z"
    }
   },
   "cell_type": "code",
   "source": [
    "monodromy_matrix, discriminant_expr, potential_var = compute_periodic_schrodinger_system(period=7, energy_param='E_1')\n",
    "\n",
    "sign = 1\n",
    "\n",
    "equations = cycle_potentials(sp.Eq(monodromy_matrix[0].subs(E_1,0), sign), potential_var)\n",
    "\n",
    "# for i in range(4):\n",
    "#     equations.append(sp.Eq(monodromy_matrix[i].subs(E_1,0), sign * sp.eye(2)[i]))\n",
    "\n",
    "equations.append(sp.Eq(monodromy_matrix[3].subs(E_1,0), sign * sp.eye(2)[3]))\n",
    "\n",
    "#solutions = sp.solve(equations, potential_var, dict=True)\n",
    "\n",
    "analyze_solutions(solutions, potential_var)"
   ],
   "id": "3267f47acad9cad4",
   "outputs": [
    {
     "data": {
      "text/plain": [
       "<IPython.core.display.Markdown object>"
      ],
      "text/markdown": "$\\text{Computing periodic Schrödinger system for: }\\Phi_v(E_1)$"
     },
     "metadata": {},
     "output_type": "display_data"
    },
    {
     "name": "stdout",
     "output_type": "stream",
     "text": [
      "Period: 7\n",
      "Energy parameter: E_1\n",
      "==================================================\n",
      "Created potentials: ['V_1', 'V_2', 'V_3', 'V_4', 'V_5', 'V_6', 'V_7']\n",
      "\n",
      "==================================================================================================== \n",
      "\n",
      "No solutions found!\n"
     ]
    }
   ],
   "execution_count": 12
  },
  {
   "metadata": {
    "ExecuteTime": {
     "end_time": "2025-07-08T04:55:10.138515Z",
     "start_time": "2025-07-08T04:55:08.372652Z"
    }
   },
   "cell_type": "code",
   "source": [
    "lhs_M_E1, rhs_M_E1, potential_var = compute_split_monodromy_identity(period=7, energy_param='E_1')\n",
    "\n",
    "sign = 1\n",
    "\n",
    "equations = []\n",
    "for i in range(4):\n",
    "    equations.extend(cycle_potentials(sp.Eq(lhs_M_E1[i] - sign * rhs_M_E1[i], 0).subs(E_1, 0), potential_var))\n",
    "\n",
    "simplified_equations = []\n",
    "for equation in equations:\n",
    "    simplified_equations.append(sp.simplify(equation))\n",
    "\n",
    "solutions = sp.solve(simplified_equations, potential_var, dict=True, numerical=True)\n",
    "\n",
    "analyze_solutions(solutions, potential_var)"
   ],
   "id": "82e719a8faaef351",
   "outputs": [
    {
     "name": "stdout",
     "output_type": "stream",
     "text": [
      "\n",
      "==================================================================================================== \n",
      "\n",
      "=== SOLUTION ANALYSIS ===\n",
      "\n",
      "Solution set 1:\n",
      "As list: [(-V_4*V_5*V_6 + V_4 + V_6 - 1)/(-V_4*V_5*V_6*V_7 + V_4*V_5 + V_4*V_7 + V_6*V_7 - 1), V_4*V_5*V_6*V_7 - V_4*V_5 - V_4*V_7 - V_6*V_7 + 1, (V_5*V_6*V_7 - V_5 - V_7 + 1)/(V_4*V_5*V_6*V_7 - V_4*V_5 - V_4*V_7 - V_6*V_7 + 1), V_4, V_5, V_6, V_7]\n",
      "Is irreducible: True\n",
      "V_1: (-V_4*V_5*V_6 + V_4 + V_6 - 1)/(-V_4*V_5*V_6*V_7 + V_4*V_5 + V_4*V_7 + V_6*V_7 - 1)\n",
      "V_2: V_4*V_5*V_6*V_7 - V_4*V_5 - V_4*V_7 - V_6*V_7 + 1\n",
      "V_3: (V_5*V_6*V_7 - V_5 - V_7 + 1)/(V_4*V_5*V_6*V_7 - V_4*V_5 - V_4*V_7 - V_6*V_7 + 1)\n",
      "V_4: V_4\n",
      "V_5: V_5\n",
      "V_6: V_6\n",
      "V_7: V_7\n",
      "\n",
      "Solution set 2:\n",
      "As list: [(V_4*V_6 - V_4 - V_6 + 1)/V_2, V_2, (V_2*V_6 - V_2 + V_4*V_6 - V_4 - V_6 + 1)/(V_2*(V_4*V_6 - V_4 - V_6)), V_4, 1, V_6, (-V_2 - V_4 + 1)/(-V_4*V_6 + V_4 + V_6)]\n",
      "Is irreducible: True\n",
      "V_1: (V_4*V_6 - V_4 - V_6 + 1)/V_2\n",
      "V_2: V_2\n",
      "V_3: (V_2*V_6 - V_2 + V_4*V_6 - V_4 - V_6 + 1)/(V_2*(V_4*V_6 - V_4 - V_6))\n",
      "V_4: V_4\n",
      "V_5: 1\n",
      "V_6: V_6\n",
      "V_7: (-V_2 - V_4 + 1)/(-V_4*V_6 + V_4 + V_6)\n"
     ]
    }
   ],
   "execution_count": 55
  },
  {
   "metadata": {
    "ExecuteTime": {
     "end_time": "2025-07-08T03:56:05.040834Z",
     "start_time": "2025-07-08T03:56:05.038855Z"
    }
   },
   "cell_type": "code",
   "source": [
    "def complete_solution_dict(solution_dict, variables):\n",
    "    \"\"\"\n",
    "    Complete a solution dictionary by adding free variables that are missing.\n",
    "\n",
    "    Parameters:\n",
    "    solution_dict (dict): Partial solution dictionary from sympy solve()\n",
    "    variables (list): List of all variables that should be in the solution\n",
    "\n",
    "    Returns:\n",
    "    dict: Complete solution dictionary with free variables added\n",
    "    \"\"\"\n",
    "    complete_dict = solution_dict.copy()\n",
    "\n",
    "    # Add any missing variables as free variables (they map to themselves)\n",
    "    for var in variables:\n",
    "        if var not in complete_dict:\n",
    "            complete_dict[var] = var\n",
    "\n",
    "    return complete_dict"
   ],
   "id": "1cf80f4127f80956",
   "outputs": [],
   "execution_count": 14
  },
  {
   "metadata": {
    "ExecuteTime": {
     "end_time": "2025-07-08T03:56:05.255196Z",
     "start_time": "2025-07-08T03:56:05.163986Z"
    }
   },
   "cell_type": "code",
   "source": [
    "sol7 = cycle_solution_variables(solutions[0], 4, potential_var)\n",
    "sol7 = complete_solution_dict(sol7, potential_var)\n",
    "sol7"
   ],
   "id": "db267b7b2e926a2",
   "outputs": [
    {
     "name": "stdout",
     "output_type": "stream",
     "text": [
      "Variable mapping with shift 4:\n",
      "  V_1 -> V_5\n",
      "  V_2 -> V_6\n",
      "  V_3 -> V_7\n",
      "  V_4 -> V_1\n",
      "  V_5 -> V_2\n",
      "  V_6 -> V_3\n",
      "  V_7 -> V_4\n"
     ]
    },
    {
     "data": {
      "text/plain": [
       "{V_5: (-V_1*V_2*V_3 + V_1 + V_3 - 1)/(-V_1*V_2*V_3*V_4 + V_1*V_2 + V_1*V_4 + V_3*V_4 - 1),\n",
       " V_6: V_1*V_2*V_3*V_4 - V_1*V_2 - V_1*V_4 - V_3*V_4 + 1,\n",
       " V_7: (-V_2*V_3*V_4 + V_2 + V_4 - 1)/(-V_1*V_2*V_3*V_4 + V_1*V_2 + V_1*V_4 + V_3*V_4 - 1),\n",
       " V_1: V_1,\n",
       " V_2: V_2,\n",
       " V_3: V_3,\n",
       " V_4: V_4}"
      ]
     },
     "execution_count": 15,
     "metadata": {},
     "output_type": "execute_result"
    }
   ],
   "execution_count": 15
  },
  {
   "metadata": {
    "ExecuteTime": {
     "end_time": "2025-07-08T03:56:05.339511Z",
     "start_time": "2025-07-08T03:56:05.310935Z"
    }
   },
   "cell_type": "code",
   "source": [
    "sol5 = cycle_solution_variables(solutions_p5[0], 4, potential_var[:5])\n",
    "sol5 = complete_solution_dict(sol5, potential_var[:5])\n",
    "sol5"
   ],
   "id": "22a3f8034d69ef33",
   "outputs": [
    {
     "name": "stdout",
     "output_type": "stream",
     "text": [
      "Variable mapping with shift 4:\n",
      "  V_1 -> V_5\n",
      "  V_2 -> V_1\n",
      "  V_3 -> V_2\n",
      "  V_4 -> V_3\n",
      "  V_5 -> V_4\n"
     ]
    },
    {
     "data": {
      "text/plain": [
       "{V_5: -V_2*V_3 + 1,\n",
       " V_1: (V_3 - 1)/(V_2*V_3 - 1),\n",
       " V_4: (V_2 - 1)/(V_2*V_3 - 1),\n",
       " V_2: V_2,\n",
       " V_3: V_3}"
      ]
     },
     "execution_count": 16,
     "metadata": {},
     "output_type": "execute_result"
    }
   ],
   "execution_count": 16
  },
  {
   "metadata": {
    "ExecuteTime": {
     "end_time": "2025-07-08T03:56:05.548433Z",
     "start_time": "2025-07-08T03:56:05.402217Z"
    }
   },
   "cell_type": "code",
   "source": [
    "# Create list of tuples for substitution: (V_i, sol5[V_i]) for i=1,2,3,4\n",
    "substitution_list = []\n",
    "for i in range(1, 5):\n",
    "    var = sp.symbols(f'V_{i}')\n",
    "    if var in sol5:\n",
    "        substitution_list.append((var, sol5[var]))\n",
    "\n",
    "print(\"Substitution list:\")\n",
    "for var, val in substitution_list:\n",
    "    print(f\"  {var} -> {val}\")\n",
    "\n",
    "# Apply substitutions to all values in sol7\n",
    "substituted_sol7 = {}\n",
    "for var, expr in sol7.items():\n",
    "    substituted_expr = expr\n",
    "    for old_var, new_val in substitution_list:\n",
    "        substituted_expr = substituted_expr.subs(old_var, new_val).simplify()\n",
    "    substituted_sol7[var] = substituted_expr\n",
    "\n",
    "print(\"\\nSubstituted sol7:\")\n",
    "for var, expr in substituted_sol7.items():\n",
    "    print(f\"{var} = {expr}\")"
   ],
   "id": "11ac34e387ac789c",
   "outputs": [
    {
     "name": "stdout",
     "output_type": "stream",
     "text": [
      "Substitution list:\n",
      "  V_1 -> (V_3 - 1)/(V_2*V_3 - 1)\n",
      "  V_2 -> V_2\n",
      "  V_3 -> V_3\n",
      "  V_4 -> (V_2 - 1)/(V_2*V_3 - 1)\n",
      "\n",
      "Substituted sol7:\n",
      "V_5 = 0\n",
      "V_6 = 0\n",
      "V_7 = -V_2*V_3 + 1\n",
      "V_1 = (V_3 - 1)/(V_2*V_3 - 1)\n",
      "V_2 = V_2\n",
      "V_3 = V_3\n",
      "V_4 = (V_2 - 1)/(V_2*V_3 - 1)\n"
     ]
    }
   ],
   "execution_count": 17
  },
  {
   "metadata": {
    "ExecuteTime": {
     "end_time": "2025-07-08T04:54:45.346987Z",
     "start_time": "2025-07-08T04:54:39.132125Z"
    }
   },
   "cell_type": "code",
   "source": [
    "monodromy_matrix, discriminant_expr, potential_var = compute_periodic_schrodinger_system(period=7, energy_param='E_1')\n",
    "\n",
    "sign = -1\n",
    "\n",
    "equations = cycle_potentials(sp.Eq(monodromy_matrix[0].subs(E_1,0), sign), potential_var)\n",
    "\n",
    "equations.append(sp.Eq(monodromy_matrix[3].subs(E_1,0), sign * sp.eye(2)[3]))\n",
    "\n",
    "solutions = sp.solve(equations, potential_var, dict=True, numerical=True)\n",
    "\n",
    "analyze_solutions(solutions, potential_var)"
   ],
   "id": "8b30aab11528d338",
   "outputs": [
    {
     "data": {
      "text/plain": [
       "<IPython.core.display.Markdown object>"
      ],
      "text/markdown": "$\\text{Computing periodic Schrödinger system for: }\\Phi_v(E_1)$"
     },
     "metadata": {},
     "output_type": "display_data"
    },
    {
     "name": "stdout",
     "output_type": "stream",
     "text": [
      "Period: 7\n",
      "Energy parameter: E_1\n",
      "==================================================\n",
      "Created potentials: ['V_1', 'V_2', 'V_3', 'V_4', 'V_5', 'V_6', 'V_7']\n",
      "\n",
      "==================================================================================================== \n",
      "\n",
      "=== SOLUTION ANALYSIS ===\n",
      "\n",
      "Solution set 1:\n",
      "As list: [-V_3*V_4*V_5*V_6 + V_3*V_4 + V_3*V_6 + V_5*V_6 - 1, (-V_4*V_5*V_6 + V_4 + V_6 + 1)/(-V_3*V_4*V_5*V_6 + V_3*V_4 + V_3*V_6 + V_5*V_6 - 1), V_3, V_4, V_5, V_6, (-V_3*V_4*V_5 + V_3 + V_5 + 1)/(-V_3*V_4*V_5*V_6 + V_3*V_4 + V_3*V_6 + V_5*V_6 - 1)]\n",
      "Is irreducible: True\n",
      "V_1: -V_3*V_4*V_5*V_6 + V_3*V_4 + V_3*V_6 + V_5*V_6 - 1\n",
      "V_2: (-V_4*V_5*V_6 + V_4 + V_6 + 1)/(-V_3*V_4*V_5*V_6 + V_3*V_4 + V_3*V_6 + V_5*V_6 - 1)\n",
      "V_3: V_3\n",
      "V_4: V_4\n",
      "V_5: V_5\n",
      "V_6: V_6\n",
      "V_7: (-V_3*V_4*V_5 + V_3 + V_5 + 1)/(-V_3*V_4*V_5*V_6 + V_3*V_4 + V_3*V_6 + V_5*V_6 - 1)\n",
      "\n",
      "Solution set 2:\n",
      "As list: [-V_3 + V_5*V_6 - 1, 0, V_3, (V_6 + 1)/(V_5*V_6 - 1), V_5, V_6, (V_5 + 1)/(V_5*V_6 - 1)]\n",
      "Is irreducible: True\n",
      "V_1: -V_3 + V_5*V_6 - 1\n",
      "V_2: 0\n",
      "V_3: V_3\n",
      "V_4: (V_6 + 1)/(V_5*V_6 - 1)\n",
      "V_5: V_5\n",
      "V_6: V_6\n",
      "V_7: (V_5 + 1)/(V_5*V_6 - 1)\n"
     ]
    }
   ],
   "execution_count": 53
  },
  {
   "metadata": {},
   "cell_type": "markdown",
   "source": "# Period 7 - 2 Gaps",
   "id": "cc3dc762d09cf57e"
  },
  {
   "metadata": {
    "ExecuteTime": {
     "end_time": "2025-07-08T20:18:26.864806Z",
     "start_time": "2025-07-08T20:18:26.194853Z"
    }
   },
   "cell_type": "code",
   "source": [
    "lhs, rhs, potential_var = compute_split_monodromy_identity(period=7, energy_param='E')\n",
    "\n",
    "sign = 1\n",
    "\n",
    "display(lhs.subs(E,0) - sign * rhs.subs(E,0))\n",
    "\n",
    "equations = get_monodromy_identity_equations_split(period=7, energy_param='E')\n",
    "for i in range(4):\n",
    "    display(equations[i].subs(E,0))"
   ],
   "id": "1131e27742ae8642",
   "outputs": [
    {
     "data": {
      "text/plain": [
       "⎡-V₁⋅V₂ - V₄⋅(V₁ - V₃⋅(V₁⋅V₂ - 1)) - V₆ + 1  -V₂ - V₄⋅(-V₂⋅V₃ + 1) - V₆⋅V₇ + 1⎤\n",
       "⎢                                                                             ⎥\n",
       "⎣     V₁ - V₃⋅(V₁⋅V₂ - 1) + V₅⋅V₆ - 1         -V₂⋅V₃ + V₅⋅V₆⋅V₇ - V₅ - V₇ + 1 ⎦"
      ],
      "text/latex": "$\\displaystyle \\left[\\begin{matrix}- V_{1} V_{2} - V_{4} \\left(V_{1} - V_{3} \\left(V_{1} V_{2} - 1\\right)\\right) - V_{6} + 1 & - V_{2} - V_{4} \\left(- V_{2} V_{3} + 1\\right) - V_{6} V_{7} + 1\\\\V_{1} - V_{3} \\left(V_{1} V_{2} - 1\\right) + V_{5} V_{6} - 1 & - V_{2} V_{3} + V_{5} V_{6} V_{7} - V_{5} - V_{7} + 1\\end{matrix}\\right]$"
     },
     "metadata": {},
     "output_type": "display_data"
    },
    {
     "data": {
      "text/plain": [
       "-V₁⋅V₂ - V₄⋅(V₁ - V₃⋅(V₁⋅V₂ - 1)) - V₆ + 1 = 0"
      ],
      "image/png": "[encoded data removed]",
      "text/latex": "$\\displaystyle - V_{1} V_{2} - V_{4} \\left(V_{1} - V_{3} \\left(V_{1} V_{2} - 1\\right)\\right) - V_{6} + 1 = 0$"
     },
     "metadata": {},
     "output_type": "display_data"
    },
    {
     "data": {
      "text/plain": [
       "V₂ - V₄⋅(V₂⋅V₃ - 1) + V₆⋅V₇ - 1 = 0"
      ],
      "image/png": "[encoded data removed]",
      "text/latex": "$\\displaystyle V_{2} - V_{4} \\left(V_{2} V_{3} - 1\\right) + V_{6} V_{7} - 1 = 0$"
     },
     "metadata": {},
     "output_type": "display_data"
    },
    {
     "data": {
      "text/plain": [
       "V₁ - V₃⋅(V₁⋅V₂ - 1) + V₅⋅V₆ - 1 = 0"
      ],
      "image/png": "[encoded data removed]",
      "text/latex": "$\\displaystyle V_{1} - V_{3} \\left(V_{1} V_{2} - 1\\right) + V_{5} V_{6} - 1 = 0$"
     },
     "metadata": {},
     "output_type": "display_data"
    },
    {
     "data": {
      "text/plain": [
       "V₂⋅V₃ - V₅⋅V₆⋅V₇ + V₅ + V₇ - 1 = 0"
      ],
      "image/png": "[encoded data removed]",
      "text/latex": "$\\displaystyle V_{2} V_{3} - V_{5} V_{6} V_{7} + V_{5} + V_{7} - 1 = 0$"
     },
     "metadata": {},
     "output_type": "display_data"
    }
   ],
   "execution_count": 101
  },
  {
   "metadata": {
    "ExecuteTime": {
     "end_time": "2025-07-08T20:19:31.466552Z",
     "start_time": "2025-07-08T20:19:30.764142Z"
    }
   },
   "cell_type": "code",
   "source": [
    "lhs, rhs, potential_var = compute_split_monodromy_identity(period=7, energy_param='E')\n",
    "\n",
    "sign = -1\n",
    "\n",
    "display(lhs.subs(E,0) - sign * rhs.subs(E,0))\n",
    "\n",
    "equations = get_monodromy_identity_equations_split(period=7, energy_param='E')\n",
    "for i in range(4):\n",
    "    display(equations[i].subs(E,0))"
   ],
   "id": "e0e104bff060af5c",
   "outputs": [
    {
     "data": {
      "text/plain": [
       "⎡-V₁⋅V₂ - V₄⋅(V₁ - V₃⋅(V₁⋅V₂ - 1)) + V₆ + 1  -V₂ - V₄⋅(-V₂⋅V₃ + 1) + V₆⋅V₇ - 1⎤\n",
       "⎢                                                                             ⎥\n",
       "⎣     V₁ - V₃⋅(V₁⋅V₂ - 1) - V₅⋅V₆ + 1         -V₂⋅V₃ - V₅⋅V₆⋅V₇ + V₅ + V₇ + 1 ⎦"
      ],
      "text/latex": "$\\displaystyle \\left[\\begin{matrix}- V_{1} V_{2} - V_{4} \\left(V_{1} - V_{3} \\left(V_{1} V_{2} - 1\\right)\\right) + V_{6} + 1 & - V_{2} - V_{4} \\left(- V_{2} V_{3} + 1\\right) + V_{6} V_{7} - 1\\\\V_{1} - V_{3} \\left(V_{1} V_{2} - 1\\right) - V_{5} V_{6} + 1 & - V_{2} V_{3} - V_{5} V_{6} V_{7} + V_{5} + V_{7} + 1\\end{matrix}\\right]$"
     },
     "metadata": {},
     "output_type": "display_data"
    },
    {
     "data": {
      "text/plain": [
       "-V₁⋅V₂ - V₄⋅(V₁ - V₃⋅(V₁⋅V₂ - 1)) - V₆ + 1 = 0"
      ],
      "image/png": "[encoded data removed]",
      "text/latex": "$\\displaystyle - V_{1} V_{2} - V_{4} \\left(V_{1} - V_{3} \\left(V_{1} V_{2} - 1\\right)\\right) - V_{6} + 1 = 0$"
     },
     "metadata": {},
     "output_type": "display_data"
    },
    {
     "data": {
      "text/plain": [
       "V₂ - V₄⋅(V₂⋅V₃ - 1) + V₆⋅V₇ - 1 = 0"
      ],
      "image/png": "[encoded data removed]",
      "text/latex": "$\\displaystyle V_{2} - V_{4} \\left(V_{2} V_{3} - 1\\right) + V_{6} V_{7} - 1 = 0$"
     },
     "metadata": {},
     "output_type": "display_data"
    },
    {
     "data": {
      "text/plain": [
       "V₁ - V₃⋅(V₁⋅V₂ - 1) + V₅⋅V₆ - 1 = 0"
      ],
      "image/png": "[encoded data removed]",
      "text/latex": "$\\displaystyle V_{1} - V_{3} \\left(V_{1} V_{2} - 1\\right) + V_{5} V_{6} - 1 = 0$"
     },
     "metadata": {},
     "output_type": "display_data"
    },
    {
     "data": {
      "text/plain": [
       "V₂⋅V₃ - V₅⋅V₆⋅V₇ + V₅ + V₇ - 1 = 0"
      ],
      "image/png": "[encoded data removed]",
      "text/latex": "$\\displaystyle V_{2} V_{3} - V_{5} V_{6} V_{7} + V_{5} + V_{7} - 1 = 0$"
     },
     "metadata": {},
     "output_type": "display_data"
    }
   ],
   "execution_count": 102
  },
  {
   "metadata": {},
   "cell_type": "markdown",
   "source": "# Period 8",
   "id": "259f0c478bf9681f"
  },
  {
   "metadata": {
    "ExecuteTime": {
     "end_time": "2025-07-08T17:48:00.887782Z",
     "start_time": "2025-07-08T17:47:51.582254Z"
    }
   },
   "cell_type": "code",
   "source": [
    "lhs_M_E1, rhs_M_E1, potential_var = compute_split_monodromy_identity(period=8, energy_param='E_1')\n",
    "\n",
    "sign = 1\n",
    "\n",
    "equations = []\n",
    "for i in range(4):\n",
    "    equations.extend(cycle_potentials(sp.Eq(lhs_M_E1[i] - sign * rhs_M_E1[i], 0).subs(E_1, 0), potential_var))\n",
    "\n",
    "simplified_equations = []\n",
    "for equation in equations:\n",
    "    simplified_equations.append(sp.simplify(equation))\n",
    "\n",
    "\n",
    "solutions = sp.solve(simplified_equations, potential_var, dict=True, numerical=True)\n",
    "\n",
    "analyze_solutions(solutions, potential_var)\n"
   ],
   "id": "eeda4e477fc13d3d",
   "outputs": [
    {
     "name": "stdout",
     "output_type": "stream",
     "text": [
      "\n",
      "==================================================================================================== \n",
      "\n",
      "=== SOLUTION ANALYSIS ===\n",
      "\n",
      "Solution set 1:\n",
      "As list: [(V_3 - V_5*V_6*V_7 + V_5 + V_7)/(V_2*V_3 - 1), V_2, V_3, (V_2*V_3*V_6*V_7 - V_2*V_3 + V_2*V_5*V_6*V_7 - V_2*V_5 - V_2*V_7 - V_6*V_7)/(V_2*V_3*V_5*V_6*V_7 - V_2*V_3*V_5 - V_2*V_3*V_7 - V_5*V_6*V_7 + V_5 + V_7), V_5, V_6, V_7, (V_2*V_3 - V_5*V_6)/(-V_5*V_6*V_7 + V_5 + V_7)]\n",
      "Is irreducible: True\n",
      "V_1: (V_3 - V_5*V_6*V_7 + V_5 + V_7)/(V_2*V_3 - 1)\n",
      "V_2: V_2\n",
      "V_3: V_3\n",
      "V_4: (V_2*V_3*V_6*V_7 - V_2*V_3 + V_2*V_5*V_6*V_7 - V_2*V_5 - V_2*V_7 - V_6*V_7)/(V_2*V_3*V_5*V_6*V_7 - V_2*V_3*V_5 - V_2*V_3*V_7 - V_5*V_6*V_7 + V_5 + V_7)\n",
      "V_5: V_5\n",
      "V_6: V_6\n",
      "V_7: V_7\n",
      "V_8: (V_2*V_3 - V_5*V_6)/(-V_5*V_6*V_7 + V_5 + V_7)\n",
      "\n",
      "Solution set 2:\n",
      "As list: [-V_5, V_2, V_3, (V_2*V_3*V_5*V_6 + V_2*V_5**2*V_6 - V_2*V_5 + V_3*V_6)/(V_2*V_3*V_5**2*V_6 - V_2*V_3*V_5 + V_3*V_5*V_6 - V_3 - V_5**2*V_6 + V_5), V_5, V_6, V_3*(V_2*V_5 + 1)/(V_5*V_6 - 1), (-V_2*V_3 + V_5*V_6)/(V_2*V_3*V_5 + V_3 - V_5)]\n",
      "Is irreducible: True\n",
      "V_1: -V_5\n",
      "V_2: V_2\n",
      "V_3: V_3\n",
      "V_4: (V_2*V_3*V_5*V_6 + V_2*V_5**2*V_6 - V_2*V_5 + V_3*V_6)/(V_2*V_3*V_5**2*V_6 - V_2*V_3*V_5 + V_3*V_5*V_6 - V_3 - V_5**2*V_6 + V_5)\n",
      "V_5: V_5\n",
      "V_6: V_6\n",
      "V_7: V_3*(V_2*V_5 + 1)/(V_5*V_6 - 1)\n",
      "V_8: (-V_2*V_3 + V_5*V_6)/(V_2*V_3*V_5 + V_3 - V_5)\n",
      "\n",
      "Solution set 3:\n",
      "As list: [-V_5, -V_6, V_3, V_6*(V_3 + V_5)/(V_3*V_5*V_6 - V_3 + V_5), V_5, V_6, -V_3, -V_6*(V_3 + V_5)/(V_3*V_5*V_6 - V_3 + V_5)]\n",
      "Is irreducible: True\n",
      "V_1: -V_5\n",
      "V_2: -V_6\n",
      "V_3: V_3\n",
      "V_4: V_6*(V_3 + V_5)/(V_3*V_5*V_6 - V_3 + V_5)\n",
      "V_5: V_5\n",
      "V_6: V_6\n",
      "V_7: -V_3\n",
      "V_8: -V_6*(V_3 + V_5)/(V_3*V_5*V_6 - V_3 + V_5)\n"
     ]
    }
   ],
   "execution_count": 62
  },
  {
   "metadata": {},
   "cell_type": "markdown",
   "source": "# Period 9",
   "id": "c6ad2e67421f974"
  },
  {
   "metadata": {},
   "cell_type": "code",
   "outputs": [],
   "execution_count": null,
   "source": [
    "# V_1, V_2, V_3, V_4, V_5, V_6, V_7 = sp.symbols('V_1 V_2 V_3 V_4 V_5 V_6 V_7')\n",
    "# equations.append(sp.Eq(V_1, (V_3-1)/(V_2*V_3-1)))\n",
    "# equations.append(sp.Eq(V_2, V_2))\n",
    "# equations.append(sp.Eq(V_3, V_3))\n",
    "# equations.append(sp.Eq(V_4, (V_2-1)/(V_2*V_3-1)))"
   ],
   "id": "3915adf7fc626af7"
  },
  {
   "metadata": {
    "ExecuteTime": {
     "end_time": "2025-07-08T17:14:21.839298Z",
     "start_time": "2025-07-08T17:13:37.013329Z"
    }
   },
   "cell_type": "code",
   "source": [
    "lhs_M_E1, rhs_M_E1, potential_var = compute_split_monodromy_identity(period=9, energy_param='E_1')\n",
    "\n",
    "sign = 1\n",
    "\n",
    "equations = []\n",
    "for i in range(4):\n",
    "    equations.extend(cycle_potentials(sp.Eq(lhs_M_E1[i] - sign * rhs_M_E1[i], 0).subs(E_1, 0), potential_var))\n",
    "\n",
    "simplified_equations = []\n",
    "for equation in equations:\n",
    "    simplified_equations.append(sp.simplify(equation))\n",
    "\n",
    "\n",
    "solutions = sp.solve(simplified_equations, potential_var, dict=True, numerical=True)\n",
    "\n",
    "analyze_solutions(solutions, potential_var)\n"
   ],
   "id": "e0195dfbb5f1b503",
   "outputs": [
    {
     "name": "stdout",
     "output_type": "stream",
     "text": [
      "\n",
      "==================================================================================================== \n",
      "\n",
      "=== SOLUTION ANALYSIS ===\n",
      "\n",
      "Solution set 1:\n",
      "As list: [V_1, V_2, V_3, (-V_1*V_2*V_9 + V_2 - V_6*V_7 + V_9 + 1)/(-V_1*V_2*V_3*V_9 + V_1*V_9 + V_2*V_3 + V_3*V_9 - 1), (V_1*V_2*V_3*V_9 - V_1*V_9 - V_2*V_3 - V_3*V_9 + V_7 + 1)/(V_6*V_7 - 1), V_6, V_7, (V_1*V_2*V_3*V_6*V_7 + V_1*V_2*V_3*V_6*V_9 - V_1*V_2*V_3 - V_1*V_6*V_7 - V_1*V_6*V_9 + V_1 - V_2*V_3*V_6 - V_3*V_6*V_7 - V_3*V_6*V_9 + V_3 + V_6 + 1)/(V_1*V_2*V_3*V_6*V_7*V_9 - V_1*V_2*V_3*V_9 - V_1*V_6*V_7*V_9 + V_1*V_9 - V_2*V_3*V_6*V_7 + V_2*V_3 - V_3*V_6*V_7*V_9 + V_3*V_9 + V_6*V_7 - 1), V_9]\n",
      "Is irreducible: True\n",
      "V_1: V_1\n",
      "V_2: V_2\n",
      "V_3: V_3\n",
      "V_4: (-V_1*V_2*V_9 + V_2 - V_6*V_7 + V_9 + 1)/(-V_1*V_2*V_3*V_9 + V_1*V_9 + V_2*V_3 + V_3*V_9 - 1)\n",
      "V_5: (V_1*V_2*V_3*V_9 - V_1*V_9 - V_2*V_3 - V_3*V_9 + V_7 + 1)/(V_6*V_7 - 1)\n",
      "V_6: V_6\n",
      "V_7: V_7\n",
      "V_8: (V_1*V_2*V_3*V_6*V_7 + V_1*V_2*V_3*V_6*V_9 - V_1*V_2*V_3 - V_1*V_6*V_7 - V_1*V_6*V_9 + V_1 - V_2*V_3*V_6 - V_3*V_6*V_7 - V_3*V_6*V_9 + V_3 + V_6 + 1)/(V_1*V_2*V_3*V_6*V_7*V_9 - V_1*V_2*V_3*V_9 - V_1*V_6*V_7*V_9 + V_1*V_9 - V_2*V_3*V_6*V_7 + V_2*V_3 - V_3*V_6*V_7*V_9 + V_3*V_9 + V_6*V_7 - 1)\n",
      "V_9: V_9\n",
      "\n",
      "Solution set 2:\n",
      "As list: [V_1, V_2, (-V_1*V_6*V_9 + V_6 + 1)/(V_6*(-V_1*V_2*V_9 + V_2 + V_9)), V_6*(-V_1*V_2*V_9 + V_2 - V_6*V_7 + V_9 + 1), 1/V_6, V_6, V_7, (V_1*V_2 - V_6 - 1)/(V_1*V_2*V_9 - V_2 - V_9), V_9]\n",
      "Is irreducible: True\n",
      "V_1: V_1\n",
      "V_2: V_2\n",
      "V_3: (-V_1*V_6*V_9 + V_6 + 1)/(V_6*(-V_1*V_2*V_9 + V_2 + V_9))\n",
      "V_4: V_6*(-V_1*V_2*V_9 + V_2 - V_6*V_7 + V_9 + 1)\n",
      "V_5: 1/V_6\n",
      "V_6: V_6\n",
      "V_7: V_7\n",
      "V_8: (V_1*V_2 - V_6 - 1)/(V_1*V_2*V_9 - V_2 - V_9)\n",
      "V_9: V_9\n"
     ]
    }
   ],
   "execution_count": 61
  },
  {
   "metadata": {
    "jupyter": {
     "is_executing": true
    },
    "ExecuteTime": {
     "start_time": "2025-07-08T22:05:29.990746Z"
    }
   },
   "cell_type": "code",
   "source": [
    "lhs_M_E1, rhs_M_E1, potential_var = compute_split_monodromy_identity(period=9, energy_param='E_1')\n",
    "\n",
    "sign = -1\n",
    "\n",
    "equations = []\n",
    "for i in range(4):\n",
    "    equations.extend(cycle_potentials(sp.Eq(lhs_M_E1[i] - sign * rhs_M_E1[i], 0).subs(E_1, 0), potential_var))\n",
    "\n",
    "simplified_equations = []\n",
    "for equation in equations:\n",
    "    simplified_equations.append(sp.simplify(equation))\n",
    "\n",
    "\n",
    "solutions = sp.solve(simplified_equations, potential_var, dict=True, numerical=True)\n",
    "\n",
    "analyze_solutions(solutions, potential_var)\n"
   ],
   "id": "3dd2ca6d6160d187",
   "outputs": [],
   "execution_count": null
  },
  {
   "metadata": {},
   "cell_type": "markdown",
   "source": "# Period 10",
   "id": "d9bf28c3d0709511"
  },
  {
   "metadata": {
    "ExecuteTime": {
     "end_time": "2025-07-08T19:03:46.884682Z",
     "start_time": "2025-07-08T18:35:23.072390Z"
    }
   },
   "cell_type": "code",
   "source": [
    "lhs_M_E1, rhs_M_E1, potential_var = compute_split_monodromy_identity(period=10, energy_param='E_1')\n",
    "\n",
    "sign = 1\n",
    "\n",
    "equations = []\n",
    "for i in range(4):\n",
    "    equations.extend(cycle_potentials(sp.Eq(lhs_M_E1[i] - sign * rhs_M_E1[i], 0).subs(E_1, 0), potential_var))\n",
    "\n",
    "simplified_equations = []\n",
    "for equation in equations:\n",
    "    simplified_equations.append(sp.simplify(equation))\n",
    "\n",
    "\n",
    "solutions = sp.solve(simplified_equations, potential_var, dict=True, numerical=True)\n",
    "\n",
    "analyze_solutions(solutions, potential_var)"
   ],
   "id": "24a30521617d0522",
   "outputs": [
    {
     "ename": "KeyboardInterrupt",
     "evalue": "",
     "output_type": "error",
     "traceback": [
      "\u001B[31m---------------------------------------------------------------------------\u001B[39m",
      "\u001B[31mKeyboardInterrupt\u001B[39m                         Traceback (most recent call last)",
      "\u001B[36mCell\u001B[39m\u001B[36m \u001B[39m\u001B[32mIn[69]\u001B[39m\u001B[32m, line 14\u001B[39m\n\u001B[32m     10\u001B[39m \u001B[38;5;28;01mfor\u001B[39;00m equation \u001B[38;5;129;01min\u001B[39;00m equations:\n\u001B[32m     11\u001B[39m     simplified_equations.append(sp.simplify(equation))\n\u001B[32m---> \u001B[39m\u001B[32m14\u001B[39m solutions = \u001B[43msp\u001B[49m\u001B[43m.\u001B[49m\u001B[43msolve\u001B[49m\u001B[43m(\u001B[49m\u001B[43msimplified_equations\u001B[49m\u001B[43m,\u001B[49m\u001B[43m \u001B[49m\u001B[43mpotential_var\u001B[49m\u001B[43m,\u001B[49m\u001B[43m \u001B[49m\u001B[38;5;28;43mdict\u001B[39;49m\u001B[43m=\u001B[49m\u001B[38;5;28;43;01mTrue\u001B[39;49;00m\u001B[43m,\u001B[49m\u001B[43m \u001B[49m\u001B[43mnumerical\u001B[49m\u001B[43m=\u001B[49m\u001B[38;5;28;43;01mTrue\u001B[39;49;00m\u001B[43m)\u001B[49m\n\u001B[32m     16\u001B[39m analyze_solutions(solutions, potential_var)\n",
      "\u001B[36mFile \u001B[39m\u001B[32m~/PycharmProjects/Research/.venv/lib/python3.13/site-packages/sympy/solvers/solvers.py:1170\u001B[39m, in \u001B[36msolve\u001B[39m\u001B[34m(f, *symbols, **flags)\u001B[39m\n\u001B[32m   1168\u001B[39m         solution = _solve(f[\u001B[32m0\u001B[39m], *symbols, **flags)\n\u001B[32m   1169\u001B[39m \u001B[38;5;28;01melse\u001B[39;00m:\n\u001B[32m-> \u001B[39m\u001B[32m1170\u001B[39m     linear, solution = \u001B[43m_solve_system\u001B[49m\u001B[43m(\u001B[49m\u001B[43mf\u001B[49m\u001B[43m,\u001B[49m\u001B[43m \u001B[49m\u001B[43msymbols\u001B[49m\u001B[43m,\u001B[49m\u001B[43m \u001B[49m\u001B[43m*\u001B[49m\u001B[43m*\u001B[49m\u001B[43mflags\u001B[49m\u001B[43m)\u001B[49m\n\u001B[32m   1171\u001B[39m \u001B[38;5;28;01massert\u001B[39;00m \u001B[38;5;28mtype\u001B[39m(solution) \u001B[38;5;129;01mis\u001B[39;00m \u001B[38;5;28mlist\u001B[39m\n\u001B[32m   1172\u001B[39m \u001B[38;5;28;01massert\u001B[39;00m \u001B[38;5;129;01mnot\u001B[39;00m solution \u001B[38;5;129;01mor\u001B[39;00m \u001B[38;5;28mtype\u001B[39m(solution[\u001B[32m0\u001B[39m]) \u001B[38;5;129;01mis\u001B[39;00m \u001B[38;5;28mdict\u001B[39m, solution\n",
      "\u001B[36mFile \u001B[39m\u001B[32m~/PycharmProjects/Research/.venv/lib/python3.13/site-packages/sympy/solvers/solvers.py:1944\u001B[39m, in \u001B[36m_solve_system\u001B[39m\u001B[34m(exprs, symbols, **flags)\u001B[39m\n\u001B[32m   1941\u001B[39m \u001B[38;5;66;03m# if check is True then we see if it satisfies this\u001B[39;00m\n\u001B[32m   1942\u001B[39m \u001B[38;5;66;03m# equation, otherwise we just accept it\u001B[39;00m\n\u001B[32m   1943\u001B[39m \u001B[38;5;28;01mif\u001B[39;00m check \u001B[38;5;129;01mand\u001B[39;00m r:\n\u001B[32m-> \u001B[39m\u001B[32m1944\u001B[39m     b = \u001B[43mchecksol\u001B[49m\u001B[43m(\u001B[49m\u001B[43mu\u001B[49m\u001B[43m,\u001B[49m\u001B[43m \u001B[49m\u001B[43mu\u001B[49m\u001B[43m,\u001B[49m\u001B[43m \u001B[49m\u001B[43meq2\u001B[49m\u001B[43m,\u001B[49m\u001B[43m \u001B[49m\u001B[43mminimal\u001B[49m\u001B[43m=\u001B[49m\u001B[38;5;28;43;01mTrue\u001B[39;49;00m\u001B[43m)\u001B[49m\n\u001B[32m   1945\u001B[39m     \u001B[38;5;28;01mif\u001B[39;00m b \u001B[38;5;129;01mis\u001B[39;00m \u001B[38;5;129;01mnot\u001B[39;00m \u001B[38;5;28;01mNone\u001B[39;00m:\n\u001B[32m   1946\u001B[39m         \u001B[38;5;66;03m# this solution is sufficient to know whether\u001B[39;00m\n\u001B[32m   1947\u001B[39m         \u001B[38;5;66;03m# it is valid or not so we either accept or\u001B[39;00m\n\u001B[32m   1948\u001B[39m         \u001B[38;5;66;03m# reject it, then continue\u001B[39;00m\n\u001B[32m   1949\u001B[39m         \u001B[38;5;28;01mif\u001B[39;00m b:\n",
      "\u001B[36mFile \u001B[39m\u001B[32m~/PycharmProjects/Research/.venv/lib/python3.13/site-packages/sympy/solvers/solvers.py:295\u001B[39m, in \u001B[36mchecksol\u001B[39m\u001B[34m(f, symbol, sol, **flags)\u001B[39m\n\u001B[32m    293\u001B[39m         \u001B[38;5;66;03m# there are free symbols -- simple expansion might work\u001B[39;00m\n\u001B[32m    294\u001B[39m         _, val = val.as_content_primitive()\n\u001B[32m--> \u001B[39m\u001B[32m295\u001B[39m         val = \u001B[43m_mexpand\u001B[49m\u001B[43m(\u001B[49m\u001B[43mval\u001B[49m\u001B[43m.\u001B[49m\u001B[43mas_numer_denom\u001B[49m\u001B[43m(\u001B[49m\u001B[43m)\u001B[49m\u001B[43m[\u001B[49m\u001B[32;43m0\u001B[39;49m\u001B[43m]\u001B[49m\u001B[43m,\u001B[49m\u001B[43m \u001B[49m\u001B[43mrecursive\u001B[49m\u001B[43m=\u001B[49m\u001B[38;5;28;43;01mTrue\u001B[39;49;00m\u001B[43m)\u001B[49m\n\u001B[32m    296\u001B[39m \u001B[38;5;28;01melif\u001B[39;00m attempt == \u001B[32m2\u001B[39m:\n\u001B[32m    297\u001B[39m     \u001B[38;5;28;01mif\u001B[39;00m minimal:\n",
      "\u001B[36mFile \u001B[39m\u001B[32m~/PycharmProjects/Research/.venv/lib/python3.13/site-packages/sympy/core/function.py:2857\u001B[39m, in \u001B[36m_mexpand\u001B[39m\u001B[34m(expr, recursive)\u001B[39m\n\u001B[32m   2855\u001B[39m was = \u001B[38;5;28;01mNone\u001B[39;00m\n\u001B[32m   2856\u001B[39m \u001B[38;5;28;01mwhile\u001B[39;00m was != expr:\n\u001B[32m-> \u001B[39m\u001B[32m2857\u001B[39m     was, expr = expr, \u001B[43mexpand_mul\u001B[49m\u001B[43m(\u001B[49m\u001B[43mexpand_multinomial\u001B[49m\u001B[43m(\u001B[49m\u001B[43mexpr\u001B[49m\u001B[43m)\u001B[49m\u001B[43m)\u001B[49m\n\u001B[32m   2858\u001B[39m     \u001B[38;5;28;01mif\u001B[39;00m \u001B[38;5;129;01mnot\u001B[39;00m recursive:\n\u001B[32m   2859\u001B[39m         \u001B[38;5;28;01mbreak\u001B[39;00m\n",
      "\u001B[36mFile \u001B[39m\u001B[32m~/PycharmProjects/Research/.venv/lib/python3.13/site-packages/sympy/core/function.py:2880\u001B[39m, in \u001B[36mexpand_mul\u001B[39m\u001B[34m(expr, deep)\u001B[39m\n\u001B[32m   2866\u001B[39m \u001B[38;5;28;01mdef\u001B[39;00m\u001B[38;5;250m \u001B[39m\u001B[34mexpand_mul\u001B[39m(expr, deep=\u001B[38;5;28;01mTrue\u001B[39;00m):\n\u001B[32m   2867\u001B[39m \u001B[38;5;250m    \u001B[39m\u001B[33;03m\"\"\"\u001B[39;00m\n\u001B[32m   2868\u001B[39m \u001B[33;03m    Wrapper around expand that only uses the mul hint.  See the expand\u001B[39;00m\n\u001B[32m   2869\u001B[39m \u001B[33;03m    docstring for more information.\u001B[39;00m\n\u001B[32m   (...)\u001B[39m\u001B[32m   2878\u001B[39m \n\u001B[32m   2879\u001B[39m \u001B[33;03m    \"\"\"\u001B[39;00m\n\u001B[32m-> \u001B[39m\u001B[32m2880\u001B[39m     \u001B[38;5;28;01mreturn\u001B[39;00m \u001B[43msympify\u001B[49m\u001B[43m(\u001B[49m\u001B[43mexpr\u001B[49m\u001B[43m)\u001B[49m\u001B[43m.\u001B[49m\u001B[43mexpand\u001B[49m\u001B[43m(\u001B[49m\u001B[43mdeep\u001B[49m\u001B[43m=\u001B[49m\u001B[43mdeep\u001B[49m\u001B[43m,\u001B[49m\u001B[43m \u001B[49m\u001B[43mmul\u001B[49m\u001B[43m=\u001B[49m\u001B[38;5;28;43;01mTrue\u001B[39;49;00m\u001B[43m,\u001B[49m\u001B[43m \u001B[49m\u001B[43mpower_exp\u001B[49m\u001B[43m=\u001B[49m\u001B[38;5;28;43;01mFalse\u001B[39;49;00m\u001B[43m,\u001B[49m\n\u001B[32m   2881\u001B[39m \u001B[43m    \u001B[49m\u001B[43mpower_base\u001B[49m\u001B[43m=\u001B[49m\u001B[38;5;28;43;01mFalse\u001B[39;49;00m\u001B[43m,\u001B[49m\u001B[43m \u001B[49m\u001B[43mbasic\u001B[49m\u001B[43m=\u001B[49m\u001B[38;5;28;43;01mFalse\u001B[39;49;00m\u001B[43m,\u001B[49m\u001B[43m \u001B[49m\u001B[43mmultinomial\u001B[49m\u001B[43m=\u001B[49m\u001B[38;5;28;43;01mFalse\u001B[39;49;00m\u001B[43m,\u001B[49m\u001B[43m \u001B[49m\u001B[43mlog\u001B[49m\u001B[43m=\u001B[49m\u001B[38;5;28;43;01mFalse\u001B[39;49;00m\u001B[43m)\u001B[49m\n",
      "\u001B[36mFile \u001B[39m\u001B[32m~/PycharmProjects/Research/.venv/lib/python3.13/site-packages/sympy/core/cache.py:72\u001B[39m, in \u001B[36m__cacheit.<locals>.func_wrapper.<locals>.wrapper\u001B[39m\u001B[34m(*args, **kwargs)\u001B[39m\n\u001B[32m     69\u001B[39m \u001B[38;5;129m@wraps\u001B[39m(func)\n\u001B[32m     70\u001B[39m \u001B[38;5;28;01mdef\u001B[39;00m\u001B[38;5;250m \u001B[39m\u001B[34mwrapper\u001B[39m(*args, **kwargs):\n\u001B[32m     71\u001B[39m     \u001B[38;5;28;01mtry\u001B[39;00m:\n\u001B[32m---> \u001B[39m\u001B[32m72\u001B[39m         retval = \u001B[43mcfunc\u001B[49m\u001B[43m(\u001B[49m\u001B[43m*\u001B[49m\u001B[43margs\u001B[49m\u001B[43m,\u001B[49m\u001B[43m \u001B[49m\u001B[43m*\u001B[49m\u001B[43m*\u001B[49m\u001B[43mkwargs\u001B[49m\u001B[43m)\u001B[49m\n\u001B[32m     73\u001B[39m     \u001B[38;5;28;01mexcept\u001B[39;00m \u001B[38;5;167;01mTypeError\u001B[39;00m \u001B[38;5;28;01mas\u001B[39;00m e:\n\u001B[32m     74\u001B[39m         \u001B[38;5;28;01mif\u001B[39;00m \u001B[38;5;129;01mnot\u001B[39;00m e.args \u001B[38;5;129;01mor\u001B[39;00m \u001B[38;5;129;01mnot\u001B[39;00m e.args[\u001B[32m0\u001B[39m].startswith(\u001B[33m'\u001B[39m\u001B[33munhashable type:\u001B[39m\u001B[33m'\u001B[39m):\n",
      "\u001B[36mFile \u001B[39m\u001B[32m~/PycharmProjects/Research/.venv/lib/python3.13/site-packages/sympy/core/expr.py:3704\u001B[39m, in \u001B[36mExpr.expand\u001B[39m\u001B[34m(self, deep, modulus, power_base, power_exp, mul, log, multinomial, basic, **hints)\u001B[39m\n\u001B[32m   3702\u001B[39m     \u001B[38;5;28;01mif\u001B[39;00m use_hint:\n\u001B[32m   3703\u001B[39m         hint = \u001B[33m'\u001B[39m\u001B[33m_eval_expand_\u001B[39m\u001B[33m'\u001B[39m + hint\n\u001B[32m-> \u001B[39m\u001B[32m3704\u001B[39m         expr, hit = \u001B[43mExpr\u001B[49m\u001B[43m.\u001B[49m\u001B[43m_expand_hint\u001B[49m\u001B[43m(\u001B[49m\u001B[43mexpr\u001B[49m\u001B[43m,\u001B[49m\u001B[43m \u001B[49m\u001B[43mhint\u001B[49m\u001B[43m,\u001B[49m\u001B[43m \u001B[49m\u001B[43mdeep\u001B[49m\u001B[43m=\u001B[49m\u001B[43mdeep\u001B[49m\u001B[43m,\u001B[49m\u001B[43m \u001B[49m\u001B[43m*\u001B[49m\u001B[43m*\u001B[49m\u001B[43mhints\u001B[49m\u001B[43m)\u001B[49m\n\u001B[32m   3706\u001B[39m \u001B[38;5;28;01mwhile\u001B[39;00m \u001B[38;5;28;01mTrue\u001B[39;00m:\n\u001B[32m   3707\u001B[39m     was = expr\n",
      "\u001B[36mFile \u001B[39m\u001B[32m~/PycharmProjects/Research/.venv/lib/python3.13/site-packages/sympy/core/expr.py:3635\u001B[39m, in \u001B[36mExpr._expand_hint\u001B[39m\u001B[34m(expr, hint, deep, **hints)\u001B[39m\n\u001B[32m   3633\u001B[39m sargs = []\n\u001B[32m   3634\u001B[39m \u001B[38;5;28;01mfor\u001B[39;00m arg \u001B[38;5;129;01min\u001B[39;00m expr.args:\n\u001B[32m-> \u001B[39m\u001B[32m3635\u001B[39m     arg, arghit = \u001B[43mExpr\u001B[49m\u001B[43m.\u001B[49m\u001B[43m_expand_hint\u001B[49m\u001B[43m(\u001B[49m\u001B[43marg\u001B[49m\u001B[43m,\u001B[49m\u001B[43m \u001B[49m\u001B[43mhint\u001B[49m\u001B[43m,\u001B[49m\u001B[43m \u001B[49m\u001B[43m*\u001B[49m\u001B[43m*\u001B[49m\u001B[43mhints\u001B[49m\u001B[43m)\u001B[49m\n\u001B[32m   3636\u001B[39m     hit |= arghit\n\u001B[32m   3637\u001B[39m     sargs.append(arg)\n",
      "\u001B[36mFile \u001B[39m\u001B[32m~/PycharmProjects/Research/.venv/lib/python3.13/site-packages/sympy/core/expr.py:3643\u001B[39m, in \u001B[36mExpr._expand_hint\u001B[39m\u001B[34m(expr, hint, deep, **hints)\u001B[39m\n\u001B[32m   3640\u001B[39m         expr = expr.func(*sargs)\n\u001B[32m   3642\u001B[39m \u001B[38;5;28;01mif\u001B[39;00m \u001B[38;5;28mhasattr\u001B[39m(expr, hint):\n\u001B[32m-> \u001B[39m\u001B[32m3643\u001B[39m     newexpr = \u001B[38;5;28;43mgetattr\u001B[39;49m\u001B[43m(\u001B[49m\u001B[43mexpr\u001B[49m\u001B[43m,\u001B[49m\u001B[43m \u001B[49m\u001B[43mhint\u001B[49m\u001B[43m)\u001B[49m\u001B[43m(\u001B[49m\u001B[43m*\u001B[49m\u001B[43m*\u001B[49m\u001B[43mhints\u001B[49m\u001B[43m)\u001B[49m\n\u001B[32m   3644\u001B[39m     \u001B[38;5;28;01mif\u001B[39;00m newexpr != expr:\n\u001B[32m   3645\u001B[39m         \u001B[38;5;28;01mreturn\u001B[39;00m (newexpr, \u001B[38;5;28;01mTrue\u001B[39;00m)\n",
      "\u001B[36mFile \u001B[39m\u001B[32m~/PycharmProjects/Research/.venv/lib/python3.13/site-packages/sympy/core/mul.py:966\u001B[39m, in \u001B[36mMul._eval_expand_mul\u001B[39m\u001B[34m(self, **hints)\u001B[39m\n\u001B[32m    964\u001B[39m \u001B[38;5;28;01mif\u001B[39;00m sums:\n\u001B[32m    965\u001B[39m     deep = hints.get(\u001B[33m\"\u001B[39m\u001B[33mdeep\u001B[39m\u001B[33m\"\u001B[39m, \u001B[38;5;28;01mFalse\u001B[39;00m)\n\u001B[32m--> \u001B[39m\u001B[32m966\u001B[39m     terms = \u001B[38;5;28;43mself\u001B[39;49m\u001B[43m.\u001B[49m\u001B[43mfunc\u001B[49m\u001B[43m.\u001B[49m\u001B[43m_expandsums\u001B[49m\u001B[43m(\u001B[49m\u001B[43msums\u001B[49m\u001B[43m)\u001B[49m\n\u001B[32m    967\u001B[39m     args = []\n\u001B[32m    968\u001B[39m     \u001B[38;5;28;01mfor\u001B[39;00m term \u001B[38;5;129;01min\u001B[39;00m terms:\n",
      "\u001B[36mFile \u001B[39m\u001B[32m~/PycharmProjects/Research/.venv/lib/python3.13/site-packages/sympy/core/mul.py:930\u001B[39m, in \u001B[36mMul._expandsums\u001B[39m\u001B[34m(sums)\u001B[39m\n\u001B[32m    927\u001B[39m left = Mul._expandsums(sums[:L//\u001B[32m2\u001B[39m])\n\u001B[32m    928\u001B[39m right = Mul._expandsums(sums[L//\u001B[32m2\u001B[39m:])\n\u001B[32m--> \u001B[39m\u001B[32m930\u001B[39m terms = [\u001B[43mMul\u001B[49m\u001B[43m(\u001B[49m\u001B[43ma\u001B[49m\u001B[43m,\u001B[49m\u001B[43m \u001B[49m\u001B[43mb\u001B[49m\u001B[43m)\u001B[49m \u001B[38;5;28;01mfor\u001B[39;00m a \u001B[38;5;129;01min\u001B[39;00m left \u001B[38;5;28;01mfor\u001B[39;00m b \u001B[38;5;129;01min\u001B[39;00m right]\n\u001B[32m    931\u001B[39m added = Add(*terms)\n\u001B[32m    932\u001B[39m \u001B[38;5;28;01mreturn\u001B[39;00m Add.make_args(added)\n",
      "\u001B[36mFile \u001B[39m\u001B[32m~/PycharmProjects/Research/.venv/lib/python3.13/site-packages/sympy/core/cache.py:72\u001B[39m, in \u001B[36m__cacheit.<locals>.func_wrapper.<locals>.wrapper\u001B[39m\u001B[34m(*args, **kwargs)\u001B[39m\n\u001B[32m     69\u001B[39m \u001B[38;5;129m@wraps\u001B[39m(func)\n\u001B[32m     70\u001B[39m \u001B[38;5;28;01mdef\u001B[39;00m\u001B[38;5;250m \u001B[39m\u001B[34mwrapper\u001B[39m(*args, **kwargs):\n\u001B[32m     71\u001B[39m     \u001B[38;5;28;01mtry\u001B[39;00m:\n\u001B[32m---> \u001B[39m\u001B[32m72\u001B[39m         retval = \u001B[43mcfunc\u001B[49m\u001B[43m(\u001B[49m\u001B[43m*\u001B[49m\u001B[43margs\u001B[49m\u001B[43m,\u001B[49m\u001B[43m \u001B[49m\u001B[43m*\u001B[49m\u001B[43m*\u001B[49m\u001B[43mkwargs\u001B[49m\u001B[43m)\u001B[49m\n\u001B[32m     73\u001B[39m     \u001B[38;5;28;01mexcept\u001B[39;00m \u001B[38;5;167;01mTypeError\u001B[39;00m \u001B[38;5;28;01mas\u001B[39;00m e:\n\u001B[32m     74\u001B[39m         \u001B[38;5;28;01mif\u001B[39;00m \u001B[38;5;129;01mnot\u001B[39;00m e.args \u001B[38;5;129;01mor\u001B[39;00m \u001B[38;5;129;01mnot\u001B[39;00m e.args[\u001B[32m0\u001B[39m].startswith(\u001B[33m'\u001B[39m\u001B[33munhashable type:\u001B[39m\u001B[33m'\u001B[39m):\n",
      "\u001B[36mFile \u001B[39m\u001B[32m~/PycharmProjects/Research/.venv/lib/python3.13/site-packages/sympy/core/operations.py:108\u001B[39m, in \u001B[36mAssocOp.__new__\u001B[39m\u001B[34m(cls, evaluate, _sympify, *args)\u001B[39m\n\u001B[32m    105\u001B[39m \u001B[38;5;28;01mif\u001B[39;00m \u001B[38;5;28mlen\u001B[39m(args) == \u001B[32m1\u001B[39m:\n\u001B[32m    106\u001B[39m     \u001B[38;5;28;01mreturn\u001B[39;00m args[\u001B[32m0\u001B[39m]\n\u001B[32m--> \u001B[39m\u001B[32m108\u001B[39m c_part, nc_part, order_symbols = \u001B[38;5;28;43mcls\u001B[39;49m\u001B[43m.\u001B[49m\u001B[43mflatten\u001B[49m\u001B[43m(\u001B[49m\u001B[43margs\u001B[49m\u001B[43m)\u001B[49m\n\u001B[32m    109\u001B[39m is_commutative = \u001B[38;5;129;01mnot\u001B[39;00m nc_part\n\u001B[32m    110\u001B[39m obj = \u001B[38;5;28mcls\u001B[39m._from_args(c_part + nc_part, is_commutative)\n",
      "\u001B[36mFile \u001B[39m\u001B[32m~/PycharmProjects/Research/.venv/lib/python3.13/site-packages/sympy/core/mul.py:722\u001B[39m, in \u001B[36mMul.flatten\u001B[39m\u001B[34m(cls, seq)\u001B[39m\n\u001B[32m    719\u001B[39m c_part = _new\n\u001B[32m    721\u001B[39m \u001B[38;5;66;03m# order commutative part canonically\u001B[39;00m\n\u001B[32m--> \u001B[39m\u001B[32m722\u001B[39m \u001B[43m_mulsort\u001B[49m\u001B[43m(\u001B[49m\u001B[43mc_part\u001B[49m\u001B[43m)\u001B[49m\n\u001B[32m    724\u001B[39m \u001B[38;5;66;03m# current code expects coeff to be always in slot-0\u001B[39;00m\n\u001B[32m    725\u001B[39m \u001B[38;5;28;01mif\u001B[39;00m coeff \u001B[38;5;129;01mis\u001B[39;00m \u001B[38;5;129;01mnot\u001B[39;00m S.One:\n",
      "\u001B[36mFile \u001B[39m\u001B[32m~/PycharmProjects/Research/.venv/lib/python3.13/site-packages/sympy/core/mul.py:36\u001B[39m, in \u001B[36m_mulsort\u001B[39m\u001B[34m(args)\u001B[39m\n\u001B[32m     34\u001B[39m \u001B[38;5;28;01mdef\u001B[39;00m\u001B[38;5;250m \u001B[39m\u001B[34m_mulsort\u001B[39m(args):\n\u001B[32m     35\u001B[39m     \u001B[38;5;66;03m# in-place sorting of args\u001B[39;00m\n\u001B[32m---> \u001B[39m\u001B[32m36\u001B[39m     \u001B[43margs\u001B[49m\u001B[43m.\u001B[49m\u001B[43msort\u001B[49m\u001B[43m(\u001B[49m\u001B[43mkey\u001B[49m\u001B[43m=\u001B[49m\u001B[43m_args_sortkey\u001B[49m\u001B[43m)\u001B[49m\n",
      "\u001B[36mFile \u001B[39m\u001B[32m~/PycharmProjects/Research/.venv/lib/python3.13/site-packages/sympy/core/basic.py:413\u001B[39m, in \u001B[36mBasic.compare\u001B[39m\u001B[34m(self, other)\u001B[39m\n\u001B[32m    411\u001B[39m \u001B[38;5;28;01mfor\u001B[39;00m l, r \u001B[38;5;129;01min\u001B[39;00m \u001B[38;5;28mzip\u001B[39m(st, ot):\n\u001B[32m    412\u001B[39m     \u001B[38;5;28;01mif\u001B[39;00m \u001B[38;5;28misinstance\u001B[39m(l, Basic):\n\u001B[32m--> \u001B[39m\u001B[32m413\u001B[39m         c = \u001B[43ml\u001B[49m\u001B[43m.\u001B[49m\u001B[43mcompare\u001B[49m\u001B[43m(\u001B[49m\u001B[43mr\u001B[49m\u001B[43m)\u001B[49m\n\u001B[32m    414\u001B[39m     \u001B[38;5;28;01melif\u001B[39;00m \u001B[38;5;28misinstance\u001B[39m(l, \u001B[38;5;28mfrozenset\u001B[39m):\n\u001B[32m    415\u001B[39m         l = Basic(*l) \u001B[38;5;28;01mif\u001B[39;00m \u001B[38;5;28misinstance\u001B[39m(l, \u001B[38;5;28mfrozenset\u001B[39m) \u001B[38;5;28;01melse\u001B[39;00m l\n",
      "\u001B[36mFile \u001B[39m\u001B[32m~/PycharmProjects/Research/.venv/lib/python3.13/site-packages/sympy/core/basic.py:411\u001B[39m, in \u001B[36mBasic.compare\u001B[39m\u001B[34m(self, other)\u001B[39m\n\u001B[32m    409\u001B[39m \u001B[38;5;28;01mif\u001B[39;00m c:\n\u001B[32m    410\u001B[39m     \u001B[38;5;28;01mreturn\u001B[39;00m c\n\u001B[32m--> \u001B[39m\u001B[32m411\u001B[39m \u001B[38;5;28;01mfor\u001B[39;00m l, r \u001B[38;5;129;01min\u001B[39;00m \u001B[38;5;28;43mzip\u001B[39;49m\u001B[43m(\u001B[49m\u001B[43mst\u001B[49m\u001B[43m,\u001B[49m\u001B[43m \u001B[49m\u001B[43mot\u001B[49m\u001B[43m)\u001B[49m:\n\u001B[32m    412\u001B[39m     \u001B[38;5;28;01mif\u001B[39;00m \u001B[38;5;28misinstance\u001B[39m(l, Basic):\n\u001B[32m    413\u001B[39m         c = l.compare(r)\n",
      "\u001B[31mKeyboardInterrupt\u001B[39m: "
     ]
    }
   ],
   "execution_count": 69
  },
  {
   "metadata": {},
   "cell_type": "markdown",
   "source": "# Period #11",
   "id": "84be883693d36a33"
  },
  {
   "metadata": {
    "ExecuteTime": {
     "end_time": "2025-07-08T17:13:04.864675Z",
     "start_time": "2025-07-08T15:18:38.038260Z"
    }
   },
   "cell_type": "code",
   "source": [
    "lhs_M_E1, rhs_M_E1, potential_var = compute_split_monodromy_identity(period=11, energy_param='E_1')\n",
    "\n",
    "sign = 1\n",
    "\n",
    "equations = []\n",
    "for i in range(4):\n",
    "    equations.extend(cycle_potentials(sp.Eq(lhs_M_E1[i] - sign * rhs_M_E1[i], 0).subs(E_1, 0), potential_var))\n",
    "\n",
    "simplified_equations = []\n",
    "for equation in equations:\n",
    "    simplified_equations.append(sp.simplify(equation))\n",
    "\n",
    "\n",
    "solutions = sp.solve(simplified_equations, potential_var, dict=True, numerical=True)\n",
    "\n",
    "analyze_solutions(solutions, potential_var)\n"
   ],
   "id": "883a3c6620dd62f0",
   "outputs": [
    {
     "ename": "KeyboardInterrupt",
     "evalue": "",
     "output_type": "error",
     "traceback": [
      "\u001B[31m---------------------------------------------------------------------------\u001B[39m",
      "\u001B[31mKeyboardInterrupt\u001B[39m                         Traceback (most recent call last)",
      "\u001B[36mCell\u001B[39m\u001B[36m \u001B[39m\u001B[32mIn[59]\u001B[39m\u001B[32m, line 14\u001B[39m\n\u001B[32m     10\u001B[39m \u001B[38;5;28;01mfor\u001B[39;00m equation \u001B[38;5;129;01min\u001B[39;00m equations:\n\u001B[32m     11\u001B[39m     simplified_equations.append(sp.simplify(equation))\n\u001B[32m---> \u001B[39m\u001B[32m14\u001B[39m solutions = \u001B[43msp\u001B[49m\u001B[43m.\u001B[49m\u001B[43msolve\u001B[49m\u001B[43m(\u001B[49m\u001B[43msimplified_equations\u001B[49m\u001B[43m,\u001B[49m\u001B[43m \u001B[49m\u001B[43mpotential_var\u001B[49m\u001B[43m,\u001B[49m\u001B[43m \u001B[49m\u001B[38;5;28;43mdict\u001B[39;49m\u001B[43m=\u001B[49m\u001B[38;5;28;43;01mTrue\u001B[39;49;00m\u001B[43m,\u001B[49m\u001B[43m \u001B[49m\u001B[43mnumerical\u001B[49m\u001B[43m=\u001B[49m\u001B[38;5;28;43;01mTrue\u001B[39;49;00m\u001B[43m)\u001B[49m\n\u001B[32m     16\u001B[39m analyze_solutions(solutions, potential_var)\n",
      "\u001B[36mFile \u001B[39m\u001B[32m~/PycharmProjects/Research/.venv/lib/python3.13/site-packages/sympy/solvers/solvers.py:1170\u001B[39m, in \u001B[36msolve\u001B[39m\u001B[34m(f, *symbols, **flags)\u001B[39m\n\u001B[32m   1168\u001B[39m         solution = _solve(f[\u001B[32m0\u001B[39m], *symbols, **flags)\n\u001B[32m   1169\u001B[39m \u001B[38;5;28;01melse\u001B[39;00m:\n\u001B[32m-> \u001B[39m\u001B[32m1170\u001B[39m     linear, solution = \u001B[43m_solve_system\u001B[49m\u001B[43m(\u001B[49m\u001B[43mf\u001B[49m\u001B[43m,\u001B[49m\u001B[43m \u001B[49m\u001B[43msymbols\u001B[49m\u001B[43m,\u001B[49m\u001B[43m \u001B[49m\u001B[43m*\u001B[49m\u001B[43m*\u001B[49m\u001B[43mflags\u001B[49m\u001B[43m)\u001B[49m\n\u001B[32m   1171\u001B[39m \u001B[38;5;28;01massert\u001B[39;00m \u001B[38;5;28mtype\u001B[39m(solution) \u001B[38;5;129;01mis\u001B[39;00m \u001B[38;5;28mlist\u001B[39m\n\u001B[32m   1172\u001B[39m \u001B[38;5;28;01massert\u001B[39;00m \u001B[38;5;129;01mnot\u001B[39;00m solution \u001B[38;5;129;01mor\u001B[39;00m \u001B[38;5;28mtype\u001B[39m(solution[\u001B[32m0\u001B[39m]) \u001B[38;5;129;01mis\u001B[39;00m \u001B[38;5;28mdict\u001B[39m, solution\n",
      "\u001B[36mFile \u001B[39m\u001B[32m~/PycharmProjects/Research/.venv/lib/python3.13/site-packages/sympy/solvers/solvers.py:1963\u001B[39m, in \u001B[36m_solve_system\u001B[39m\u001B[34m(exprs, symbols, **flags)\u001B[39m\n\u001B[32m   1961\u001B[39m \u001B[38;5;28;01mfor\u001B[39;00m s \u001B[38;5;129;01min\u001B[39;00m ok_syms:\n\u001B[32m   1962\u001B[39m     \u001B[38;5;28;01mtry\u001B[39;00m:\n\u001B[32m-> \u001B[39m\u001B[32m1963\u001B[39m         soln = \u001B[43m_vsolve\u001B[49m\u001B[43m(\u001B[49m\u001B[43meq2\u001B[49m\u001B[43m,\u001B[49m\u001B[43m \u001B[49m\u001B[43ms\u001B[49m\u001B[43m,\u001B[49m\u001B[43m \u001B[49m\u001B[43m*\u001B[49m\u001B[43m*\u001B[49m\u001B[43mflags\u001B[49m\u001B[43m)\u001B[49m\n\u001B[32m   1964\u001B[39m     \u001B[38;5;28;01mexcept\u001B[39;00m \u001B[38;5;167;01mNotImplementedError\u001B[39;00m:\n\u001B[32m   1965\u001B[39m         \u001B[38;5;28;01mcontinue\u001B[39;00m\n",
      "\u001B[36mFile \u001B[39m\u001B[32m~/PycharmProjects/Research/.venv/lib/python3.13/site-packages/sympy/solvers/solvers.py:2638\u001B[39m, in \u001B[36m_vsolve\u001B[39m\u001B[34m(e, s, **flags)\u001B[39m\n\u001B[32m   2636\u001B[39m \u001B[38;5;28;01mdef\u001B[39;00m\u001B[38;5;250m \u001B[39m\u001B[34m_vsolve\u001B[39m(e, s, **flags):\n\u001B[32m   2637\u001B[39m \u001B[38;5;250m    \u001B[39m\u001B[33;03m\"\"\"return list of scalar values for the solution of e for symbol s\"\"\"\u001B[39;00m\n\u001B[32m-> \u001B[39m\u001B[32m2638\u001B[39m     \u001B[38;5;28;01mreturn\u001B[39;00m [i[s] \u001B[38;5;28;01mfor\u001B[39;00m i \u001B[38;5;129;01min\u001B[39;00m \u001B[43m_solve\u001B[49m\u001B[43m(\u001B[49m\u001B[43me\u001B[49m\u001B[43m,\u001B[49m\u001B[43m \u001B[49m\u001B[43ms\u001B[49m\u001B[43m,\u001B[49m\u001B[43m \u001B[49m\u001B[43m*\u001B[49m\u001B[43m*\u001B[49m\u001B[43mflags\u001B[49m\u001B[43m)\u001B[49m]\n",
      "\u001B[36mFile \u001B[39m\u001B[32m~/PycharmProjects/Research/.venv/lib/python3.13/site-packages/sympy/solvers/solvers.py:1624\u001B[39m, in \u001B[36m_solve\u001B[39m\u001B[34m(f, *symbols, **flags)\u001B[39m\n\u001B[32m   1613\u001B[39m                 result = [{symbol: i.subs(s)} \u001B[38;5;28;01mfor\u001B[39;00m i \u001B[38;5;129;01min\u001B[39;00m inv \u001B[38;5;28;01mfor\u001B[39;00m s \u001B[38;5;129;01min\u001B[39;00m soln]\n\u001B[32m   1615\u001B[39m \u001B[38;5;28;01melif\u001B[39;00m \u001B[38;5;28mlen\u001B[39m(gens) == \u001B[32m1\u001B[39m:\n\u001B[32m   1616\u001B[39m \n\u001B[32m   1617\u001B[39m     \u001B[38;5;66;03m# There is only one generator that we are interested in, but\u001B[39;00m\n\u001B[32m   (...)\u001B[39m\u001B[32m   1621\u001B[39m     \u001B[38;5;66;03m# Also use composite=True with f_num since Poly won't update\u001B[39;00m\n\u001B[32m   1622\u001B[39m     \u001B[38;5;66;03m# poly as documented in issue 8810.\u001B[39;00m\n\u001B[32m-> \u001B[39m\u001B[32m1624\u001B[39m     poly = \u001B[43mPoly\u001B[49m\u001B[43m(\u001B[49m\u001B[43mf_num\u001B[49m\u001B[43m,\u001B[49m\u001B[43m \u001B[49m\u001B[43mgens\u001B[49m\u001B[43m[\u001B[49m\u001B[32;43m0\u001B[39;49m\u001B[43m]\u001B[49m\u001B[43m,\u001B[49m\u001B[43m \u001B[49m\u001B[43mcomposite\u001B[49m\u001B[43m=\u001B[49m\u001B[38;5;28;43;01mTrue\u001B[39;49;00m\u001B[43m)\u001B[49m\n\u001B[32m   1626\u001B[39m     \u001B[38;5;66;03m# if we aren't on the tsolve-pass, use roots\u001B[39;00m\n\u001B[32m   1627\u001B[39m     \u001B[38;5;28;01mif\u001B[39;00m \u001B[38;5;129;01mnot\u001B[39;00m flags.pop(\u001B[33m'\u001B[39m\u001B[33mtsolve\u001B[39m\u001B[33m'\u001B[39m, \u001B[38;5;28;01mFalse\u001B[39;00m):\n",
      "\u001B[36mFile \u001B[39m\u001B[32m~/PycharmProjects/Research/.venv/lib/python3.13/site-packages/sympy/polys/polytools.py:190\u001B[39m, in \u001B[36mPoly.__new__\u001B[39m\u001B[34m(cls, rep, *gens, **args)\u001B[39m\n\u001B[32m    188\u001B[39m     \u001B[38;5;28;01mreturn\u001B[39;00m \u001B[38;5;28mcls\u001B[39m._from_poly(rep, opt)\n\u001B[32m    189\u001B[39m \u001B[38;5;28;01melse\u001B[39;00m:\n\u001B[32m--> \u001B[39m\u001B[32m190\u001B[39m     \u001B[38;5;28;01mreturn\u001B[39;00m \u001B[38;5;28;43mcls\u001B[39;49m\u001B[43m.\u001B[49m\u001B[43m_from_expr\u001B[49m\u001B[43m(\u001B[49m\u001B[43mrep\u001B[49m\u001B[43m,\u001B[49m\u001B[43m \u001B[49m\u001B[43mopt\u001B[49m\u001B[43m)\u001B[49m\n",
      "\u001B[36mFile \u001B[39m\u001B[32m~/PycharmProjects/Research/.venv/lib/python3.13/site-packages/sympy/polys/polytools.py:319\u001B[39m, in \u001B[36mPoly._from_expr\u001B[39m\u001B[34m(cls, rep, opt)\u001B[39m\n\u001B[32m    316\u001B[39m \u001B[38;5;129m@classmethod\u001B[39m\n\u001B[32m    317\u001B[39m \u001B[38;5;28;01mdef\u001B[39;00m\u001B[38;5;250m \u001B[39m\u001B[34m_from_expr\u001B[39m(\u001B[38;5;28mcls\u001B[39m, rep, opt):\n\u001B[32m    318\u001B[39m \u001B[38;5;250m    \u001B[39m\u001B[33;03m\"\"\"Construct a polynomial from an expression. \"\"\"\u001B[39;00m\n\u001B[32m--> \u001B[39m\u001B[32m319\u001B[39m     rep, opt = \u001B[43m_dict_from_expr\u001B[49m\u001B[43m(\u001B[49m\u001B[43mrep\u001B[49m\u001B[43m,\u001B[49m\u001B[43m \u001B[49m\u001B[43mopt\u001B[49m\u001B[43m)\u001B[49m\n\u001B[32m    320\u001B[39m     \u001B[38;5;28;01mreturn\u001B[39;00m \u001B[38;5;28mcls\u001B[39m._from_dict(rep, opt)\n",
      "\u001B[36mFile \u001B[39m\u001B[32m~/PycharmProjects/Research/.venv/lib/python3.13/site-packages/sympy/polys/polyutils.py:388\u001B[39m, in \u001B[36m_dict_from_expr\u001B[39m\u001B[34m(expr, opt)\u001B[39m\n\u001B[32m    385\u001B[39m         expr = expand_mul(expr)\n\u001B[32m    387\u001B[39m \u001B[38;5;28;01mif\u001B[39;00m opt.gens:\n\u001B[32m--> \u001B[39m\u001B[32m388\u001B[39m     rep, gens = \u001B[43m_dict_from_expr_if_gens\u001B[49m\u001B[43m(\u001B[49m\u001B[43mexpr\u001B[49m\u001B[43m,\u001B[49m\u001B[43m \u001B[49m\u001B[43mopt\u001B[49m\u001B[43m)\u001B[49m\n\u001B[32m    389\u001B[39m \u001B[38;5;28;01melse\u001B[39;00m:\n\u001B[32m    390\u001B[39m     rep, gens = _dict_from_expr_no_gens(expr, opt)\n",
      "\u001B[36mFile \u001B[39m\u001B[32m~/PycharmProjects/Research/.venv/lib/python3.13/site-packages/sympy/polys/polyutils.py:327\u001B[39m, in \u001B[36m_dict_from_expr_if_gens\u001B[39m\u001B[34m(expr, opt)\u001B[39m\n\u001B[32m    325\u001B[39m \u001B[38;5;28;01mdef\u001B[39;00m\u001B[38;5;250m \u001B[39m\u001B[34m_dict_from_expr_if_gens\u001B[39m(expr, opt):\n\u001B[32m    326\u001B[39m \u001B[38;5;250m    \u001B[39m\u001B[33;03m\"\"\"Transform an expression into a multinomial form given generators. \"\"\"\u001B[39;00m\n\u001B[32m--> \u001B[39m\u001B[32m327\u001B[39m     (poly,), gens = \u001B[43m_parallel_dict_from_expr_if_gens\u001B[49m\u001B[43m(\u001B[49m\u001B[43m(\u001B[49m\u001B[43mexpr\u001B[49m\u001B[43m,\u001B[49m\u001B[43m)\u001B[49m\u001B[43m,\u001B[49m\u001B[43m \u001B[49m\u001B[43mopt\u001B[49m\u001B[43m)\u001B[49m\n\u001B[32m    328\u001B[39m     \u001B[38;5;28;01mreturn\u001B[39;00m poly, gens\n",
      "\u001B[36mFile \u001B[39m\u001B[32m~/PycharmProjects/Research/.venv/lib/python3.13/site-packages/sympy/polys/polyutils.py:242\u001B[39m, in \u001B[36m_parallel_dict_from_expr_if_gens\u001B[39m\u001B[34m(exprs, opt)\u001B[39m\n\u001B[32m    239\u001B[39m monom = \u001B[38;5;28mtuple\u001B[39m(monom)\n\u001B[32m    241\u001B[39m \u001B[38;5;28;01mif\u001B[39;00m monom \u001B[38;5;129;01min\u001B[39;00m poly:\n\u001B[32m--> \u001B[39m\u001B[32m242\u001B[39m     \u001B[43mpoly\u001B[49m\u001B[43m[\u001B[49m\u001B[43mmonom\u001B[49m\u001B[43m]\u001B[49m\u001B[43m \u001B[49m\u001B[43m+\u001B[49m\u001B[43m=\u001B[49m\u001B[43m \u001B[49m\u001B[43mMul\u001B[49m\u001B[43m(\u001B[49m\u001B[43m*\u001B[49m\u001B[43mcoeff\u001B[49m\u001B[43m)\u001B[49m\n\u001B[32m    243\u001B[39m \u001B[38;5;28;01melse\u001B[39;00m:\n\u001B[32m    244\u001B[39m     poly[monom] = Mul(*coeff)\n",
      "\u001B[36mFile \u001B[39m\u001B[32m~/PycharmProjects/Research/.venv/lib/python3.13/site-packages/sympy/core/decorators.py:248\u001B[39m, in \u001B[36m_SympifyWrapper.make_wrapped.<locals>._func\u001B[39m\u001B[34m(self, other)\u001B[39m\n\u001B[32m    246\u001B[39m \u001B[38;5;28;01mif\u001B[39;00m \u001B[38;5;129;01mnot\u001B[39;00m \u001B[38;5;28misinstance\u001B[39m(other, expectedcls):\n\u001B[32m    247\u001B[39m     \u001B[38;5;28;01mreturn\u001B[39;00m retval\n\u001B[32m--> \u001B[39m\u001B[32m248\u001B[39m \u001B[38;5;28;01mreturn\u001B[39;00m \u001B[43mfunc\u001B[49m\u001B[43m(\u001B[49m\u001B[38;5;28;43mself\u001B[39;49m\u001B[43m,\u001B[49m\u001B[43m \u001B[49m\u001B[43mother\u001B[49m\u001B[43m)\u001B[49m\n",
      "\u001B[36mFile \u001B[39m\u001B[32m~/PycharmProjects/Research/.venv/lib/python3.13/site-packages/sympy/core/decorators.py:118\u001B[39m, in \u001B[36mcall_highest_priority.<locals>.priority_decorator.<locals>.binary_op_wrapper\u001B[39m\u001B[34m(self, other)\u001B[39m\n\u001B[32m    116\u001B[39m         \u001B[38;5;28;01mif\u001B[39;00m f \u001B[38;5;129;01mis\u001B[39;00m \u001B[38;5;129;01mnot\u001B[39;00m \u001B[38;5;28;01mNone\u001B[39;00m:\n\u001B[32m    117\u001B[39m             \u001B[38;5;28;01mreturn\u001B[39;00m f(\u001B[38;5;28mself\u001B[39m)\n\u001B[32m--> \u001B[39m\u001B[32m118\u001B[39m \u001B[38;5;28;01mreturn\u001B[39;00m \u001B[43mfunc\u001B[49m\u001B[43m(\u001B[49m\u001B[38;5;28;43mself\u001B[39;49m\u001B[43m,\u001B[49m\u001B[43m \u001B[49m\u001B[43mother\u001B[49m\u001B[43m)\u001B[49m\n",
      "\u001B[36mFile \u001B[39m\u001B[32m~/PycharmProjects/Research/.venv/lib/python3.13/site-packages/sympy/core/expr.py:234\u001B[39m, in \u001B[36mExpr.__add__\u001B[39m\u001B[34m(self, other)\u001B[39m\n\u001B[32m    231\u001B[39m \u001B[38;5;129m@sympify_return\u001B[39m([(\u001B[33m'\u001B[39m\u001B[33mother\u001B[39m\u001B[33m'\u001B[39m, \u001B[33m'\u001B[39m\u001B[33mExpr\u001B[39m\u001B[33m'\u001B[39m)], \u001B[38;5;28mNotImplemented\u001B[39m)\n\u001B[32m    232\u001B[39m \u001B[38;5;129m@call_highest_priority\u001B[39m(\u001B[33m'\u001B[39m\u001B[33m__radd__\u001B[39m\u001B[33m'\u001B[39m)\n\u001B[32m    233\u001B[39m \u001B[38;5;28;01mdef\u001B[39;00m\u001B[38;5;250m \u001B[39m\u001B[34m__add__\u001B[39m(\u001B[38;5;28mself\u001B[39m, other) -> Expr:\n\u001B[32m--> \u001B[39m\u001B[32m234\u001B[39m     \u001B[38;5;28;01mreturn\u001B[39;00m \u001B[43mAdd\u001B[49m\u001B[43m(\u001B[49m\u001B[38;5;28;43mself\u001B[39;49m\u001B[43m,\u001B[49m\u001B[43m \u001B[49m\u001B[43mother\u001B[49m\u001B[43m)\u001B[49m\n",
      "\u001B[36mFile \u001B[39m\u001B[32m~/PycharmProjects/Research/.venv/lib/python3.13/site-packages/sympy/core/cache.py:72\u001B[39m, in \u001B[36m__cacheit.<locals>.func_wrapper.<locals>.wrapper\u001B[39m\u001B[34m(*args, **kwargs)\u001B[39m\n\u001B[32m     69\u001B[39m \u001B[38;5;129m@wraps\u001B[39m(func)\n\u001B[32m     70\u001B[39m \u001B[38;5;28;01mdef\u001B[39;00m\u001B[38;5;250m \u001B[39m\u001B[34mwrapper\u001B[39m(*args, **kwargs):\n\u001B[32m     71\u001B[39m     \u001B[38;5;28;01mtry\u001B[39;00m:\n\u001B[32m---> \u001B[39m\u001B[32m72\u001B[39m         retval = \u001B[43mcfunc\u001B[49m\u001B[43m(\u001B[49m\u001B[43m*\u001B[49m\u001B[43margs\u001B[49m\u001B[43m,\u001B[49m\u001B[43m \u001B[49m\u001B[43m*\u001B[49m\u001B[43m*\u001B[49m\u001B[43mkwargs\u001B[49m\u001B[43m)\u001B[49m\n\u001B[32m     73\u001B[39m     \u001B[38;5;28;01mexcept\u001B[39;00m \u001B[38;5;167;01mTypeError\u001B[39;00m \u001B[38;5;28;01mas\u001B[39;00m e:\n\u001B[32m     74\u001B[39m         \u001B[38;5;28;01mif\u001B[39;00m \u001B[38;5;129;01mnot\u001B[39;00m e.args \u001B[38;5;129;01mor\u001B[39;00m \u001B[38;5;129;01mnot\u001B[39;00m e.args[\u001B[32m0\u001B[39m].startswith(\u001B[33m'\u001B[39m\u001B[33munhashable type:\u001B[39m\u001B[33m'\u001B[39m):\n",
      "\u001B[36mFile \u001B[39m\u001B[32m~/PycharmProjects/Research/.venv/lib/python3.13/site-packages/sympy/core/operations.py:111\u001B[39m, in \u001B[36mAssocOp.__new__\u001B[39m\u001B[34m(cls, evaluate, _sympify, *args)\u001B[39m\n\u001B[32m    109\u001B[39m is_commutative = \u001B[38;5;129;01mnot\u001B[39;00m nc_part\n\u001B[32m    110\u001B[39m obj = \u001B[38;5;28mcls\u001B[39m._from_args(c_part + nc_part, is_commutative)\n\u001B[32m--> \u001B[39m\u001B[32m111\u001B[39m obj = \u001B[38;5;28;43mcls\u001B[39;49m\u001B[43m.\u001B[49m\u001B[43m_exec_constructor_postprocessors\u001B[49m\u001B[43m(\u001B[49m\u001B[43mobj\u001B[49m\u001B[43m)\u001B[49m\n\u001B[32m    113\u001B[39m \u001B[38;5;28;01mif\u001B[39;00m order_symbols \u001B[38;5;129;01mis\u001B[39;00m \u001B[38;5;129;01mnot\u001B[39;00m \u001B[38;5;28;01mNone\u001B[39;00m:\n\u001B[32m    114\u001B[39m     \u001B[38;5;28;01mfrom\u001B[39;00m\u001B[38;5;250m \u001B[39m\u001B[34;01msympy\u001B[39;00m\u001B[34;01m.\u001B[39;00m\u001B[34;01mseries\u001B[39;00m\u001B[34;01m.\u001B[39;00m\u001B[34;01morder\u001B[39;00m\u001B[38;5;250m \u001B[39m\u001B[38;5;28;01mimport\u001B[39;00m Order\n",
      "\u001B[36mFile \u001B[39m\u001B[32m~/PycharmProjects/Research/.venv/lib/python3.13/site-packages/sympy/core/basic.py:2129\u001B[39m, in \u001B[36mBasic._exec_constructor_postprocessors\u001B[39m\u001B[34m(cls, obj)\u001B[39m\n\u001B[32m   2117\u001B[39m \u001B[38;5;129m@classmethod\u001B[39m\n\u001B[32m   2118\u001B[39m \u001B[38;5;28;01mdef\u001B[39;00m\u001B[38;5;250m \u001B[39m\u001B[34m_exec_constructor_postprocessors\u001B[39m(\u001B[38;5;28mcls\u001B[39m, obj):\n\u001B[32m   2119\u001B[39m     \u001B[38;5;66;03m# WARNING: This API is experimental.\u001B[39;00m\n\u001B[32m   (...)\u001B[39m\u001B[32m   2124\u001B[39m     \u001B[38;5;66;03m# be interpreted as a dictionary containing lists of postprocessing\u001B[39;00m\n\u001B[32m   2125\u001B[39m     \u001B[38;5;66;03m# functions for matching expression node names.\u001B[39;00m\n\u001B[32m   2127\u001B[39m     clsname = obj.\u001B[34m__class__\u001B[39m.\u001B[34m__name__\u001B[39m\n\u001B[32m   2128\u001B[39m     postprocessors = {f \u001B[38;5;28;01mfor\u001B[39;00m i \u001B[38;5;129;01min\u001B[39;00m obj.args\n\u001B[32m-> \u001B[39m\u001B[32m2129\u001B[39m                         \u001B[38;5;28;01mfor\u001B[39;00m f \u001B[38;5;129;01min\u001B[39;00m \u001B[43m_get_postprocessors\u001B[49m\u001B[43m(\u001B[49m\u001B[43mclsname\u001B[49m\u001B[43m,\u001B[49m\u001B[43m \u001B[49m\u001B[38;5;28;43mtype\u001B[39;49m\u001B[43m(\u001B[49m\u001B[43mi\u001B[49m\u001B[43m)\u001B[49m\u001B[43m)\u001B[49m}\n\u001B[32m   2130\u001B[39m     \u001B[38;5;28;01mfor\u001B[39;00m f \u001B[38;5;129;01min\u001B[39;00m postprocessors:\n\u001B[32m   2131\u001B[39m         obj = f(obj)\n",
      "\u001B[36mFile \u001B[39m\u001B[32m~/PycharmProjects/Research/.venv/lib/python3.13/site-packages/sympy/core/cache.py:69\u001B[39m, in \u001B[36m__cacheit.<locals>.func_wrapper.<locals>.wrapper\u001B[39m\u001B[34m(*args, **kwargs)\u001B[39m\n\u001B[32m     66\u001B[39m \u001B[38;5;28;01mdef\u001B[39;00m\u001B[38;5;250m \u001B[39m\u001B[34mfunc_wrapper\u001B[39m(func):\n\u001B[32m     67\u001B[39m     cfunc = lru_cache(maxsize, typed=\u001B[38;5;28;01mTrue\u001B[39;00m)(func)\n\u001B[32m---> \u001B[39m\u001B[32m69\u001B[39m     \u001B[38;5;129m@wraps\u001B[39m(func)\n\u001B[32m     70\u001B[39m     \u001B[38;5;28;01mdef\u001B[39;00m\u001B[38;5;250m \u001B[39m\u001B[34mwrapper\u001B[39m(*args, **kwargs):\n\u001B[32m     71\u001B[39m         \u001B[38;5;28;01mtry\u001B[39;00m:\n\u001B[32m     72\u001B[39m             retval = cfunc(*args, **kwargs)\n",
      "\u001B[31mKeyboardInterrupt\u001B[39m: "
     ]
    }
   ],
   "execution_count": 59
  }
 ],
 "metadata": {
  "kernelspec": {
   "display_name": "Python 3",
   "language": "python",
   "name": "python3"
  },
  "language_info": {
   "codemirror_mode": {
    "name": "ipython",
    "version": 2
   },
   "file_extension": ".py",
   "mimetype": "text/x-python",
   "name": "python",
   "nbconvert_exporter": "python",
   "pygments_lexer": "ipython2",
   "version": "2.7.6"
  }
 },
 "nbformat": 4,
 "nbformat_minor": 5
}
