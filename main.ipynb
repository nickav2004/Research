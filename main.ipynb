{
 "cells": [
  {
   "metadata": {
    "ExecuteTime": {
     "end_time": "2025-07-02T19:36:08.033677Z",
     "start_time": "2025-07-02T19:36:07.850409Z"
    }
   },
   "cell_type": "code",
   "source": [
    "import sympy as sp\n",
    "from functions import cycle_potentials, is_irreducible, compute_periodic_schrodinger_system, get_monodromy_identity_equations_split, compute_split_monodromy_identity, analyze_solutions"
   ],
   "id": "882a69fb6b80ed28",
   "outputs": [],
   "execution_count": 1
  },
  {
   "metadata": {
    "ExecuteTime": {
     "end_time": "2025-07-02T19:36:08.105673Z",
     "start_time": "2025-07-02T19:36:08.103107Z"
    }
   },
   "cell_type": "code",
   "source": [
    "E_1 = sp.symbols('E_1')\n",
    "E_2 = sp.symbols('E_2')"
   ],
   "id": "820576bd55f3c933",
   "outputs": [],
   "execution_count": 2
  },
  {
   "metadata": {},
   "cell_type": "markdown",
   "source": "# $\\textbf{Solutions for Period 4 Schrödinger Operators}$",
   "id": "d7b44618542879e2"
  },
  {
   "metadata": {},
   "cell_type": "markdown",
   "source": "### $\\text{Case 1.1. }\\Phi_v(E_1) = I$",
   "id": "6268c40850a0cfda"
  },
  {
   "metadata": {
    "ExecuteTime": {
     "end_time": "2025-07-02T19:36:08.636857Z",
     "start_time": "2025-07-02T19:36:08.186248Z"
    }
   },
   "cell_type": "code",
   "source": [
    "monodromy_matrix, discriminant_expr, potential_var = compute_periodic_schrodinger_system(period=4, energy_param='E_1')\n",
    "\n",
    "sign = 1\n",
    "\n",
    "equations = []\n",
    "for i in range(4):\n",
    "    equations.append(sp.Eq(monodromy_matrix[i], sign * sp.eye(2)[i]))\n",
    "\n",
    "solutions = sp.solve(equations, potential_var, dict=True)\n",
    "\n",
    "analyze_solutions(solutions, potential_var)"
   ],
   "id": "d745099da3be65c2",
   "outputs": [
    {
     "data": {
      "text/plain": [
       "<IPython.core.display.Markdown object>"
      ],
      "text/markdown": "$\\text{Computing periodic Schrödinger system for: }\\Phi_v(E_1)$"
     },
     "metadata": {},
     "output_type": "display_data"
    },
    {
     "name": "stdout",
     "output_type": "stream",
     "text": [
      "Period: 4\n",
      "Energy parameter: E_1\n",
      "==================================================\n",
      "Created potentials: ['V_1', 'V_2', 'V_3', 'V_4']\n",
      "\n",
      "==================================================================================================== \n",
      "\n",
      "=== SOLUTION ANALYSIS ===\n",
      "\n",
      "Solution set 1:\n",
      "As list: [E_1, 2*E_1 - V_4, E_1, V_4]\n",
      "Is irreducible: True\n",
      "V_1: E_1\n",
      "V_2: 2*E_1 - V_4\n",
      "V_3: E_1\n",
      "V_4: V_4\n",
      "\n",
      "Solution set 2:\n",
      "As list: [2*E_1 - V_3, E_1, V_3, E_1]\n",
      "Is irreducible: True\n",
      "V_1: 2*E_1 - V_3\n",
      "V_2: E_1\n",
      "V_3: V_3\n",
      "V_4: E_1\n"
     ]
    }
   ],
   "execution_count": 3
  },
  {
   "metadata": {},
   "cell_type": "markdown",
   "source": "### $\\text{Case 1.2 }\\Phi_v(E_1) = -I$",
   "id": "ff5cc2e1ef3d50dd"
  },
  {
   "metadata": {
    "ExecuteTime": {
     "end_time": "2025-07-02T19:36:09.204107Z",
     "start_time": "2025-07-02T19:36:08.658349Z"
    }
   },
   "cell_type": "code",
   "source": [
    "monodromy_matrix, discriminant_expr, potential_var = compute_periodic_schrodinger_system(period=4, energy_param='E_1')\n",
    "\n",
    "sign = -1\n",
    "\n",
    "equations = []\n",
    "for i in range(4):\n",
    "    equations.append(sp.Eq(monodromy_matrix[i], sign * sp.eye(2)[i]))\n",
    "\n",
    "solutions = sp.solve(equations, potential_var, dict=True)\n",
    "\n",
    "analyze_solutions(solutions, potential_var)"
   ],
   "id": "e7579fec62e5ad20",
   "outputs": [
    {
     "data": {
      "text/plain": [
       "<IPython.core.display.Markdown object>"
      ],
      "text/markdown": "$\\text{Computing periodic Schrödinger system for: }\\Phi_v(E_1)$"
     },
     "metadata": {},
     "output_type": "display_data"
    },
    {
     "name": "stdout",
     "output_type": "stream",
     "text": [
      "Period: 4\n",
      "Energy parameter: E_1\n",
      "==================================================\n",
      "Created potentials: ['V_1', 'V_2', 'V_3', 'V_4']\n",
      "\n",
      "==================================================================================================== \n",
      "\n",
      "=== SOLUTION ANALYSIS ===\n",
      "\n",
      "Solution set 1:\n",
      "As list: [V_3, (E_1**2 - E_1*V_3 - 2)/(E_1 - V_3), V_3, (E_1**2 - E_1*V_3 - 2)/(E_1 - V_3)]\n",
      "Is irreducible: False\n",
      "V_1: V_3\n",
      "V_2: (E_1**2 - E_1*V_3 - 2)/(E_1 - V_3)\n",
      "V_3: V_3\n",
      "V_4: (E_1**2 - E_1*V_3 - 2)/(E_1 - V_3)\n"
     ]
    }
   ],
   "execution_count": 4
  },
  {
   "metadata": {},
   "cell_type": "markdown",
   "source": "### $\\text{Case 2.1. }\\Phi_v(E_1) = \\Phi_v(E_2) = I \\text{ for some } E_1 \\neq E_2$",
   "id": "620212b2416f8c95"
  },
  {
   "metadata": {
    "ExecuteTime": {
     "end_time": "2025-07-02T19:36:09.699651Z",
     "start_time": "2025-07-02T19:36:09.219569Z"
    }
   },
   "cell_type": "code",
   "source": [
    "monodromy_matrix_E1, _, potential_var = compute_periodic_schrodinger_system(period=4, energy_param='E_1')\n",
    "monodromy_matrix_E2, _, potential_var = compute_periodic_schrodinger_system(period=4, energy_param='E_2')\n",
    "\n",
    "sign = 1\n",
    "\n",
    "equations = []\n",
    "for i in range(4):\n",
    "    equations.append(sp.Eq(monodromy_matrix_E1[i], sign * sp.eye(2)[i]))\n",
    "    equations.append(sp.Eq(monodromy_matrix_E2[i], sign * sp.eye(2)[i]))\n",
    "\n",
    "solutions = sp.solve(equations, potential_var, dict=True)\n",
    "print(solutions)\n",
    "\n",
    "analyze_solutions(solutions, potential_var)"
   ],
   "id": "cb7efd846b8cf275",
   "outputs": [
    {
     "data": {
      "text/plain": [
       "<IPython.core.display.Markdown object>"
      ],
      "text/markdown": "$\\text{Computing periodic Schrödinger system for: }\\Phi_v(E_1)$"
     },
     "metadata": {},
     "output_type": "display_data"
    },
    {
     "name": "stdout",
     "output_type": "stream",
     "text": [
      "Period: 4\n",
      "Energy parameter: E_1\n",
      "==================================================\n",
      "Created potentials: ['V_1', 'V_2', 'V_3', 'V_4']\n"
     ]
    },
    {
     "data": {
      "text/plain": [
       "<IPython.core.display.Markdown object>"
      ],
      "text/markdown": "$\\text{Computing periodic Schrödinger system for: }\\Phi_v(E_2)$"
     },
     "metadata": {},
     "output_type": "display_data"
    },
    {
     "name": "stdout",
     "output_type": "stream",
     "text": [
      "Period: 4\n",
      "Energy parameter: E_2\n",
      "==================================================\n",
      "Created potentials: ['V_1', 'V_2', 'V_3', 'V_4']\n",
      "[]\n",
      "\n",
      "==================================================================================================== \n",
      "\n",
      "No solutions found!\n"
     ]
    }
   ],
   "execution_count": 5
  },
  {
   "metadata": {},
   "cell_type": "markdown",
   "source": "### $\\text{Case 2.2. }\\Phi_v(E_1) = \\Phi_v(E_2) = -I \\text{ for some } E_1 \\neq E_2$",
   "id": "dc25f0f9662b0dd1"
  },
  {
   "metadata": {
    "ExecuteTime": {
     "end_time": "2025-07-02T19:36:10.252611Z",
     "start_time": "2025-07-02T19:36:09.719792Z"
    }
   },
   "cell_type": "code",
   "source": [
    "monodromy_matrix_E1, _, potential_var = compute_periodic_schrodinger_system(period=4, energy_param='E_1')\n",
    "monodromy_matrix_E2, _, potential_var = compute_periodic_schrodinger_system(period=4, energy_param='E_2')\n",
    "\n",
    "sign = 1\n",
    "\n",
    "equations = []\n",
    "for i in range(4):\n",
    "    equations.append(sp.Eq(monodromy_matrix_E1[i], sign * sp.eye(2)[i]))\n",
    "    equations.append(sp.Eq(monodromy_matrix_E2[i], sign * sp.eye(2)[i]))\n",
    "\n",
    "solutions = sp.solve(equations, potential_var, dict=True)\n",
    "\n",
    "analyze_solutions(solutions, potential_var)"
   ],
   "id": "9c32887bd006b3af",
   "outputs": [
    {
     "data": {
      "text/plain": [
       "<IPython.core.display.Markdown object>"
      ],
      "text/markdown": "$\\text{Computing periodic Schrödinger system for: }\\Phi_v(E_1)$"
     },
     "metadata": {},
     "output_type": "display_data"
    },
    {
     "name": "stdout",
     "output_type": "stream",
     "text": [
      "Period: 4\n",
      "Energy parameter: E_1\n",
      "==================================================\n",
      "Created potentials: ['V_1', 'V_2', 'V_3', 'V_4']\n"
     ]
    },
    {
     "data": {
      "text/plain": [
       "<IPython.core.display.Markdown object>"
      ],
      "text/markdown": "$\\text{Computing periodic Schrödinger system for: }\\Phi_v(E_2)$"
     },
     "metadata": {},
     "output_type": "display_data"
    },
    {
     "name": "stdout",
     "output_type": "stream",
     "text": [
      "Period: 4\n",
      "Energy parameter: E_2\n",
      "==================================================\n",
      "Created potentials: ['V_1', 'V_2', 'V_3', 'V_4']\n",
      "\n",
      "==================================================================================================== \n",
      "\n",
      "No solutions found!\n"
     ]
    }
   ],
   "execution_count": 6
  },
  {
   "metadata": {},
   "cell_type": "markdown",
   "source": "### $\\text{Case 2.3. }\\Phi_v(E_1) = -\\Phi_v(E_2) = I \\text{ for some } E_1 \\neq E_2$",
   "id": "4b458de0c41eec52"
  },
  {
   "metadata": {
    "ExecuteTime": {
     "end_time": "2025-07-02T19:36:10.817545Z",
     "start_time": "2025-07-02T19:36:10.275961Z"
    }
   },
   "cell_type": "code",
   "source": [
    "monodromy_matrix_E1, _, potential_var = compute_periodic_schrodinger_system(period=4, energy_param='E_1')\n",
    "monodromy_matrix_E2, _, potential_var = compute_periodic_schrodinger_system(period=4, energy_param='E_2')\n",
    "\n",
    "sign_E_1 = 1\n",
    "sign_E_2 = -1\n",
    "\n",
    "equations = []\n",
    "for i in range(4):\n",
    "    equations.append(sp.Eq(monodromy_matrix_E1[i], sign_E_1 * sp.eye(2)[i]))\n",
    "    equations.append(sp.Eq(monodromy_matrix_E2[i], sign_E_2 * sp.eye(2)[i]))\n",
    "\n",
    "solutions = sp.solve(equations, potential_var, dict=True)\n",
    "\n",
    "analyze_solutions(solutions, potential_var)"
   ],
   "id": "44fb305dfeaf12aa",
   "outputs": [
    {
     "data": {
      "text/plain": [
       "<IPython.core.display.Markdown object>"
      ],
      "text/markdown": "$\\text{Computing periodic Schrödinger system for: }\\Phi_v(E_1)$"
     },
     "metadata": {},
     "output_type": "display_data"
    },
    {
     "name": "stdout",
     "output_type": "stream",
     "text": [
      "Period: 4\n",
      "Energy parameter: E_1\n",
      "==================================================\n",
      "Created potentials: ['V_1', 'V_2', 'V_3', 'V_4']\n"
     ]
    },
    {
     "data": {
      "text/plain": [
       "<IPython.core.display.Markdown object>"
      ],
      "text/markdown": "$\\text{Computing periodic Schrödinger system for: }\\Phi_v(E_2)$"
     },
     "metadata": {},
     "output_type": "display_data"
    },
    {
     "name": "stdout",
     "output_type": "stream",
     "text": [
      "Period: 4\n",
      "Energy parameter: E_2\n",
      "==================================================\n",
      "Created potentials: ['V_1', 'V_2', 'V_3', 'V_4']\n",
      "\n",
      "==================================================================================================== \n",
      "\n",
      "No solutions found!\n"
     ]
    }
   ],
   "execution_count": 7
  },
  {
   "metadata": {},
   "cell_type": "markdown",
   "source": "# $\\textbf{Solutions for Period 5 Schrödinger Operators}$",
   "id": "fa091bdbdb4f7ffa"
  },
  {
   "metadata": {},
   "cell_type": "markdown",
   "source": "### $\\text{Case 1.1. } \\Phi_v(E_1) = I$",
   "id": "adcc358260bcce14"
  },
  {
   "metadata": {
    "ExecuteTime": {
     "end_time": "2025-07-02T19:36:11.613644Z",
     "start_time": "2025-07-02T19:36:10.880551Z"
    }
   },
   "cell_type": "code",
   "source": [
    "monodromy_matrix, discriminant_expr, potential_var = compute_periodic_schrodinger_system(period=5, energy_param='E_1')\n",
    "\n",
    "sign = 1\n",
    "\n",
    "equations = cycle_potentials(sp.Eq(monodromy_matrix[0].subs(E_1,0), sign), potential_var)\n",
    "\n",
    "for i in range(4):\n",
    "    equations.append(sp.Eq(monodromy_matrix[i].subs(E_1,0), sign * sp.eye(2)[i]))\n",
    "\n",
    "solutions = sp.solve(equations, potential_var, dict=True)\n",
    "\n",
    "analyze_solutions(solutions, potential_var)"
   ],
   "id": "54f691df4ac90be4",
   "outputs": [
    {
     "data": {
      "text/plain": [
       "<IPython.core.display.Markdown object>"
      ],
      "text/markdown": "$\\text{Computing periodic Schrödinger system for: }\\Phi_v(E_1)$"
     },
     "metadata": {},
     "output_type": "display_data"
    },
    {
     "name": "stdout",
     "output_type": "stream",
     "text": [
      "Period: 5\n",
      "Energy parameter: E_1\n",
      "==================================================\n",
      "Created potentials: ['V_1', 'V_2', 'V_3', 'V_4', 'V_5']\n",
      "\n",
      "==================================================================================================== \n",
      "\n",
      "=== SOLUTION ANALYSIS ===\n",
      "\n",
      "Solution set 1:\n",
      "As list: [V_3*V_4 - 1, (V_4 + 1)/(V_3*V_4 - 1), V_3, V_4, (V_3 + 1)/(V_3*V_4 - 1)]\n",
      "Is irreducible: True\n",
      "V_1: V_3*V_4 - 1\n",
      "V_2: (V_4 + 1)/(V_3*V_4 - 1)\n",
      "V_3: V_3\n",
      "V_4: V_4\n",
      "V_5: (V_3 + 1)/(V_3*V_4 - 1)\n"
     ]
    }
   ],
   "execution_count": 8
  },
  {
   "metadata": {},
   "cell_type": "markdown",
   "source": "### $\\text{Case 1.2. } \\Phi_v(E_1) = -I$",
   "id": "df76cf8ef575421d"
  },
  {
   "metadata": {
    "ExecuteTime": {
     "end_time": "2025-07-02T19:36:12.298978Z",
     "start_time": "2025-07-02T19:36:11.644843Z"
    }
   },
   "cell_type": "code",
   "source": [
    "monodromy_matrix, discriminant_expr, potential_var = compute_periodic_schrodinger_system(period=5, energy_param='E_1')\n",
    "\n",
    "sign = -1\n",
    "\n",
    "equations = cycle_potentials(sp.Eq(monodromy_matrix[0].subs(E_1, 0), sign), potential_var)\n",
    "\n",
    "for i in range(4):\n",
    "    equations.append(sp.Eq(monodromy_matrix[i].subs(E_1, 0), sign * sp.eye(2)[i]))\n",
    "\n",
    "solutions = sp.solve(equations, potential_var, dict=True)\n",
    "\n",
    "analyze_solutions(solutions, potential_var)"
   ],
   "id": "9fdde05c8c73e3d1",
   "outputs": [
    {
     "data": {
      "text/plain": [
       "<IPython.core.display.Markdown object>"
      ],
      "text/markdown": "$\\text{Computing periodic Schrödinger system for: }\\Phi_v(E_1)$"
     },
     "metadata": {},
     "output_type": "display_data"
    },
    {
     "name": "stdout",
     "output_type": "stream",
     "text": [
      "Period: 5\n",
      "Energy parameter: E_1\n",
      "==================================================\n",
      "Created potentials: ['V_1', 'V_2', 'V_3', 'V_4', 'V_5']\n",
      "\n",
      "==================================================================================================== \n",
      "\n",
      "=== SOLUTION ANALYSIS ===\n",
      "\n",
      "Solution set 1:\n",
      "As list: [-V_3*V_4 + 1, (V_4 - 1)/(V_3*V_4 - 1), V_3, V_4, (V_3 - 1)/(V_3*V_4 - 1)]\n",
      "Is irreducible: True\n",
      "V_1: -V_3*V_4 + 1\n",
      "V_2: (V_4 - 1)/(V_3*V_4 - 1)\n",
      "V_3: V_3\n",
      "V_4: V_4\n",
      "V_5: (V_3 - 1)/(V_3*V_4 - 1)\n"
     ]
    }
   ],
   "execution_count": 9
  },
  {
   "metadata": {},
   "cell_type": "markdown",
   "source": "### $\\text{Case 2.1. }\\Phi_v(E_1) = \\Phi_v(E_2) = I \\text{ for some } E_1 \\neq E_2$",
   "id": "713c8ccacb87e7cc"
  },
  {
   "metadata": {
    "ExecuteTime": {
     "end_time": "2025-07-02T19:36:13.185327Z",
     "start_time": "2025-07-02T19:36:12.325661Z"
    }
   },
   "cell_type": "code",
   "source": [
    "monodromy_matrix_E1, _, potential_var = compute_periodic_schrodinger_system(period=5, energy_param='E_1')\n",
    "monodromy_matrix_E2, _, potential_var = compute_periodic_schrodinger_system(period=5, energy_param='E_2')\n",
    "\n",
    "sign = 1\n",
    "\n",
    "# temp_equations_E1 = get_monodromy_identity_equations_split(period=5, energy_param='E_1')\n",
    "# temp_equations_E2 = get_monodromy_identity_equations_split(period=5, energy_param='E_2')\n",
    "#\n",
    "# equations = cycle_potentials(temp_equations_E1[3], potential_var)[0:3]\n",
    "# equations.extend(cycle_potentials(temp_equations_E2[3], potential_var)[0:2])\n",
    "\n",
    "lhs_M_E1, rhs_M_E1, _ = compute_split_monodromy_identity(period=5, energy_param='E_1')\n",
    "lhs_M_E2, rhs_M_E2, _= compute_split_monodromy_identity(period=5, energy_param='E_2')\n",
    "\n",
    "\n",
    "solutions = sp.solve(sp.Eq(), potential_var, dict=True)\n",
    "\n",
    "analyze_solutions(solutions, potential_var)\n"
   ],
   "id": "3c970d9c0bf10d37",
   "outputs": [
    {
     "data": {
      "text/plain": [
       "<IPython.core.display.Markdown object>"
      ],
      "text/markdown": "$\\text{Computing periodic Schrödinger system for: }\\Phi_v(E_1)$"
     },
     "metadata": {},
     "output_type": "display_data"
    },
    {
     "name": "stdout",
     "output_type": "stream",
     "text": [
      "Period: 5\n",
      "Energy parameter: E_1\n",
      "==================================================\n",
      "Created potentials: ['V_1', 'V_2', 'V_3', 'V_4', 'V_5']\n"
     ]
    },
    {
     "data": {
      "text/plain": [
       "<IPython.core.display.Markdown object>"
      ],
      "text/markdown": "$\\text{Computing periodic Schrödinger system for: }\\Phi_v(E_2)$"
     },
     "metadata": {},
     "output_type": "display_data"
    },
    {
     "name": "stdout",
     "output_type": "stream",
     "text": [
      "Period: 5\n",
      "Energy parameter: E_2\n",
      "==================================================\n",
      "Created potentials: ['V_1', 'V_2', 'V_3', 'V_4', 'V_5']\n"
     ]
    },
    {
     "ename": "TypeError",
     "evalue": "Equality.__new__() missing 2 required positional arguments: 'lhs' and 'rhs'",
     "output_type": "error",
     "traceback": [
      "\u001B[31m---------------------------------------------------------------------------\u001B[39m",
      "\u001B[31mTypeError\u001B[39m                                 Traceback (most recent call last)",
      "\u001B[36mCell\u001B[39m\u001B[36m \u001B[39m\u001B[32mIn[10]\u001B[39m\u001B[32m, line 16\u001B[39m\n\u001B[32m     12\u001B[39m lhs_M_E1, rhs_M_E1, _ = compute_split_monodromy_identity(period=\u001B[32m5\u001B[39m, energy_param=\u001B[33m'\u001B[39m\u001B[33mE_1\u001B[39m\u001B[33m'\u001B[39m)\n\u001B[32m     13\u001B[39m lhs_M_E2, rhs_M_E2, _= compute_split_monodromy_identity(period=\u001B[32m5\u001B[39m, energy_param=\u001B[33m'\u001B[39m\u001B[33mE_2\u001B[39m\u001B[33m'\u001B[39m)\n\u001B[32m---> \u001B[39m\u001B[32m16\u001B[39m solutions = sp.solve(\u001B[43msp\u001B[49m\u001B[43m.\u001B[49m\u001B[43mEq\u001B[49m\u001B[43m(\u001B[49m\u001B[43m)\u001B[49m, potential_var, \u001B[38;5;28mdict\u001B[39m=\u001B[38;5;28;01mTrue\u001B[39;00m)\n\u001B[32m     18\u001B[39m analyze_solutions(solutions, potential_var)\n",
      "\u001B[31mTypeError\u001B[39m: Equality.__new__() missing 2 required positional arguments: 'lhs' and 'rhs'"
     ]
    }
   ],
   "execution_count": 10
  },
  {
   "metadata": {},
   "cell_type": "markdown",
   "source": "### $\\text{Case 2.2. }\\Phi_v(E_1) = \\Phi_v(E_2) = -I \\text{ for some } E_1 \\neq E_2$",
   "id": "8af16264dcd76167"
  },
  {
   "metadata": {
    "ExecuteTime": {
     "end_time": "2025-07-02T19:36:13.192680115Z",
     "start_time": "2025-06-28T04:45:09.223334Z"
    }
   },
   "cell_type": "code",
   "source": [
    "monodromy_matrix_E1, _, potential_var = compute_periodic_schrodinger_system(period=5, energy_param='E_1')\n",
    "monodromy_matrix_E2, _, potential_var = compute_periodic_schrodinger_system(period=5, energy_param='E_2')\n",
    "\n",
    "sign = -1\n",
    "\n",
    "equations = cycle_potentials(sp.Eq(monodromy_matrix_E1[3].subs(E_1, 0), sign), potential_var)\n",
    "\n",
    "for i in range(4):\n",
    "    equations.append(sp.Eq(monodromy_matrix_E1[i].subs(E_1, 0), sign * sp.eye(2)[i]))\n",
    "    equations.append(sp.Eq(monodromy_matrix_E2[i], sign * sp.eye(2)[i]))\n",
    "\n",
    "solutions = sp.solve(equations, potential_var, dict=True)\n",
    "\n",
    "analyze_solutions(solutions, potential_var)"
   ],
   "id": "c137ef67f12f3d12",
   "outputs": [
    {
     "data": {
      "text/plain": [
       "<IPython.core.display.Markdown object>"
      ],
      "text/markdown": "$\\text{Computing periodic Schrödinger system for: }\\Phi_v(E_1)$"
     },
     "metadata": {},
     "output_type": "display_data"
    },
    {
     "name": "stdout",
     "output_type": "stream",
     "text": [
      "Period: 5\n",
      "Energy parameter: E_1\n",
      "==================================================\n",
      "Created potentials: ['V_1', 'V_2', 'V_3', 'V_4', 'V_5']\n"
     ]
    },
    {
     "data": {
      "text/plain": [
       "<IPython.core.display.Markdown object>"
      ],
      "text/markdown": "$\\text{Computing periodic Schrödinger system for: }\\Phi_v(E_2)$"
     },
     "metadata": {},
     "output_type": "display_data"
    },
    {
     "name": "stdout",
     "output_type": "stream",
     "text": [
      "Period: 5\n",
      "Energy parameter: E_2\n",
      "==================================================\n",
      "Created potentials: ['V_1', 'V_2', 'V_3', 'V_4', 'V_5']\n",
      "\n",
      "==================================================================================================== \n",
      "\n",
      "No solutions found!\n"
     ]
    }
   ],
   "execution_count": 12
  },
  {
   "metadata": {
    "ExecuteTime": {
     "end_time": "2025-07-02T19:36:13.193818566Z",
     "start_time": "2025-06-30T19:58:37.043775Z"
    }
   },
   "cell_type": "code",
   "source": [
    "monodromy_matrix, discriminant_expr, potential_var = compute_periodic_schrodinger_system(period=7, energy_param='E_1')\n",
    "\n",
    "sign = 1\n",
    "\n",
    "equations = cycle_potentials(sp.Eq(monodromy_matrix[0].subs(E_1,0), sign), potential_var)\n",
    "\n",
    "# for i in range(4):\n",
    "#     equations.append(sp.Eq(monodromy_matrix[i].subs(E_1,0), sign * sp.eye(2)[i]))\n",
    "\n",
    "equations.append(sp.Eq(monodromy_matrix[3].subs(E_1,0), sign * sp.eye(2)[3]))\n",
    "\n",
    "solutions = sp.solve(equations, potential_var, dict=True)\n",
    "\n",
    "analyze_solutions(solutions, potential_var)"
   ],
   "id": "3267f47acad9cad4",
   "outputs": [
    {
     "data": {
      "text/plain": [
       "<IPython.core.display.Markdown object>"
      ],
      "text/markdown": "$\\text{Computing periodic Schrödinger system for: }\\Phi_v(E_1)$"
     },
     "metadata": {},
     "output_type": "display_data"
    },
    {
     "name": "stdout",
     "output_type": "stream",
     "text": [
      "Period: 7\n",
      "Energy parameter: E_1\n",
      "==================================================\n",
      "Created potentials: ['V_1', 'V_2', 'V_3', 'V_4', 'V_5', 'V_6', 'V_7']\n",
      "\n",
      "==================================================================================================== \n",
      "\n",
      "=== SOLUTION ANALYSIS ===\n",
      "\n",
      "Solution set 1:\n",
      "As list: [V_3*V_4*V_5*V_6 - V_3*V_4 - V_3*V_6 - V_5*V_6 + 1, (-V_4*V_5*V_6 + V_4 + V_6 - 1)/(-V_3*V_4*V_5*V_6 + V_3*V_4 + V_3*V_6 + V_5*V_6 - 1), V_3, V_4, V_5, V_6, (-V_3*V_4*V_5 + V_3 + V_5 - 1)/(-V_3*V_4*V_5*V_6 + V_3*V_4 + V_3*V_6 + V_5*V_6 - 1)]\n",
      "Is irreducible: True\n",
      "V_1: V_3*V_4*V_5*V_6 - V_3*V_4 - V_3*V_6 - V_5*V_6 + 1\n",
      "V_2: (-V_4*V_5*V_6 + V_4 + V_6 - 1)/(-V_3*V_4*V_5*V_6 + V_3*V_4 + V_3*V_6 + V_5*V_6 - 1)\n",
      "V_3: V_3\n",
      "V_4: V_4\n",
      "V_5: V_5\n",
      "V_6: V_6\n",
      "V_7: (-V_3*V_4*V_5 + V_3 + V_5 - 1)/(-V_3*V_4*V_5*V_6 + V_3*V_4 + V_3*V_6 + V_5*V_6 - 1)\n",
      "\n",
      "Solution set 2:\n",
      "As list: [-V_3 - V_5*V_6 + 1, 0, V_3, (V_6 - 1)/(V_5*V_6 - 1), V_5, V_6, (V_5 - 1)/(V_5*V_6 - 1)]\n",
      "Is irreducible: True\n",
      "V_1: -V_3 - V_5*V_6 + 1\n",
      "V_2: 0\n",
      "V_3: V_3\n",
      "V_4: (V_6 - 1)/(V_5*V_6 - 1)\n",
      "V_5: V_5\n",
      "V_6: V_6\n",
      "V_7: (V_5 - 1)/(V_5*V_6 - 1)\n"
     ]
    }
   ],
   "execution_count": 14
  },
  {
   "metadata": {
    "ExecuteTime": {
     "end_time": "2025-07-02T19:36:13.203221968Z",
     "start_time": "2025-06-30T20:23:36.552065Z"
    }
   },
   "cell_type": "code",
   "source": [
    "monodromy_matrix, discriminant_expr, potential_var = compute_periodic_schrodinger_system(period=7, energy_param='E_1')\n",
    "\n",
    "sign = -1\n",
    "\n",
    "equations = cycle_potentials(sp.Eq(monodromy_matrix[0].subs(E_1,0), sign), potential_var)\n",
    "\n",
    "equations.append(sp.Eq(monodromy_matrix[3].subs(E_1,0), sign * sp.eye(2)[3]))\n",
    "\n",
    "solutions = sp.solve(equations, potential_var, dict=True)\n",
    "\n",
    "analyze_solutions(solutions, potential_var)"
   ],
   "id": "8b30aab11528d338",
   "outputs": [
    {
     "data": {
      "text/plain": [
       "<IPython.core.display.Markdown object>"
      ],
      "text/markdown": "$\\text{Computing periodic Schrödinger system for: }\\Phi_v(E_1)$"
     },
     "metadata": {},
     "output_type": "display_data"
    },
    {
     "name": "stdout",
     "output_type": "stream",
     "text": [
      "Period: 7\n",
      "Energy parameter: E_1\n",
      "==================================================\n",
      "Created potentials: ['V_1', 'V_2', 'V_3', 'V_4', 'V_5', 'V_6', 'V_7']\n",
      "\n",
      "==================================================================================================== \n",
      "\n",
      "=== SOLUTION ANALYSIS ===\n",
      "\n",
      "Solution set 1:\n",
      "As list: [-V_3*V_4*V_5*V_6 + V_3*V_4 + V_3*V_6 + V_5*V_6 - 1, (-V_4*V_5*V_6 + V_4 + V_6 + 1)/(-V_3*V_4*V_5*V_6 + V_3*V_4 + V_3*V_6 + V_5*V_6 - 1), V_3, V_4, V_5, V_6, (-V_3*V_4*V_5 + V_3 + V_5 + 1)/(-V_3*V_4*V_5*V_6 + V_3*V_4 + V_3*V_6 + V_5*V_6 - 1)]\n",
      "Is irreducible: True\n",
      "V_1: -V_3*V_4*V_5*V_6 + V_3*V_4 + V_3*V_6 + V_5*V_6 - 1\n",
      "V_2: (-V_4*V_5*V_6 + V_4 + V_6 + 1)/(-V_3*V_4*V_5*V_6 + V_3*V_4 + V_3*V_6 + V_5*V_6 - 1)\n",
      "V_3: V_3\n",
      "V_4: V_4\n",
      "V_5: V_5\n",
      "V_6: V_6\n",
      "V_7: (-V_3*V_4*V_5 + V_3 + V_5 + 1)/(-V_3*V_4*V_5*V_6 + V_3*V_4 + V_3*V_6 + V_5*V_6 - 1)\n",
      "\n",
      "Solution set 2:\n",
      "As list: [-V_3 + V_5*V_6 - 1, 0, V_3, (V_6 + 1)/(V_5*V_6 - 1), V_5, V_6, (V_5 + 1)/(V_5*V_6 - 1)]\n",
      "Is irreducible: True\n",
      "V_1: -V_3 + V_5*V_6 - 1\n",
      "V_2: 0\n",
      "V_3: V_3\n",
      "V_4: (V_6 + 1)/(V_5*V_6 - 1)\n",
      "V_5: V_5\n",
      "V_6: V_6\n",
      "V_7: (V_5 + 1)/(V_5*V_6 - 1)\n"
     ]
    }
   ],
   "execution_count": 16
  },
  {
   "metadata": {
    "ExecuteTime": {
     "end_time": "2025-07-02T19:36:13.204827190Z",
     "start_time": "2025-06-30T22:40:44.252283Z"
    }
   },
   "cell_type": "code",
   "source": [
    "monodromy_matrix, discriminant_expr, potential_var = compute_periodic_schrodinger_system(period=7, energy_param='E_1')\n",
    "\n",
    "sign = -1\n",
    "\n",
    "equations = cycle_potentials(sp.Eq(monodromy_matrix[0].subs(E_1, 0), sign), potential_var)\n",
    "\n",
    "for i in range(4):\n",
    "    equations.append(sp.Eq(monodromy_matrix[i].subs(E_1, 0), sign * sp.eye(2)[i]))\n",
    "\n",
    "solutions = sp.solve(equations, potential_var, dict=True)\n",
    "\n",
    "analyze_solutions(solutions, potential_var)"
   ],
   "id": "d2d04ce6dd46b82e",
   "outputs": [
    {
     "data": {
      "text/plain": [
       "<IPython.core.display.Markdown object>"
      ],
      "text/markdown": "$\\text{Computing periodic Schrödinger system for: }\\Phi_v(E_1)$"
     },
     "metadata": {},
     "output_type": "display_data"
    },
    {
     "name": "stdout",
     "output_type": "stream",
     "text": [
      "Period: 7\n",
      "Energy parameter: E_1\n",
      "==================================================\n",
      "Created potentials: ['V_1', 'V_2', 'V_3', 'V_4', 'V_5', 'V_6', 'V_7']\n",
      "\n",
      "==================================================================================================== \n",
      "\n",
      "=== SOLUTION ANALYSIS ===\n",
      "\n",
      "Solution set 1:\n",
      "As list: [-V_3*V_4*V_5*V_6 + V_3*V_4 + V_3*V_6 + V_5*V_6 - 1, (-V_4*V_5*V_6 + V_4 + V_6 + 1)/(-V_3*V_4*V_5*V_6 + V_3*V_4 + V_3*V_6 + V_5*V_6 - 1), V_3, V_4, V_5, V_6, (-V_3*V_4*V_5 + V_3 + V_5 + 1)/(-V_3*V_4*V_5*V_6 + V_3*V_4 + V_3*V_6 + V_5*V_6 - 1)]\n",
      "Is irreducible: True\n",
      "V_1: -V_3*V_4*V_5*V_6 + V_3*V_4 + V_3*V_6 + V_5*V_6 - 1\n",
      "V_2: (-V_4*V_5*V_6 + V_4 + V_6 + 1)/(-V_3*V_4*V_5*V_6 + V_3*V_4 + V_3*V_6 + V_5*V_6 - 1)\n",
      "V_3: V_3\n",
      "V_4: V_4\n",
      "V_5: V_5\n",
      "V_6: V_6\n",
      "V_7: (-V_3*V_4*V_5 + V_3 + V_5 + 1)/(-V_3*V_4*V_5*V_6 + V_3*V_4 + V_3*V_6 + V_5*V_6 - 1)\n"
     ]
    }
   ],
   "execution_count": 22
  },
  {
   "metadata": {
    "ExecuteTime": {
     "end_time": "2025-07-02T19:36:13.206030273Z",
     "start_time": "2025-06-30T23:17:47.775084Z"
    }
   },
   "cell_type": "code",
   "source": [
    "monodromy_matrix, discriminant_expr, potential_var = compute_periodic_schrodinger_system(period=9, energy_param='E_1')\n",
    "\n",
    "sign = -1\n",
    "\n",
    "equations = cycle_potentials(sp.Eq(monodromy_matrix[0].subs(E_1,0), sign), potential_var)\n",
    "\n",
    "V_1, V_2, V_3, V_4, V_5, V_6, V_7 = sp.symbols('V_1, V_2, V_3, V_4, V_5, V_6, V_7')\n",
    "\n",
    "\n",
    "equations.append(sp.Eq(V_1, (V_3-1)/(V_2*V_3-1)))\n",
    "equations.append(sp.Eq(V_2, V_2))\n",
    "equations.append(sp.Eq(V_3, V_3))\n",
    "equations.append(sp.Eq(V_4, (V_2-1)/(V_2*V_3-1)))\n",
    "# equations.append(sp.Eq(V_5, -V_7-V_3*V_2-1))\n",
    "# equations.append(sp.Eq(V_6, 0))\n",
    "# equations.append(sp.Eq(V_7, V_7))\n",
    "\n",
    "\n",
    "solutions = sp.solve(equations, potential_var, dict=True)\n",
    "\n",
    "analyze_solutions(solutions, potential_var)"
   ],
   "id": "e0195dfbb5f1b503",
   "outputs": [
    {
     "data": {
      "text/plain": [
       "<IPython.core.display.Markdown object>"
      ],
      "text/markdown": "$\\text{Computing periodic Schrödinger system for: }\\Phi_v(E_1)$"
     },
     "metadata": {},
     "output_type": "display_data"
    },
    {
     "name": "stdout",
     "output_type": "stream",
     "text": [
      "Period: 11\n",
      "Energy parameter: E_1\n",
      "==================================================\n",
      "Created potentials: ['V_1', 'V_2', 'V_3', 'V_4', 'V_5', 'V_6', 'V_7', 'V_8', 'V_9', 'V_10', 'V_11']\n"
     ]
    },
    {
     "ename": "KeyboardInterrupt",
     "evalue": "",
     "output_type": "error",
     "traceback": [
      "\u001B[31m---------------------------------------------------------------------------\u001B[39m",
      "\u001B[31mKeyboardInterrupt\u001B[39m                         Traceback (most recent call last)",
      "\u001B[36mCell\u001B[39m\u001B[36m \u001B[39m\u001B[32mIn[29]\u001B[39m\u001B[32m, line 19\u001B[39m\n\u001B[32m     13\u001B[39m equations.append(sp.Eq(V_4, (V_2-\u001B[32m1\u001B[39m)/(V_2*V_3-\u001B[32m1\u001B[39m)))\n\u001B[32m     14\u001B[39m \u001B[38;5;66;03m# equations.append(sp.Eq(V_5, -V_7-V_3*V_2-1))\u001B[39;00m\n\u001B[32m     15\u001B[39m \u001B[38;5;66;03m# equations.append(sp.Eq(V_6, 0))\u001B[39;00m\n\u001B[32m     16\u001B[39m \u001B[38;5;66;03m# equations.append(sp.Eq(V_7, V_7))\u001B[39;00m\n\u001B[32m---> \u001B[39m\u001B[32m19\u001B[39m solutions = \u001B[43msp\u001B[49m\u001B[43m.\u001B[49m\u001B[43msolve\u001B[49m\u001B[43m(\u001B[49m\u001B[43mequations\u001B[49m\u001B[43m,\u001B[49m\u001B[43m \u001B[49m\u001B[43mpotential_var\u001B[49m\u001B[43m,\u001B[49m\u001B[43m \u001B[49m\u001B[38;5;28;43mdict\u001B[39;49m\u001B[43m=\u001B[49m\u001B[38;5;28;43;01mTrue\u001B[39;49;00m\u001B[43m)\u001B[49m\n\u001B[32m     21\u001B[39m analyze_solutions(solutions, potential_var)\n",
      "\u001B[36mFile \u001B[39m\u001B[32m~/PycharmProjects/Research/.venv/lib/python3.13/site-packages/sympy/solvers/solvers.py:1170\u001B[39m, in \u001B[36msolve\u001B[39m\u001B[34m(f, *symbols, **flags)\u001B[39m\n\u001B[32m   1168\u001B[39m         solution = _solve(f[\u001B[32m0\u001B[39m], *symbols, **flags)\n\u001B[32m   1169\u001B[39m \u001B[38;5;28;01melse\u001B[39;00m:\n\u001B[32m-> \u001B[39m\u001B[32m1170\u001B[39m     linear, solution = \u001B[43m_solve_system\u001B[49m\u001B[43m(\u001B[49m\u001B[43mf\u001B[49m\u001B[43m,\u001B[49m\u001B[43m \u001B[49m\u001B[43msymbols\u001B[49m\u001B[43m,\u001B[49m\u001B[43m \u001B[49m\u001B[43m*\u001B[49m\u001B[43m*\u001B[49m\u001B[43mflags\u001B[49m\u001B[43m)\u001B[49m\n\u001B[32m   1171\u001B[39m \u001B[38;5;28;01massert\u001B[39;00m \u001B[38;5;28mtype\u001B[39m(solution) \u001B[38;5;129;01mis\u001B[39;00m \u001B[38;5;28mlist\u001B[39m\n\u001B[32m   1172\u001B[39m \u001B[38;5;28;01massert\u001B[39;00m \u001B[38;5;129;01mnot\u001B[39;00m solution \u001B[38;5;129;01mor\u001B[39;00m \u001B[38;5;28mtype\u001B[39m(solution[\u001B[32m0\u001B[39m]) \u001B[38;5;129;01mis\u001B[39;00m \u001B[38;5;28mdict\u001B[39m, solution\n",
      "\u001B[36mFile \u001B[39m\u001B[32m~/PycharmProjects/Research/.venv/lib/python3.13/site-packages/sympy/solvers/solvers.py:1892\u001B[39m, in \u001B[36m_solve_system\u001B[39m\u001B[34m(exprs, symbols, **flags)\u001B[39m\n\u001B[32m   1890\u001B[39m \u001B[38;5;28;01melse\u001B[39;00m:\n\u001B[32m   1891\u001B[39m     \u001B[38;5;28;01mtry\u001B[39;00m:\n\u001B[32m-> \u001B[39m\u001B[32m1892\u001B[39m         result = \u001B[43msolve_poly_system\u001B[49m\u001B[43m(\u001B[49m\u001B[43mpolys\u001B[49m\u001B[43m,\u001B[49m\u001B[43m \u001B[49m\u001B[43m*\u001B[49m\u001B[43msymbols\u001B[49m\u001B[43m)\u001B[49m\n\u001B[32m   1893\u001B[39m         \u001B[38;5;28;01mif\u001B[39;00m result:\n\u001B[32m   1894\u001B[39m             solved_syms = symbols\n",
      "\u001B[36mFile \u001B[39m\u001B[32m~/PycharmProjects/Research/.venv/lib/python3.13/site-packages/sympy/solvers/polysys.py:98\u001B[39m, in \u001B[36msolve_poly_system\u001B[39m\u001B[34m(seq, strict, *gens, **args)\u001B[39m\n\u001B[32m     95\u001B[39m         \u001B[38;5;28;01mexcept\u001B[39;00m SolveFailed:\n\u001B[32m     96\u001B[39m             \u001B[38;5;28;01mpass\u001B[39;00m\n\u001B[32m---> \u001B[39m\u001B[32m98\u001B[39m \u001B[38;5;28;01mreturn\u001B[39;00m \u001B[43msolve_generic\u001B[49m\u001B[43m(\u001B[49m\u001B[43mpolys\u001B[49m\u001B[43m,\u001B[49m\u001B[43m \u001B[49m\u001B[43mopt\u001B[49m\u001B[43m,\u001B[49m\u001B[43m \u001B[49m\u001B[43mstrict\u001B[49m\u001B[43m=\u001B[49m\u001B[43mstrict\u001B[49m\u001B[43m)\u001B[49m\n",
      "\u001B[36mFile \u001B[39m\u001B[32m~/PycharmProjects/Research/.venv/lib/python3.13/site-packages/sympy/solvers/polysys.py:353\u001B[39m, in \u001B[36msolve_generic\u001B[39m\u001B[34m(polys, opt, strict)\u001B[39m\n\u001B[32m    350\u001B[39m     \u001B[38;5;28;01mreturn\u001B[39;00m solutions\n\u001B[32m    352\u001B[39m \u001B[38;5;28;01mtry\u001B[39;00m:\n\u001B[32m--> \u001B[39m\u001B[32m353\u001B[39m     result = \u001B[43m_solve_reduced_system\u001B[49m\u001B[43m(\u001B[49m\u001B[43mpolys\u001B[49m\u001B[43m,\u001B[49m\u001B[43m \u001B[49m\u001B[43mopt\u001B[49m\u001B[43m.\u001B[49m\u001B[43mgens\u001B[49m\u001B[43m,\u001B[49m\u001B[43m \u001B[49m\u001B[43mentry\u001B[49m\u001B[43m=\u001B[49m\u001B[38;5;28;43;01mTrue\u001B[39;49;00m\u001B[43m)\u001B[49m\n\u001B[32m    354\u001B[39m \u001B[38;5;28;01mexcept\u001B[39;00m CoercionFailed:\n\u001B[32m    355\u001B[39m     \u001B[38;5;28;01mraise\u001B[39;00m \u001B[38;5;167;01mNotImplementedError\u001B[39;00m\n",
      "\u001B[36mFile \u001B[39m\u001B[32m~/PycharmProjects/Research/.venv/lib/python3.13/site-packages/sympy/solvers/polysys.py:293\u001B[39m, in \u001B[36msolve_generic.<locals>._solve_reduced_system\u001B[39m\u001B[34m(system, gens, entry)\u001B[39m\n\u001B[32m    290\u001B[39m     zeros = \u001B[38;5;28mlist\u001B[39m(roots(system[\u001B[32m0\u001B[39m], gens[-\u001B[32m1\u001B[39m], strict=strict).keys())\n\u001B[32m    291\u001B[39m     \u001B[38;5;28;01mreturn\u001B[39;00m [(zero,) \u001B[38;5;28;01mfor\u001B[39;00m zero \u001B[38;5;129;01min\u001B[39;00m zeros]\n\u001B[32m--> \u001B[39m\u001B[32m293\u001B[39m basis = \u001B[43mgroebner\u001B[49m\u001B[43m(\u001B[49m\u001B[43msystem\u001B[49m\u001B[43m,\u001B[49m\u001B[43m \u001B[49m\u001B[43mgens\u001B[49m\u001B[43m,\u001B[49m\u001B[43m \u001B[49m\u001B[43mpolys\u001B[49m\u001B[43m=\u001B[49m\u001B[38;5;28;43;01mTrue\u001B[39;49;00m\u001B[43m)\u001B[49m\n\u001B[32m    295\u001B[39m \u001B[38;5;28;01mif\u001B[39;00m \u001B[38;5;28mlen\u001B[39m(basis) == \u001B[32m1\u001B[39m \u001B[38;5;129;01mand\u001B[39;00m basis[\u001B[32m0\u001B[39m].is_ground:\n\u001B[32m    296\u001B[39m     \u001B[38;5;28;01mif\u001B[39;00m \u001B[38;5;129;01mnot\u001B[39;00m entry:\n",
      "\u001B[36mFile \u001B[39m\u001B[32m~/PycharmProjects/Research/.venv/lib/python3.13/site-packages/sympy/polys/polytools.py:7535\u001B[39m, in \u001B[36mgroebner\u001B[39m\u001B[34m(F, *gens, **args)\u001B[39m\n\u001B[32m   7484\u001B[39m \u001B[38;5;129m@public\u001B[39m\n\u001B[32m   7485\u001B[39m \u001B[38;5;28;01mdef\u001B[39;00m\u001B[38;5;250m \u001B[39m\u001B[34mgroebner\u001B[39m(F, *gens, **args):\n\u001B[32m   7486\u001B[39m \u001B[38;5;250m    \u001B[39m\u001B[33;03m\"\"\"\u001B[39;00m\n\u001B[32m   7487\u001B[39m \u001B[33;03m    Computes the reduced Groebner basis for a set of polynomials.\u001B[39;00m\n\u001B[32m   7488\u001B[39m \n\u001B[32m   (...)\u001B[39m\u001B[32m   7533\u001B[39m \n\u001B[32m   7534\u001B[39m \u001B[33;03m    \"\"\"\u001B[39;00m\n\u001B[32m-> \u001B[39m\u001B[32m7535\u001B[39m     \u001B[38;5;28;01mreturn\u001B[39;00m \u001B[43mGroebnerBasis\u001B[49m\u001B[43m(\u001B[49m\u001B[43mF\u001B[49m\u001B[43m,\u001B[49m\u001B[43m \u001B[49m\u001B[43m*\u001B[49m\u001B[43mgens\u001B[49m\u001B[43m,\u001B[49m\u001B[43m \u001B[49m\u001B[43m*\u001B[49m\u001B[43m*\u001B[49m\u001B[43margs\u001B[49m\u001B[43m)\u001B[49m\n",
      "\u001B[36mFile \u001B[39m\u001B[32m~/PycharmProjects/Research/.venv/lib/python3.13/site-packages/sympy/polys/polytools.py:7574\u001B[39m, in \u001B[36mGroebnerBasis.__new__\u001B[39m\u001B[34m(cls, F, *gens, **args)\u001B[39m\n\u001B[32m   7570\u001B[39m ring = PolyRing(opt.gens, opt.domain, opt.order)\n\u001B[32m   7572\u001B[39m polys = [ring.from_dict(poly.rep.to_dict()) \u001B[38;5;28;01mfor\u001B[39;00m poly \u001B[38;5;129;01min\u001B[39;00m polys \u001B[38;5;28;01mif\u001B[39;00m poly]\n\u001B[32m-> \u001B[39m\u001B[32m7574\u001B[39m G = \u001B[43m_groebner\u001B[49m\u001B[43m(\u001B[49m\u001B[43mpolys\u001B[49m\u001B[43m,\u001B[49m\u001B[43m \u001B[49m\u001B[43mring\u001B[49m\u001B[43m,\u001B[49m\u001B[43m \u001B[49m\u001B[43mmethod\u001B[49m\u001B[43m=\u001B[49m\u001B[43mopt\u001B[49m\u001B[43m.\u001B[49m\u001B[43mmethod\u001B[49m\u001B[43m)\u001B[49m\n\u001B[32m   7575\u001B[39m G = [Poly._from_dict(g, opt) \u001B[38;5;28;01mfor\u001B[39;00m g \u001B[38;5;129;01min\u001B[39;00m G]\n\u001B[32m   7577\u001B[39m \u001B[38;5;28;01mreturn\u001B[39;00m \u001B[38;5;28mcls\u001B[39m._new(G, opt)\n",
      "\u001B[36mFile \u001B[39m\u001B[32m~/PycharmProjects/Research/.venv/lib/python3.13/site-packages/sympy/polys/groebnertools.py:43\u001B[39m, in \u001B[36mgroebner\u001B[39m\u001B[34m(seq, ring, method)\u001B[39m\n\u001B[32m     40\u001B[39m     \u001B[38;5;28;01melse\u001B[39;00m:\n\u001B[32m     41\u001B[39m         seq = [ s.set_ring(ring) \u001B[38;5;28;01mfor\u001B[39;00m s \u001B[38;5;129;01min\u001B[39;00m seq ]\n\u001B[32m---> \u001B[39m\u001B[32m43\u001B[39m G = \u001B[43m_groebner\u001B[49m\u001B[43m(\u001B[49m\u001B[43mseq\u001B[49m\u001B[43m,\u001B[49m\u001B[43m \u001B[49m\u001B[43mring\u001B[49m\u001B[43m)\u001B[49m\n\u001B[32m     45\u001B[39m \u001B[38;5;28;01mif\u001B[39;00m orig \u001B[38;5;129;01mis\u001B[39;00m \u001B[38;5;129;01mnot\u001B[39;00m \u001B[38;5;28;01mNone\u001B[39;00m:\n\u001B[32m     46\u001B[39m     G = [ g.clear_denoms()[\u001B[32m1\u001B[39m].set_ring(orig) \u001B[38;5;28;01mfor\u001B[39;00m g \u001B[38;5;129;01min\u001B[39;00m G ]\n",
      "\u001B[36mFile \u001B[39m\u001B[32m~/PycharmProjects/Research/.venv/lib/python3.13/site-packages/sympy/polys/groebnertools.py:238\u001B[39m, in \u001B[36m_buchberger\u001B[39m\u001B[34m(f, ring)\u001B[39m\n\u001B[32m    236\u001B[39m \u001B[38;5;66;03m# ordering divisors is on average more efficient [Cox] page 111\u001B[39;00m\n\u001B[32m    237\u001B[39m G1 = \u001B[38;5;28msorted\u001B[39m(G, key=\u001B[38;5;28;01mlambda\u001B[39;00m g: order(f[g].LM))\n\u001B[32m--> \u001B[39m\u001B[32m238\u001B[39m ht = \u001B[43mnormal\u001B[49m\u001B[43m(\u001B[49m\u001B[43mh\u001B[49m\u001B[43m,\u001B[49m\u001B[43m \u001B[49m\u001B[43mG1\u001B[49m\u001B[43m)\u001B[49m\n\u001B[32m    240\u001B[39m \u001B[38;5;28;01mif\u001B[39;00m ht:\n\u001B[32m    241\u001B[39m     G, CP = update(G, CP, ht[\u001B[32m1\u001B[39m])\n",
      "\u001B[36mFile \u001B[39m\u001B[32m~/PycharmProjects/Research/.venv/lib/python3.13/site-packages/sympy/polys/groebnertools.py:104\u001B[39m, in \u001B[36m_buchberger.<locals>.normal\u001B[39m\u001B[34m(g, J)\u001B[39m\n\u001B[32m    103\u001B[39m \u001B[38;5;28;01mdef\u001B[39;00m\u001B[38;5;250m \u001B[39m\u001B[34mnormal\u001B[39m(g, J):\n\u001B[32m--> \u001B[39m\u001B[32m104\u001B[39m     h = \u001B[43mg\u001B[49m\u001B[43m.\u001B[49m\u001B[43mrem\u001B[49m\u001B[43m(\u001B[49m\u001B[43m[\u001B[49m\u001B[43m \u001B[49m\u001B[43mf\u001B[49m\u001B[43m[\u001B[49m\u001B[43mj\u001B[49m\u001B[43m]\u001B[49m\u001B[43m \u001B[49m\u001B[38;5;28;43;01mfor\u001B[39;49;00m\u001B[43m \u001B[49m\u001B[43mj\u001B[49m\u001B[43m \u001B[49m\u001B[38;5;129;43;01min\u001B[39;49;00m\u001B[43m \u001B[49m\u001B[43mJ\u001B[49m\u001B[43m \u001B[49m\u001B[43m]\u001B[49m\u001B[43m)\u001B[49m\n\u001B[32m    106\u001B[39m     \u001B[38;5;28;01mif\u001B[39;00m \u001B[38;5;129;01mnot\u001B[39;00m h:\n\u001B[32m    107\u001B[39m         \u001B[38;5;28;01mreturn\u001B[39;00m \u001B[38;5;28;01mNone\u001B[39;00m\n",
      "\u001B[36mFile \u001B[39m\u001B[32m~/PycharmProjects/Research/.venv/lib/python3.13/site-packages/sympy/polys/rings.py:1588\u001B[39m, in \u001B[36mPolyElement.rem\u001B[39m\u001B[34m(self, G)\u001B[39m\n\u001B[32m   1586\u001B[39m \u001B[38;5;28;01mwhile\u001B[39;00m f:\n\u001B[32m   1587\u001B[39m     \u001B[38;5;28;01mfor\u001B[39;00m g \u001B[38;5;129;01min\u001B[39;00m G:\n\u001B[32m-> \u001B[39m\u001B[32m1588\u001B[39m         tq = term_div(ltf, \u001B[43mg\u001B[49m\u001B[43m.\u001B[49m\u001B[43mLT\u001B[49m)\n\u001B[32m   1589\u001B[39m         \u001B[38;5;28;01mif\u001B[39;00m tq \u001B[38;5;129;01mis\u001B[39;00m \u001B[38;5;129;01mnot\u001B[39;00m \u001B[38;5;28;01mNone\u001B[39;00m:\n\u001B[32m   1590\u001B[39m             m, c = tq\n",
      "\u001B[36mFile \u001B[39m\u001B[32m~/PycharmProjects/Research/.venv/lib/python3.13/site-packages/sympy/polys/rings.py:1863\u001B[39m, in \u001B[36mPolyElement.LT\u001B[39m\u001B[34m(self)\u001B[39m\n\u001B[32m   1861\u001B[39m \u001B[38;5;129m@property\u001B[39m\n\u001B[32m   1862\u001B[39m \u001B[38;5;28;01mdef\u001B[39;00m\u001B[38;5;250m \u001B[39m\u001B[34mLT\u001B[39m(\u001B[38;5;28mself\u001B[39m):\n\u001B[32m-> \u001B[39m\u001B[32m1863\u001B[39m     expv = \u001B[38;5;28;43mself\u001B[39;49m\u001B[43m.\u001B[49m\u001B[43mleading_expv\u001B[49m\u001B[43m(\u001B[49m\u001B[43m)\u001B[49m\n\u001B[32m   1864\u001B[39m     \u001B[38;5;28;01mif\u001B[39;00m expv \u001B[38;5;129;01mis\u001B[39;00m \u001B[38;5;28;01mNone\u001B[39;00m:\n\u001B[32m   1865\u001B[39m         \u001B[38;5;28;01mreturn\u001B[39;00m (\u001B[38;5;28mself\u001B[39m.ring.zero_monom, \u001B[38;5;28mself\u001B[39m.ring.domain.zero)\n",
      "\u001B[36mFile \u001B[39m\u001B[32m~/PycharmProjects/Research/.venv/lib/python3.13/site-packages/sympy/polys/rings.py:1780\u001B[39m, in \u001B[36mPolyElement.leading_expv\u001B[39m\u001B[34m(self)\u001B[39m\n\u001B[32m   1765\u001B[39m \u001B[38;5;250m\u001B[39m\u001B[33;03m\"\"\"Leading monomial tuple according to the monomial ordering.\u001B[39;00m\n\u001B[32m   1766\u001B[39m \n\u001B[32m   1767\u001B[39m \u001B[33;03mExamples\u001B[39;00m\n\u001B[32m   (...)\u001B[39m\u001B[32m   1777\u001B[39m \n\u001B[32m   1778\u001B[39m \u001B[33;03m\"\"\"\u001B[39;00m\n\u001B[32m   1779\u001B[39m \u001B[38;5;28;01mif\u001B[39;00m \u001B[38;5;28mself\u001B[39m:\n\u001B[32m-> \u001B[39m\u001B[32m1780\u001B[39m     \u001B[38;5;28;01mreturn\u001B[39;00m \u001B[38;5;28;43mself\u001B[39;49m\u001B[43m.\u001B[49m\u001B[43mring\u001B[49m\u001B[43m.\u001B[49m\u001B[43mleading_expv\u001B[49m\u001B[43m(\u001B[49m\u001B[38;5;28;43mself\u001B[39;49m\u001B[43m)\u001B[49m\n\u001B[32m   1781\u001B[39m \u001B[38;5;28;01melse\u001B[39;00m:\n\u001B[32m   1782\u001B[39m     \u001B[38;5;28;01mreturn\u001B[39;00m \u001B[38;5;28;01mNone\u001B[39;00m\n",
      "\u001B[31mKeyboardInterrupt\u001B[39m: "
     ]
    }
   ],
   "execution_count": 29
  }
 ],
 "metadata": {
  "kernelspec": {
   "display_name": "Python 3",
   "language": "python",
   "name": "python3"
  },
  "language_info": {
   "codemirror_mode": {
    "name": "ipython",
    "version": 2
   },
   "file_extension": ".py",
   "mimetype": "text/x-python",
   "name": "python",
   "nbconvert_exporter": "python",
   "pygments_lexer": "ipython2",
   "version": "2.7.6"
  }
 },
 "nbformat": 4,
 "nbformat_minor": 5
}
